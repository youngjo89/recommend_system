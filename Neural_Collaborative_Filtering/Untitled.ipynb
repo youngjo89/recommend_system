{
 "cells": [
  {
   "cell_type": "code",
   "execution_count": null,
   "metadata": {},
   "outputs": [],
   "source": [
    "# 논문 : neural collaborative filtering"
   ]
  },
  {
   "cell_type": "code",
   "execution_count": null,
   "metadata": {},
   "outputs": [],
   "source": [
    "몇년간 speech recognition, computer vision, nlp 분야에서는 딥러닝에 대한 연구가 활발했지만\n",
    "추천시스템에서는 딱히 딥러닝이 활용되지 않았었음\n",
    "모델의 input으로 들어가는 item정보등에 딥러닝을 활용했지만 user-item interaction은 MF나 inner product를 씀.."
   ]
  },
  {
   "cell_type": "code",
   "execution_count": null,
   "metadata": {},
   "outputs": [],
   "source": [
    "이 논문에서는 user - item interaction을 학습하는데 multi-layer perceptron을 활용함..\n",
    "matrix factorization은 mlp의 특수한 case중 하나이며, mlp로 mf를 일반화하고 표현할수있음"
   ]
  },
  {
   "cell_type": "code",
   "execution_count": null,
   "metadata": {},
   "outputs": [],
   "source": [
    "개인화 추천의 key는 과거 user-item interaction에 기반하여 user의 item에대한 선호도를 모델링하는것..\n",
    "mf는 가장 유명한것이고, user와 item을 공유되는 latent space에 투영시키는것..\n",
    "\n",
    "mf의 효율성에도 불구하고 mf의 interaction function(inner product)때문에 mf의 performance는 방해받는다..\n",
    "(inner product가 아닌 것을 사용할 수 있다면 더좋은 performance를 낼 수 있다는 뜻으로 이해함)\n",
    "\n",
    "-> inner product는 단순히 latent feature들의 곱을 linear하게 합친거기때문에 user-item interaction의 복잡성을\n",
    "설명하기에는 다소 부족함이 있다고 설명하였음\n",
    "\n",
    "최근 발전으로 DNN이 item의 정보를 모델링하는데 활용되었음\n",
    "-> textual description of items, audio features of music 등등..\n",
    "\n",
    "이 논문에서는 implicit feedback에 집중하였는데.. 영상을 보거나 상품을 사거나 아이템을 클릭하는등의 행위\n",
    "\n",
    "explicit feedback과 달리 implicit feedback은 자동적으로 추적가능하고 훨씬 수집하기가 쉬움\n",
    "하지만 활용하기는 어려움\n",
    "-> user의 만족도에 대한 내용이 없고 negative feedback이 부족하기 때문"
   ]
  },
  {
   "cell_type": "code",
   "execution_count": null,
   "metadata": {},
   "outputs": [],
   "source": [
    "main contributions\n",
    "\n",
    "1. nn architecture를 user와 item의 latent feature를 모델링하는데 활용하고 NCF(Neural Collaborative Filtering)\n",
    "제안\n",
    "\n",
    "2. MF는 NCF의 특별한 케이스로 해석가능함을 보이고 NCF모델링에 high-level non-linearity를 부여하기위해 활용\n",
    "\n",
    "3. 2개의 real-world 데이터에 적용해보고 ncf의 효율성을 선보임"
   ]
  },
  {
   "cell_type": "code",
   "execution_count": null,
   "metadata": {},
   "outputs": [],
   "source": [
    "user-item matrix Y를 정의하는데 y_ui가 1이면 interaction이 있는경우, 0이면 없는경우..\n",
    "\n",
    "1이라고 해서 item을 선호하는것은 아니고 0이라고해서 비선호가 아니다..\n",
    "interaction 그 자체의 유무를 나타내는것.."
   ]
  },
  {
   "cell_type": "code",
   "execution_count": null,
   "metadata": {},
   "outputs": [],
   "source": []
  },
  {
   "cell_type": "code",
   "execution_count": null,
   "metadata": {},
   "outputs": [],
   "source": []
  },
  {
   "cell_type": "code",
   "execution_count": null,
   "metadata": {},
   "outputs": [],
   "source": []
  },
  {
   "cell_type": "code",
   "execution_count": null,
   "metadata": {},
   "outputs": [],
   "source": []
  },
  {
   "cell_type": "code",
   "execution_count": null,
   "metadata": {},
   "outputs": [],
   "source": []
  },
  {
   "cell_type": "code",
   "execution_count": null,
   "metadata": {},
   "outputs": [],
   "source": []
  },
  {
   "cell_type": "code",
   "execution_count": null,
   "metadata": {},
   "outputs": [],
   "source": []
  },
  {
   "cell_type": "code",
   "execution_count": null,
   "metadata": {},
   "outputs": [],
   "source": []
  },
  {
   "cell_type": "code",
   "execution_count": null,
   "metadata": {},
   "outputs": [],
   "source": []
  }
 ],
 "metadata": {
  "kernelspec": {
   "display_name": "Python 3",
   "language": "python",
   "name": "python3"
  },
  "language_info": {
   "codemirror_mode": {
    "name": "ipython",
    "version": 3
   },
   "file_extension": ".py",
   "mimetype": "text/x-python",
   "name": "python",
   "nbconvert_exporter": "python",
   "pygments_lexer": "ipython3",
   "version": "3.7.6"
  },
  "toc": {
   "base_numbering": 1,
   "nav_menu": {},
   "number_sections": true,
   "sideBar": true,
   "skip_h1_title": false,
   "title_cell": "Table of Contents",
   "title_sidebar": "Contents",
   "toc_cell": false,
   "toc_position": {},
   "toc_section_display": true,
   "toc_window_display": false
  },
  "varInspector": {
   "cols": {
    "lenName": 16,
    "lenType": 16,
    "lenVar": 40
   },
   "kernels_config": {
    "python": {
     "delete_cmd_postfix": "",
     "delete_cmd_prefix": "del ",
     "library": "var_list.py",
     "varRefreshCmd": "print(var_dic_list())"
    },
    "r": {
     "delete_cmd_postfix": ") ",
     "delete_cmd_prefix": "rm(",
     "library": "var_list.r",
     "varRefreshCmd": "cat(var_dic_list()) "
    }
   },
   "types_to_exclude": [
    "module",
    "function",
    "builtin_function_or_method",
    "instance",
    "_Feature"
   ],
   "window_display": false
  }
 },
 "nbformat": 4,
 "nbformat_minor": 4
}
