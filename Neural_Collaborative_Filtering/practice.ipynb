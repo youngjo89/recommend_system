{
 "cells": [
  {
   "cell_type": "code",
   "execution_count": 1,
   "metadata": {
    "ExecuteTime": {
     "end_time": "2020-08-03T02:22:31.133499Z",
     "start_time": "2020-08-03T02:22:29.553111Z"
    }
   },
   "outputs": [],
   "source": [
    "import tensorflow.keras as keras"
   ]
  },
  {
   "cell_type": "code",
   "execution_count": 3,
   "metadata": {
    "ExecuteTime": {
     "end_time": "2020-08-03T02:22:44.191723Z",
     "start_time": "2020-08-03T02:22:44.184741Z"
    }
   },
   "outputs": [
    {
     "data": {
      "text/plain": [
       "'2.2.4-tf'"
      ]
     },
     "execution_count": 3,
     "metadata": {},
     "output_type": "execute_result"
    }
   ],
   "source": [
    "keras.__version__"
   ]
  },
  {
   "cell_type": "code",
   "execution_count": null,
   "metadata": {},
   "outputs": [],
   "source": [
    "regs = [0, 0]"
   ]
  },
  {
   "cell_type": "code",
   "execution_count": 9,
   "metadata": {
    "ExecuteTime": {
     "end_time": "2020-08-03T05:40:50.917234Z",
     "start_time": "2020-08-03T05:40:50.900278Z"
    }
   },
   "outputs": [
    {
     "ename": "NameError",
     "evalue": "name 'regs' is not defined",
     "output_type": "error",
     "traceback": [
      "\u001b[1;31m---------------------------------------------------------------------------\u001b[0m",
      "\u001b[1;31mNameError\u001b[0m                                 Traceback (most recent call last)",
      "\u001b[1;32m<ipython-input-9-a08316303024>\u001b[0m in \u001b[0;36m<module>\u001b[1;34m\u001b[0m\n\u001b[0;32m      9\u001b[0m                                         \u001b[0mname\u001b[0m \u001b[1;33m=\u001b[0m \u001b[1;34m\"user_embedding\"\u001b[0m\u001b[1;33m,\u001b[0m\u001b[1;33m\u001b[0m\u001b[1;33m\u001b[0m\u001b[0m\n\u001b[0;32m     10\u001b[0m                                         \u001b[0membeddings_initalizer\u001b[0m \u001b[1;33m=\u001b[0m \u001b[1;34m\"uniform\"\u001b[0m\u001b[1;33m,\u001b[0m\u001b[1;33m\u001b[0m\u001b[1;33m\u001b[0m\u001b[0m\n\u001b[1;32m---> 11\u001b[1;33m                                         \u001b[0membeddings_regularizer\u001b[0m \u001b[1;33m=\u001b[0m \u001b[1;36m12\u001b[0m \u001b[1;33m*\u001b[0m \u001b[0mregs\u001b[0m\u001b[1;33m[\u001b[0m\u001b[1;36m0\u001b[0m\u001b[1;33m]\u001b[0m\u001b[1;33m,\u001b[0m\u001b[1;33m\u001b[0m\u001b[1;33m\u001b[0m\u001b[0m\n\u001b[0m\u001b[0;32m     12\u001b[0m                                         input_length = 1)\n\u001b[0;32m     13\u001b[0m \u001b[1;33m\u001b[0m\u001b[0m\n",
      "\u001b[1;31mNameError\u001b[0m: name 'regs' is not defined"
     ]
    }
   ],
   "source": [
    "# gmf\n",
    "# user, item을 동일한 size의 latent space로.. embedding..후 element wise product..\n",
    "user_input = keras.layers.Input(shape = (1,), dtype = \"int32\", name = \"user_input\")\n",
    "item_input = keras.layers.Input(shape = (1,), dtype = \"int32\", name = \"item_input\")\n",
    "\n",
    "\n",
    "user_embedding = keras.layers.Embedding(input_dim = user_num,\n",
    "                                        output_dim = latent_dim,\n",
    "                                        name = \"user_embedding\",\n",
    "                                        embeddings_initalizer = \"uniform\",\n",
    "                                        embeddings_regularizer = 12 * regs[0],\n",
    "                                        input_length = 1)\n",
    "\n",
    "item_embedding = keras.layers.Embedding(input_dim = item_num,\n",
    "                                        output_dim = latent_dim,\n",
    "                                        name = \"item_embedding\",\n",
    "                                        embeddings_initalizer = \"uniform\",\n",
    "                                        embeddings_regularizer = 12 * regs[1],\n",
    "                                        input_length = 1)\n",
    "\n",
    "user_latent = keras.layers.Flatten()(user_embedding(user_input))\n",
    "item_latent = keras.layers.Flatten()(item_embedding(item_input))\n",
    "\n",
    "element_wise_product = keras.layers.multiply([user_latent, item_latent])\n",
    "\n",
    "prediction = keras.layers.Dense(1,\n",
    "                                activation = \"sigmoid\",\n",
    "                                kernel_initializer = \"lecun_uniform\",\n",
    "                                name = \"prediction\")(element_wise_product)\n",
    "\n",
    "model = keras.models.Model(input = [user_input, item_input],\n",
    "                           output = prediction)"
   ]
  },
  {
   "cell_type": "code",
   "execution_count": 12,
   "metadata": {
    "ExecuteTime": {
     "end_time": "2020-08-03T06:31:36.702491Z",
     "start_time": "2020-08-03T06:31:36.696504Z"
    }
   },
   "outputs": [
    {
     "data": {
      "text/plain": [
       "<tf.Tensor 'multiply/Identity:0' shape=(None, 1) dtype=int32>"
      ]
     },
     "execution_count": 12,
     "metadata": {},
     "output_type": "execute_result"
    }
   ],
   "source": [
    "keras.layers.multiply([user_input, item_input])"
   ]
  },
  {
   "cell_type": "code",
   "execution_count": null,
   "metadata": {},
   "outputs": [],
   "source": []
  },
  {
   "cell_type": "code",
   "execution_count": null,
   "metadata": {},
   "outputs": [],
   "source": []
  },
  {
   "cell_type": "code",
   "execution_count": null,
   "metadata": {},
   "outputs": [],
   "source": []
  },
  {
   "cell_type": "code",
   "execution_count": null,
   "metadata": {},
   "outputs": [],
   "source": []
  },
  {
   "cell_type": "code",
   "execution_count": null,
   "metadata": {},
   "outputs": [],
   "source": []
  },
  {
   "cell_type": "code",
   "execution_count": null,
   "metadata": {},
   "outputs": [],
   "source": []
  },
  {
   "cell_type": "code",
   "execution_count": null,
   "metadata": {},
   "outputs": [],
   "source": []
  },
  {
   "cell_type": "code",
   "execution_count": null,
   "metadata": {},
   "outputs": [],
   "source": []
  },
  {
   "cell_type": "code",
   "execution_count": null,
   "metadata": {},
   "outputs": [],
   "source": []
  }
 ],
 "metadata": {
  "kernelspec": {
   "display_name": "Python 3",
   "language": "python",
   "name": "python3"
  },
  "language_info": {
   "codemirror_mode": {
    "name": "ipython",
    "version": 3
   },
   "file_extension": ".py",
   "mimetype": "text/x-python",
   "name": "python",
   "nbconvert_exporter": "python",
   "pygments_lexer": "ipython3",
   "version": "3.7.6"
  },
  "toc": {
   "base_numbering": 1,
   "nav_menu": {},
   "number_sections": true,
   "sideBar": true,
   "skip_h1_title": false,
   "title_cell": "Table of Contents",
   "title_sidebar": "Contents",
   "toc_cell": false,
   "toc_position": {},
   "toc_section_display": true,
   "toc_window_display": false
  },
  "varInspector": {
   "cols": {
    "lenName": 16,
    "lenType": 16,
    "lenVar": 40
   },
   "kernels_config": {
    "python": {
     "delete_cmd_postfix": "",
     "delete_cmd_prefix": "del ",
     "library": "var_list.py",
     "varRefreshCmd": "print(var_dic_list())"
    },
    "r": {
     "delete_cmd_postfix": ") ",
     "delete_cmd_prefix": "rm(",
     "library": "var_list.r",
     "varRefreshCmd": "cat(var_dic_list()) "
    }
   },
   "types_to_exclude": [
    "module",
    "function",
    "builtin_function_or_method",
    "instance",
    "_Feature"
   ],
   "window_display": false
  }
 },
 "nbformat": 4,
 "nbformat_minor": 4
}
