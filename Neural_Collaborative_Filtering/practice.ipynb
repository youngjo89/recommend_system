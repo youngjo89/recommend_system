{
 "cells": [
  {
   "cell_type": "code",
   "execution_count": 1,
   "metadata": {
    "ExecuteTime": {
     "end_time": "2020-08-03T02:22:31.133499Z",
     "start_time": "2020-08-03T02:22:29.553111Z"
    }
   },
   "outputs": [],
   "source": [
    "import tensorflow.keras as keras"
   ]
  },
  {
   "cell_type": "code",
   "execution_count": 3,
   "metadata": {
    "ExecuteTime": {
     "end_time": "2020-08-03T02:22:44.191723Z",
     "start_time": "2020-08-03T02:22:44.184741Z"
    }
   },
   "outputs": [
    {
     "data": {
      "text/plain": [
       "'2.2.4-tf'"
      ]
     },
     "execution_count": 3,
     "metadata": {},
     "output_type": "execute_result"
    }
   ],
   "source": [
    "keras.__version__"
   ]
  },
  {
   "cell_type": "code",
   "execution_count": 41,
   "metadata": {
    "ExecuteTime": {
     "end_time": "2020-08-03T08:20:17.814300Z",
     "start_time": "2020-08-03T08:20:17.810312Z"
    }
   },
   "outputs": [],
   "source": [
    "epochs = 20\n",
    "batch_size = 256\n",
    "learning_rate = 0.001\n",
    "\n",
    "latent_dim = 8\n",
    "item_num=100\n",
    "# regs = [0, 0]"
   ]
  },
  {
   "cell_type": "code",
   "execution_count": 44,
   "metadata": {
    "ExecuteTime": {
     "end_time": "2020-08-03T08:20:53.895389Z",
     "start_time": "2020-08-03T08:20:53.851395Z"
    }
   },
   "outputs": [],
   "source": [
    "# gmf\n",
    "# user, item을 동일한 size의 latent space로.. embedding..후 element wise product..\n",
    "user_input = keras.layers.Input(shape = (1,), dtype = \"int32\", name = \"user_input\")\n",
    "item_input = keras.layers.Input(shape = (1,), dtype = \"int32\", name = \"item_input\")\n",
    "\n",
    "\n",
    "user_embedding = keras.layers.Embedding(input_dim = user_num,\n",
    "                                        output_dim = latent_dim,\n",
    "                                        name = \"user_embedding\",\n",
    "                                        embeddings_initializer = \"uniform\",\n",
    "#                                         embeddings_regularizer = 0,\n",
    "                                        input_length = 1)\n",
    "\n",
    "item_embedding = keras.layers.Embedding(input_dim = item_num,\n",
    "                                        output_dim = latent_dim,\n",
    "                                        name = \"item_embedding\",\n",
    "                                        embeddings_initializer = \"uniform\",\n",
    "#                                         embeddings_regularizer = 0,\n",
    "                                        input_length = 1)\n",
    "\n",
    "user_latent = keras.layers.Flatten()(user_embedding(user_input))\n",
    "item_latent = keras.layers.Flatten()(item_embedding(item_input))\n",
    "\n",
    "element_wise_product = keras.layers.multiply([user_latent, item_latent])\n",
    "\n",
    "prediction = keras.layers.Dense(1,\n",
    "                                activation = \"sigmoid\",\n",
    "                                kernel_initializer = \"lecun_uniform\",\n",
    "                                name = \"prediction\")(element_wise_product)\n",
    "\n",
    "model = keras.models.Model(inputs = [user_input, item_input],\n",
    "                           outputs = prediction)"
   ]
  },
  {
   "cell_type": "code",
   "execution_count": 45,
   "metadata": {
    "ExecuteTime": {
     "end_time": "2020-08-03T08:20:54.686502Z",
     "start_time": "2020-08-03T08:20:54.682513Z"
    },
    "scrolled": true
   },
   "outputs": [
    {
     "name": "stdout",
     "output_type": "stream",
     "text": [
      "Model: \"model\"\n",
      "__________________________________________________________________________________________________\n",
      "Layer (type)                    Output Shape         Param #     Connected to                     \n",
      "==================================================================================================\n",
      "user_input (InputLayer)         [(None, 1)]          0                                            \n",
      "__________________________________________________________________________________________________\n",
      "item_input (InputLayer)         [(None, 1)]          0                                            \n",
      "__________________________________________________________________________________________________\n",
      "user_embedding (Embedding)      (None, 1, 8)         800         user_input[0][0]                 \n",
      "__________________________________________________________________________________________________\n",
      "item_embedding (Embedding)      (None, 1, 8)         800         item_input[0][0]                 \n",
      "__________________________________________________________________________________________________\n",
      "flatten_4 (Flatten)             (None, 8)            0           user_embedding[0][0]             \n",
      "__________________________________________________________________________________________________\n",
      "flatten_5 (Flatten)             (None, 8)            0           item_embedding[0][0]             \n",
      "__________________________________________________________________________________________________\n",
      "multiply_2 (Multiply)           (None, 8)            0           flatten_4[0][0]                  \n",
      "                                                                 flatten_5[0][0]                  \n",
      "__________________________________________________________________________________________________\n",
      "prediction (Dense)              (None, 1)            9           multiply_2[0][0]                 \n",
      "==================================================================================================\n",
      "Total params: 1,609\n",
      "Trainable params: 1,609\n",
      "Non-trainable params: 0\n",
      "__________________________________________________________________________________________________\n"
     ]
    }
   ],
   "source": [
    "model.summary()"
   ]
  },
  {
   "cell_type": "code",
   "execution_count": null,
   "metadata": {},
   "outputs": [],
   "source": []
  },
  {
   "cell_type": "code",
   "execution_count": null,
   "metadata": {},
   "outputs": [],
   "source": []
  },
  {
   "cell_type": "code",
   "execution_count": null,
   "metadata": {},
   "outputs": [],
   "source": []
  },
  {
   "cell_type": "code",
   "execution_count": null,
   "metadata": {},
   "outputs": [],
   "source": []
  },
  {
   "cell_type": "code",
   "execution_count": null,
   "metadata": {},
   "outputs": [],
   "source": []
  }
 ],
 "metadata": {
  "kernelspec": {
   "display_name": "Python 3",
   "language": "python",
   "name": "python3"
  },
  "language_info": {
   "codemirror_mode": {
    "name": "ipython",
    "version": 3
   },
   "file_extension": ".py",
   "mimetype": "text/x-python",
   "name": "python",
   "nbconvert_exporter": "python",
   "pygments_lexer": "ipython3",
   "version": "3.7.6"
  },
  "toc": {
   "base_numbering": 1,
   "nav_menu": {},
   "number_sections": true,
   "sideBar": true,
   "skip_h1_title": false,
   "title_cell": "Table of Contents",
   "title_sidebar": "Contents",
   "toc_cell": false,
   "toc_position": {},
   "toc_section_display": true,
   "toc_window_display": false
  },
  "varInspector": {
   "cols": {
    "lenName": 16,
    "lenType": 16,
    "lenVar": 40
   },
   "kernels_config": {
    "python": {
     "delete_cmd_postfix": "",
     "delete_cmd_prefix": "del ",
     "library": "var_list.py",
     "varRefreshCmd": "print(var_dic_list())"
    },
    "r": {
     "delete_cmd_postfix": ") ",
     "delete_cmd_prefix": "rm(",
     "library": "var_list.r",
     "varRefreshCmd": "cat(var_dic_list()) "
    }
   },
   "types_to_exclude": [
    "module",
    "function",
    "builtin_function_or_method",
    "instance",
    "_Feature"
   ],
   "window_display": false
  }
 },
 "nbformat": 4,
 "nbformat_minor": 4
}
