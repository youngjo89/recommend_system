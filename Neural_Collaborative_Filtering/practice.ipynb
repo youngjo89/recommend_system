{
 "cells": [
  {
   "cell_type": "code",
   "execution_count": 1,
   "metadata": {
    "ExecuteTime": {
     "end_time": "2020-08-04T05:17:18.609548Z",
     "start_time": "2020-08-04T05:17:16.258211Z"
    }
   },
   "outputs": [],
   "source": [
    "import tensorflow.keras as keras"
   ]
  },
  {
   "cell_type": "code",
   "execution_count": 2,
   "metadata": {
    "ExecuteTime": {
     "end_time": "2020-08-04T05:17:18.646428Z",
     "start_time": "2020-08-04T05:17:18.639475Z"
    }
   },
   "outputs": [
    {
     "data": {
      "text/plain": [
       "'2.2.4-tf'"
      ]
     },
     "execution_count": 2,
     "metadata": {},
     "output_type": "execute_result"
    }
   ],
   "source": [
    "keras.__version__"
   ]
  },
  {
   "cell_type": "code",
   "execution_count": 3,
   "metadata": {
    "ExecuteTime": {
     "end_time": "2020-08-04T05:17:18.663410Z",
     "start_time": "2020-08-04T05:17:18.660391Z"
    }
   },
   "outputs": [],
   "source": [
    "epochs = 20\n",
    "batch_size = 256\n",
    "learning_rate = 0.001\n",
    "\n",
    "# for gmf\n",
    "latent_dim = 8\n",
    "\n",
    "# for mlp\n",
    "embedding_size = 64\n",
    "\n",
    "# regs = [0, 0]\n",
    "\n",
    "# 모델 확인용.. data를 실제로 넣어서 학습할때는 없애야함.\n",
    "user_num = 100\n",
    "item_num = 100"
   ]
  },
  {
   "cell_type": "code",
   "execution_count": 4,
   "metadata": {
    "ExecuteTime": {
     "end_time": "2020-08-04T05:17:20.246437Z",
     "start_time": "2020-08-04T05:17:19.313371Z"
    }
   },
   "outputs": [],
   "source": [
    "# gmf\n",
    "# user, item을 동일한 size의 latent space로.. embedding..후 element wise product..\n",
    "user_input_gmf = keras.layers.Input(shape = (1,), dtype = \"int32\", name = \"user_input_gmf\")\n",
    "item_input_gmf = keras.layers.Input(shape = (1,), dtype = \"int32\", name = \"item_input_gmf\")\n",
    "\n",
    "\n",
    "user_embedding_gmf = keras.layers.Embedding(input_dim = user_num,\n",
    "                                            output_dim = latent_dim,\n",
    "                                            name = \"user_embedding_gmf\",\n",
    "#                                             embeddings_initializer = \"uniform\",\n",
    "                                            embeddings_initializer = keras.initializers.RandomNormal(mean = 0,\n",
    "                                                                                                     stddev = 0.01),\n",
    "#                                             embeddings_regularizer = 0,\n",
    "                                            input_length = 1)\n",
    "\n",
    "item_embedding_gmf = keras.layers.Embedding(input_dim = item_num,\n",
    "                                            output_dim = latent_dim,\n",
    "                                            name = \"item_embedding_gmf\",\n",
    "                                            embeddings_initializer = keras.initializers.RandomNormal(mean = 0,\n",
    "                                                                                                     stddev = 0.01),\n",
    "#                                             embeddings_regularizer = 0,\n",
    "                                            input_length = 1)\n",
    "\n",
    "user_latent_gmf = keras.layers.Flatten()(user_embedding_gmf(user_input_gmf))\n",
    "item_latent_gmf = keras.layers.Flatten()(item_embedding_gmf(item_input_gmf))\n",
    "\n",
    "element_wise_product = keras.layers.multiply([user_latent_gmf, item_latent_gmf])\n",
    "\n",
    "prediction_gmf = keras.layers.Dense(1,\n",
    "                                    activation = \"sigmoid\",\n",
    "                                    kernel_initializer = \"lecun_uniform\",\n",
    "                                    name = \"prediction\")(element_wise_product)\n",
    "\n",
    "model_gmf = keras.models.Model(inputs = [user_input_gmf, item_input_gmf],\n",
    "                               outputs = prediction_gmf)"
   ]
  },
  {
   "cell_type": "code",
   "execution_count": 5,
   "metadata": {
    "ExecuteTime": {
     "end_time": "2020-08-04T05:17:22.214904Z",
     "start_time": "2020-08-04T05:17:22.210914Z"
    },
    "scrolled": true
   },
   "outputs": [
    {
     "name": "stdout",
     "output_type": "stream",
     "text": [
      "Model: \"model\"\n",
      "__________________________________________________________________________________________________\n",
      "Layer (type)                    Output Shape         Param #     Connected to                     \n",
      "==================================================================================================\n",
      "user_input_gmf (InputLayer)     [(None, 1)]          0                                            \n",
      "__________________________________________________________________________________________________\n",
      "item_input_gmf (InputLayer)     [(None, 1)]          0                                            \n",
      "__________________________________________________________________________________________________\n",
      "user_embedding_gmf (Embedding)  (None, 1, 8)         800         user_input_gmf[0][0]             \n",
      "__________________________________________________________________________________________________\n",
      "item_embedding_gmf (Embedding)  (None, 1, 8)         800         item_input_gmf[0][0]             \n",
      "__________________________________________________________________________________________________\n",
      "flatten (Flatten)               (None, 8)            0           user_embedding_gmf[0][0]         \n",
      "__________________________________________________________________________________________________\n",
      "flatten_1 (Flatten)             (None, 8)            0           item_embedding_gmf[0][0]         \n",
      "__________________________________________________________________________________________________\n",
      "multiply (Multiply)             (None, 8)            0           flatten[0][0]                    \n",
      "                                                                 flatten_1[0][0]                  \n",
      "__________________________________________________________________________________________________\n",
      "prediction (Dense)              (None, 1)            9           multiply[0][0]                   \n",
      "==================================================================================================\n",
      "Total params: 1,609\n",
      "Trainable params: 1,609\n",
      "Non-trainable params: 0\n",
      "__________________________________________________________________________________________________\n"
     ]
    }
   ],
   "source": [
    "model_gmf.summary()"
   ]
  },
  {
   "cell_type": "code",
   "execution_count": 15,
   "metadata": {
    "ExecuteTime": {
     "end_time": "2020-08-04T06:53:44.776829Z",
     "start_time": "2020-08-04T06:53:44.722840Z"
    },
    "scrolled": true
   },
   "outputs": [],
   "source": [
    "# mlp\n",
    "# user, item을 임베딩한후..concat, mlp layer 통과후 prediction 추출\n",
    "\n",
    "user_input_mlp = keras.layers.Input(shape = (1,), dtype = \"int32\", name = \"user_input_mlp\")\n",
    "item_input_mlp = keras.layers.Input(shape = (1,), dtype = \"int32\", name = \"item_input_mlp\")\n",
    "\n",
    "user_embedding_mlp = keras.layers.Embedding(input_dim = user_num,\n",
    "                                            output_dim = int(embedding_size / 2),\n",
    "                                            name = \"user_embedding_mlp\",\n",
    "                                            embeddings_initializer = keras.initializers.RandomNormal(mean = 0,\n",
    "                                                                                                     stddev = 0.01),\n",
    "#                                             embeddings_regularizer = 0,\n",
    "                                            input_length = 1)\n",
    "\n",
    "item_embedding_mlp = keras.layers.Embedding(input_dim = item_num,\n",
    "                                            output_dim = int(embedding_size / 2),\n",
    "                                            name = \"item_embedding_mlp\",\n",
    "                                            embeddings_initializer = keras.initializers.RandomNormal(mean = 0,\n",
    "                                                                                                     stddev = 0.01),\n",
    "#                                             embeddings_regularizer = 0,\n",
    "                                            input_length = 1)\n",
    "\n",
    "user_latent_mlp = keras.layers.Flatten()(user_embedding_mlp(user_input_mlp)) # 32\n",
    "item_latent_mlp = keras.layers.Flatten()(item_embedding_mlp(item_input_mlp)) # 32\n",
    "\n",
    "concat = keras.layers.concatenate([user_latent_mlp, item_latent_mlp]) # 64\n",
    "\n",
    "mlp_1 = keras.layers.Dense(units = embedding_size / 2, activation = \"relu\", name = \"mlp_1\")(concat)\n",
    "mlp_2 = keras.layers.Dense(units = embedding_size / 4, activation = \"relu\", name = \"mlp_2\")(mlp_1)\n",
    "mlp_3 = keras.layers.Dense(units = embedding_size / 8, activation = \"relu\", name = \"mlp_3\")(mlp_2)\n",
    "\n",
    "prediction_mlp = keras.layers.Dense(1,\n",
    "                                    activation = \"sigmoid\",\n",
    "                                    kernel_initializer = \"lecun_uniform\",\n",
    "                                    name = \"prediction_mlp\")(mlp_3)\n",
    "\n",
    "model_mlp = keras.models.Model(inputs = [user_input_mlp, item_input_mlp],\n",
    "                               outputs = prediction_mlp)"
   ]
  },
  {
   "cell_type": "code",
   "execution_count": 16,
   "metadata": {
    "ExecuteTime": {
     "end_time": "2020-08-04T06:53:50.742702Z",
     "start_time": "2020-08-04T06:53:50.737718Z"
    }
   },
   "outputs": [
    {
     "name": "stdout",
     "output_type": "stream",
     "text": [
      "Model: \"model_1\"\n",
      "__________________________________________________________________________________________________\n",
      "Layer (type)                    Output Shape         Param #     Connected to                     \n",
      "==================================================================================================\n",
      "user_input_mlp (InputLayer)     [(None, 1)]          0                                            \n",
      "__________________________________________________________________________________________________\n",
      "item_input_mlp (InputLayer)     [(None, 1)]          0                                            \n",
      "__________________________________________________________________________________________________\n",
      "user_embedding_mlp (Embedding)  (None, 1, 32)        3200        user_input_mlp[0][0]             \n",
      "__________________________________________________________________________________________________\n",
      "item_embedding_mlp (Embedding)  (None, 1, 32)        3200        item_input_mlp[0][0]             \n",
      "__________________________________________________________________________________________________\n",
      "flatten_14 (Flatten)            (None, 32)           0           user_embedding_mlp[0][0]         \n",
      "__________________________________________________________________________________________________\n",
      "flatten_15 (Flatten)            (None, 32)           0           item_embedding_mlp[0][0]         \n",
      "__________________________________________________________________________________________________\n",
      "concatenate_4 (Concatenate)     (None, 64)           0           flatten_14[0][0]                 \n",
      "                                                                 flatten_15[0][0]                 \n",
      "__________________________________________________________________________________________________\n",
      "mlp_1 (Dense)                   (None, 32)           2080        concatenate_4[0][0]              \n",
      "__________________________________________________________________________________________________\n",
      "mlp_2 (Dense)                   (None, 16)           528         mlp_1[0][0]                      \n",
      "__________________________________________________________________________________________________\n",
      "mlp_3 (Dense)                   (None, 8)            136         mlp_2[0][0]                      \n",
      "__________________________________________________________________________________________________\n",
      "prediction_mlp (Dense)          (None, 1)            9           mlp_3[0][0]                      \n",
      "==================================================================================================\n",
      "Total params: 9,153\n",
      "Trainable params: 9,153\n",
      "Non-trainable params: 0\n",
      "__________________________________________________________________________________________________\n"
     ]
    }
   ],
   "source": [
    "model_mlp.summary()"
   ]
  },
  {
   "cell_type": "code",
   "execution_count": null,
   "metadata": {},
   "outputs": [],
   "source": [
    "# data를 로드해서 학습시키고.. pretrain모델을 활용 NeuMF layer를 거쳐 최종 score를 낸다."
   ]
  },
  {
   "cell_type": "code",
   "execution_count": null,
   "metadata": {},
   "outputs": [],
   "source": []
  },
  {
   "cell_type": "code",
   "execution_count": null,
   "metadata": {},
   "outputs": [],
   "source": []
  },
  {
   "cell_type": "code",
   "execution_count": null,
   "metadata": {},
   "outputs": [],
   "source": []
  },
  {
   "cell_type": "code",
   "execution_count": null,
   "metadata": {},
   "outputs": [],
   "source": []
  }
 ],
 "metadata": {
  "kernelspec": {
   "display_name": "Python 3",
   "language": "python",
   "name": "python3"
  },
  "language_info": {
   "codemirror_mode": {
    "name": "ipython",
    "version": 3
   },
   "file_extension": ".py",
   "mimetype": "text/x-python",
   "name": "python",
   "nbconvert_exporter": "python",
   "pygments_lexer": "ipython3",
   "version": "3.7.6"
  },
  "toc": {
   "base_numbering": 1,
   "nav_menu": {},
   "number_sections": true,
   "sideBar": true,
   "skip_h1_title": false,
   "title_cell": "Table of Contents",
   "title_sidebar": "Contents",
   "toc_cell": false,
   "toc_position": {},
   "toc_section_display": true,
   "toc_window_display": false
  },
  "varInspector": {
   "cols": {
    "lenName": 16,
    "lenType": 16,
    "lenVar": 40
   },
   "kernels_config": {
    "python": {
     "delete_cmd_postfix": "",
     "delete_cmd_prefix": "del ",
     "library": "var_list.py",
     "varRefreshCmd": "print(var_dic_list())"
    },
    "r": {
     "delete_cmd_postfix": ") ",
     "delete_cmd_prefix": "rm(",
     "library": "var_list.r",
     "varRefreshCmd": "cat(var_dic_list()) "
    }
   },
   "types_to_exclude": [
    "module",
    "function",
    "builtin_function_or_method",
    "instance",
    "_Feature"
   ],
   "window_display": false
  }
 },
 "nbformat": 4,
 "nbformat_minor": 4
}
