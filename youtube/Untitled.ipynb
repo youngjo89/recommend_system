{
 "cells": [
  {
   "cell_type": "code",
   "execution_count": null,
   "metadata": {},
   "outputs": [],
   "source": [
    "# 논문 : Deep Neural Networks for YouTube Recommendations"
   ]
  },
  {
   "cell_type": "code",
   "execution_count": null,
   "metadata": {},
   "outputs": [],
   "source": [
    "유튜브 추천에서 3가지 고려할점\n",
    "\n",
    "Scale - 수많은 유저와..수많은 영상들\n",
    "\n",
    "Freshness - 새롭게 업로드되는 컨텐츠들과 user들의 action에 최대한 빠르게 반응해야한다..\n",
    "\n",
    "Noise - 측정불가능한 외적인 요소, 유저 behavior의 sparsity, meta data의 저퀄리티..\n",
    "\n",
    "10억개 정도의 parameter..\n",
    "training data는 수천억..."
   ]
  },
  {
   "cell_type": "code",
   "execution_count": null,
   "metadata": {},
   "outputs": [],
   "source": [
    "system overview\n",
    "\n",
    "크게 2파트로 나뉘어짐..\n",
    "candidate generation과 ranking"
   ]
  },
  {
   "cell_type": "code",
   "execution_count": null,
   "metadata": {},
   "outputs": [],
   "source": [
    "candidate generation\n",
    "\n",
    "video embedding과 search token embedding..\n",
    "CBOW에서 아이디어를 얻음..\n",
    "embedding도 back propagation으로 학습함.\n",
    "\n",
    "candidate generation은.. extreme multicalss classification문제..\n",
    "\n",
    "학습에는 implicit feedback을 사용.. 영상을 다봤으면 positive example.\n",
    "\n",
    "negative sampling과 importance weighting도 활용..\n",
    "-> softmax classification에서 클래스의 갯수가 많아지면서 연산량이 늘어나는 문제가 있는데 그걸 해결하려고..\n",
    "\n",
    "video와 search token vector를 embedding후 average값을 단순 concat\n",
    "-> 마지막 검색어로 추천되는 것을 의도적으로 막기위해서..\n",
    "\n",
    "video의 example age개념을 추가 시켰을때 성능이 매우 큰 폭으로 향상되었다..\n",
    "\n",
    "유튜브 내부의 추천결과에서만 training example이 생성되는 것보다 다른 사이트로부터의 유입 등도 포함되는 것이\n",
    "더 좋다.. -> 유튜브 내부에서의 결과만으로 example이 생성되면 new content의 fresh함이 줄어들고, 헤비유저에 의한\n",
    "bias의 영향을 받을 수 있음\n",
    "\n",
    "추천은 next prediction(다음 영상)을 추천하는 것이 더 효과적이라는 결론.."
   ]
  },
  {
   "cell_type": "code",
   "execution_count": null,
   "metadata": {},
   "outputs": [],
   "source": [
    "ranking\n",
    "\n",
    "랭킹 모델은 input feature들을 사용하는 point-wise ranking 모델을 딥러닝으로 나타낸것.\n",
    "유저의 행동(어떤채널에서 몇개의 영상을 봤는지, 특정 주제의 영상을 본지 얼마나 지났는지 등)을 input으로 넣기\n",
    "위해 작업을 함.\n",
    "어떤 candidate generation에서 생성된 것인지, 생성될때 score는 몇인지 등도 중요함..\n",
    "\n",
    "categorical feature와 continuous feature는 거의 동등하게 활용함..(중요도를)\n",
    "\n",
    "categorical feature가 매우 많은데.. 이것은 large cardinality에서 정렬후 top N개로 줄어든다..\n",
    "-> top N after sorting based on their frequency on clicked impressions\n",
    "-> 유저가 클릭한 동영상 내에서 자주 등장한 것들 위주로 정렬한다는 얘기인듯..\n",
    "\n",
    "다만 클릭여부만으로 추천을 하면 광고영상 등 짧은 영상 위주로 추천될 가능성이 높다..\n",
    "그래서 weighted logistic regression을 활용함..\n",
    "\n",
    "positive impression sample은 시청시간에 따라 가중치가 주어지고 negative sample은 unit weight가 적용됨.\n",
    "-> 일부 블로그 리뷰에서는 unit weight가 아닌 0이라고 해놓은곳이 있는데 unit weight가 0은 아닌거같음..\n",
    "\n",
    "hidden layer의 깊이나 너비에 따라서도 loss값이 달라지는데.. 1024 relu -> 512 relu -> 256 relu일때\n",
    "loss값이 제일 작았다고 한다.."
   ]
  },
  {
   "cell_type": "code",
   "execution_count": null,
   "metadata": {},
   "outputs": [],
   "source": []
  },
  {
   "cell_type": "code",
   "execution_count": null,
   "metadata": {},
   "outputs": [],
   "source": []
  },
  {
   "cell_type": "code",
   "execution_count": null,
   "metadata": {},
   "outputs": [],
   "source": []
  },
  {
   "cell_type": "code",
   "execution_count": null,
   "metadata": {},
   "outputs": [],
   "source": []
  }
 ],
 "metadata": {
  "kernelspec": {
   "display_name": "Python 3",
   "language": "python",
   "name": "python3"
  },
  "language_info": {
   "codemirror_mode": {
    "name": "ipython",
    "version": 3
   },
   "file_extension": ".py",
   "mimetype": "text/x-python",
   "name": "python",
   "nbconvert_exporter": "python",
   "pygments_lexer": "ipython3",
   "version": "3.7.6"
  },
  "toc": {
   "base_numbering": 1,
   "nav_menu": {},
   "number_sections": true,
   "sideBar": true,
   "skip_h1_title": false,
   "title_cell": "Table of Contents",
   "title_sidebar": "Contents",
   "toc_cell": false,
   "toc_position": {},
   "toc_section_display": true,
   "toc_window_display": false
  },
  "varInspector": {
   "cols": {
    "lenName": 16,
    "lenType": 16,
    "lenVar": 40
   },
   "kernels_config": {
    "python": {
     "delete_cmd_postfix": "",
     "delete_cmd_prefix": "del ",
     "library": "var_list.py",
     "varRefreshCmd": "print(var_dic_list())"
    },
    "r": {
     "delete_cmd_postfix": ") ",
     "delete_cmd_prefix": "rm(",
     "library": "var_list.r",
     "varRefreshCmd": "cat(var_dic_list()) "
    }
   },
   "types_to_exclude": [
    "module",
    "function",
    "builtin_function_or_method",
    "instance",
    "_Feature"
   ],
   "window_display": false
  }
 },
 "nbformat": 4,
 "nbformat_minor": 4
}
