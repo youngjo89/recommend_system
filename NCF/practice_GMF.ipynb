{
 "cells": [
  {
   "cell_type": "code",
   "execution_count": null,
   "metadata": {
    "ExecuteTime": {
     "end_time": "2020-08-10T05:13:35.655903Z",
     "start_time": "2020-08-10T05:13:34.130875Z"
    }
   },
   "outputs": [],
   "source": [
    "import tensorflow.keras as keras\n",
    "\n",
    "from neural_collaborative_filtering.Dataset import Dataset"
   ]
  },
  {
   "cell_type": "code",
   "execution_count": null,
   "metadata": {
    "ExecuteTime": {
     "end_time": "2020-08-10T05:13:35.685801Z",
     "start_time": "2020-08-10T05:13:35.679818Z"
    }
   },
   "outputs": [],
   "source": [
    "keras.__version__"
   ]
  },
  {
   "cell_type": "code",
   "execution_count": null,
   "metadata": {},
   "outputs": [],
   "source": [
    "# 논문저자 코드 참고"
   ]
  },
  {
   "cell_type": "code",
   "execution_count": null,
   "metadata": {
    "ExecuteTime": {
     "end_time": "2020-08-10T05:13:36.177108Z",
     "start_time": "2020-08-10T05:13:36.170127Z"
    }
   },
   "outputs": [],
   "source": [
    "def get_train_instances(train, num_negatives):\n",
    "    user_input, item_input, labels = [],[],[]\n",
    "    num_users = train.shape[0]\n",
    "    num_items = train.shape[1]\n",
    "    for (u, i) in train.keys():\n",
    "        # positive instance\n",
    "        user_input.append(u)\n",
    "        item_input.append(i)\n",
    "        labels.append(1)\n",
    "        # negative instances\n",
    "        for t in range(num_negatives):\n",
    "            j = np.random.randint(num_items)\n",
    "            while (u, j) in train:\n",
    "                j = np.random.randint(num_items)\n",
    "            user_input.append(u)\n",
    "            item_input.append(j)\n",
    "            labels.append(0)\n",
    "    return user_input, item_input, labels"
   ]
  },
  {
   "cell_type": "code",
   "execution_count": null,
   "metadata": {
    "ExecuteTime": {
     "end_time": "2020-08-10T05:13:47.131977Z",
     "start_time": "2020-08-10T05:13:36.993635Z"
    }
   },
   "outputs": [],
   "source": [
    "dataset = Dataset(\"./neural_collaborative_filtering/Data/ml-1m\")\n",
    "train, testRatings, testNegatives = dataset.trainMatrix, dataset.testRatings, dataset.testNegatives"
   ]
  },
  {
   "cell_type": "code",
   "execution_count": null,
   "metadata": {
    "ExecuteTime": {
     "end_time": "2020-08-10T05:13:47.293519Z",
     "start_time": "2020-08-10T05:13:47.290552Z"
    }
   },
   "outputs": [],
   "source": [
    "epochs = 20\n",
    "batch_size = 256\n",
    "learning_rate = 0.001\n",
    "num_negatives = 4\n",
    "\n",
    "# for gmf\n",
    "latent_dim = 8\n",
    "\n",
    "# for mlp\n",
    "embedding_size = 64\n",
    "\n",
    "# regs = [0, 0]\n",
    "\n",
    "# 모델 확인용.. data를 실제로 넣어서 학습할때는 없애야함.\n",
    "# user_num = 100\n",
    "# item_num = 100\n",
    "user_num = train.shape[0]\n",
    "item_num = train.shape[1]"
   ]
  },
  {
   "cell_type": "code",
   "execution_count": null,
   "metadata": {
    "ExecuteTime": {
     "end_time": "2020-08-10T05:13:48.355443Z",
     "start_time": "2020-08-10T05:13:47.451125Z"
    }
   },
   "outputs": [],
   "source": [
    "# gmf\n",
    "# user, item을 동일한 size의 latent space로.. embedding..후 element wise product..\n",
    "user_input_gmf = keras.layers.Input(shape = (1,), dtype = \"int32\", name = \"user_input_gmf\")\n",
    "item_input_gmf = keras.layers.Input(shape = (1,), dtype = \"int32\", name = \"item_input_gmf\")\n",
    "\n",
    "\n",
    "user_embedding_gmf = keras.layers.Embedding(input_dim = user_num,\n",
    "                                            output_dim = latent_dim,\n",
    "                                            name = \"user_embedding_gmf\",\n",
    "#                                             embeddings_initializer = \"uniform\",\n",
    "                                            embeddings_initializer = keras.initializers.RandomNormal(mean = 0,\n",
    "                                                                                                     stddev = 0.01),\n",
    "#                                             embeddings_regularizer = 0,\n",
    "                                            input_length = 1)\n",
    "\n",
    "item_embedding_gmf = keras.layers.Embedding(input_dim = item_num,\n",
    "                                            output_dim = latent_dim,\n",
    "                                            name = \"item_embedding_gmf\",\n",
    "                                            embeddings_initializer = keras.initializers.RandomNormal(mean = 0,\n",
    "                                                                                                     stddev = 0.01),\n",
    "#                                             embeddings_regularizer = 0,\n",
    "                                            input_length = 1)\n",
    "\n",
    "user_latent_gmf = keras.layers.Flatten()(user_embedding_gmf(user_input_gmf))\n",
    "item_latent_gmf = keras.layers.Flatten()(item_embedding_gmf(item_input_gmf))\n",
    "\n",
    "element_wise_product = keras.layers.multiply([user_latent_gmf, item_latent_gmf])\n",
    "\n",
    "prediction_gmf = keras.layers.Dense(1,\n",
    "                                    activation = \"sigmoid\",\n",
    "                                    kernel_initializer = \"lecun_uniform\",\n",
    "                                    name = \"prediction_gmf\")(element_wise_product)\n",
    "\n",
    "model_gmf = keras.models.Model(inputs = [user_input_gmf, item_input_gmf],\n",
    "                               outputs = prediction_gmf)"
   ]
  },
  {
   "cell_type": "code",
   "execution_count": null,
   "metadata": {
    "ExecuteTime": {
     "end_time": "2020-08-10T05:13:48.516004Z",
     "start_time": "2020-08-10T05:13:48.512991Z"
    },
    "scrolled": true
   },
   "outputs": [],
   "source": [
    "model_gmf.summary()"
   ]
  },
  {
   "cell_type": "code",
   "execution_count": null,
   "metadata": {
    "ExecuteTime": {
     "end_time": "2020-08-10T05:13:48.746368Z",
     "start_time": "2020-08-10T05:13:48.675585Z"
    }
   },
   "outputs": [],
   "source": [
    "model_gmf.compile(optimizer = keras.optimizers.Adam(learning_rate = learning_rate),\n",
    "                  loss = \"binary_crossentropy\")"
   ]
  },
  {
   "cell_type": "code",
   "execution_count": null,
   "metadata": {
    "ExecuteTime": {
     "end_time": "2020-08-10T05:28:13.366935Z",
     "start_time": "2020-08-10T05:13:48.903966Z"
    },
    "scrolled": false
   },
   "outputs": [],
   "source": [
    "user_input, item_input, labels = get_train_instances(train, num_negatives)\n",
    "\n",
    "\n",
    "hist = model_gmf.fit([np.array(user_input), np.array(item_input)],\n",
    "                     np.array(labels),\n",
    "                     batch_size = batch_size,\n",
    "                     epochs = epochs,\n",
    "                     verbose = 1,\n",
    "                     shuffle = True)"
   ]
  },
  {
   "cell_type": "code",
   "execution_count": null,
   "metadata": {
    "ExecuteTime": {
     "end_time": "2020-08-10T05:28:14.418081Z",
     "start_time": "2020-08-10T05:28:14.407110Z"
    }
   },
   "outputs": [],
   "source": [
    "model_gmf.save_weights(filepath = \"./model/model_gmf.h5\")"
   ]
  },
  {
   "cell_type": "code",
   "execution_count": null,
   "metadata": {},
   "outputs": [],
   "source": []
  },
  {
   "cell_type": "code",
   "execution_count": null,
   "metadata": {},
   "outputs": [],
   "source": []
  },
  {
   "cell_type": "code",
   "execution_count": null,
   "metadata": {},
   "outputs": [],
   "source": []
  },
  {
   "cell_type": "code",
   "execution_count": null,
   "metadata": {},
   "outputs": [],
   "source": []
  }
 ],
 "metadata": {
  "kernelspec": {
   "display_name": "Python 3",
   "language": "python",
   "name": "python3"
  },
  "language_info": {
   "codemirror_mode": {
    "name": "ipython",
    "version": 3
   },
   "file_extension": ".py",
   "mimetype": "text/x-python",
   "name": "python",
   "nbconvert_exporter": "python",
   "pygments_lexer": "ipython3",
   "version": "3.7.6"
  },
  "toc": {
   "base_numbering": 1,
   "nav_menu": {},
   "number_sections": true,
   "sideBar": true,
   "skip_h1_title": false,
   "title_cell": "Table of Contents",
   "title_sidebar": "Contents",
   "toc_cell": false,
   "toc_position": {},
   "toc_section_display": true,
   "toc_window_display": false
  },
  "varInspector": {
   "cols": {
    "lenName": 16,
    "lenType": 16,
    "lenVar": 40
   },
   "kernels_config": {
    "python": {
     "delete_cmd_postfix": "",
     "delete_cmd_prefix": "del ",
     "library": "var_list.py",
     "varRefreshCmd": "print(var_dic_list())"
    },
    "r": {
     "delete_cmd_postfix": ") ",
     "delete_cmd_prefix": "rm(",
     "library": "var_list.r",
     "varRefreshCmd": "cat(var_dic_list()) "
    }
   },
   "types_to_exclude": [
    "module",
    "function",
    "builtin_function_or_method",
    "instance",
    "_Feature"
   ],
   "window_display": false
  }
 },
 "nbformat": 4,
 "nbformat_minor": 4
}
