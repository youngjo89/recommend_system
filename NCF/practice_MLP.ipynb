{
 "cells": [
  {
   "cell_type": "code",
   "execution_count": null,
   "metadata": {
    "ExecuteTime": {
     "end_time": "2020-08-10T04:55:09.999234Z",
     "start_time": "2020-08-10T04:55:08.507360Z"
    }
   },
   "outputs": [],
   "source": [
    "import tensorflow.keras as keras\n",
    "\n",
    "from neural_collaborative_filtering.Dataset import Dataset"
   ]
  },
  {
   "cell_type": "code",
   "execution_count": null,
   "metadata": {
    "ExecuteTime": {
     "end_time": "2020-08-10T04:55:10.033023Z",
     "start_time": "2020-08-10T04:55:10.027014Z"
    }
   },
   "outputs": [],
   "source": [
    "keras.__version__"
   ]
  },
  {
   "cell_type": "code",
   "execution_count": null,
   "metadata": {
    "ExecuteTime": {
     "end_time": "2020-08-10T04:55:10.047990Z",
     "start_time": "2020-08-10T04:55:10.041973Z"
    }
   },
   "outputs": [],
   "source": [
    "def get_train_instances(train, num_negatives):\n",
    "    user_input, item_input, labels = [],[],[]\n",
    "    num_users = train.shape[0]\n",
    "    num_items = train.shape[1]\n",
    "    for (u, i) in train.keys():\n",
    "        # positive instance\n",
    "        user_input.append(u)\n",
    "        item_input.append(i)\n",
    "        labels.append(1)\n",
    "        # negative instances\n",
    "        for t in range(num_negatives):\n",
    "            j = np.random.randint(num_items)\n",
    "            while (u, j) in train:\n",
    "                j = np.random.randint(num_items)\n",
    "            user_input.append(u)\n",
    "            item_input.append(j)\n",
    "            labels.append(0)\n",
    "    return user_input, item_input, labels"
   ]
  },
  {
   "cell_type": "code",
   "execution_count": null,
   "metadata": {
    "ExecuteTime": {
     "end_time": "2020-08-10T04:55:20.009584Z",
     "start_time": "2020-08-10T04:55:10.056933Z"
    }
   },
   "outputs": [],
   "source": [
    "dataset = Dataset(\"./neural_collaborative_filtering/Data/ml-1m\")\n",
    "train, testRatings, testNegatives = dataset.trainMatrix, dataset.testRatings, dataset.testNegatives"
   ]
  },
  {
   "cell_type": "code",
   "execution_count": null,
   "metadata": {
    "ExecuteTime": {
     "end_time": "2020-08-10T04:55:20.321772Z",
     "start_time": "2020-08-10T04:55:20.317799Z"
    }
   },
   "outputs": [],
   "source": [
    "epochs = 20\n",
    "batch_size = 256\n",
    "learning_rate = 0.001\n",
    "num_negatives = 4\n",
    "\n",
    "# for gmf\n",
    "latent_dim = 8\n",
    "\n",
    "# for mlp\n",
    "embedding_size = 64\n",
    "\n",
    "# regs = [0, 0]\n",
    "\n",
    "# 모델 확인용.. data를 실제로 넣어서 학습할때는 없애야함.\n",
    "# user_num = 100\n",
    "# item_num = 100\n",
    "user_num = train.shape[0]\n",
    "item_num = train.shape[1]"
   ]
  },
  {
   "cell_type": "code",
   "execution_count": null,
   "metadata": {
    "ExecuteTime": {
     "end_time": "2020-08-10T04:55:21.603892Z",
     "start_time": "2020-08-10T04:55:20.638553Z"
    },
    "scrolled": true
   },
   "outputs": [],
   "source": [
    "# mlp\n",
    "# user, item을 임베딩한후..concat, mlp layer 통과후 prediction 추출\n",
    "\n",
    "user_input_mlp = keras.layers.Input(shape = (1,), dtype = \"int32\", name = \"user_input_mlp\")\n",
    "item_input_mlp = keras.layers.Input(shape = (1,), dtype = \"int32\", name = \"item_input_mlp\")\n",
    "\n",
    "user_embedding_mlp = keras.layers.Embedding(input_dim = user_num,\n",
    "                                            output_dim = int(embedding_size / 2),\n",
    "                                            name = \"user_embedding_mlp\",\n",
    "                                            embeddings_initializer = keras.initializers.RandomNormal(mean = 0,\n",
    "                                                                                                     stddev = 0.01),\n",
    "#                                             embeddings_regularizer = 0,\n",
    "                                            input_length = 1)\n",
    "\n",
    "item_embedding_mlp = keras.layers.Embedding(input_dim = item_num,\n",
    "                                            output_dim = int(embedding_size / 2),\n",
    "                                            name = \"item_embedding_mlp\",\n",
    "                                            embeddings_initializer = keras.initializers.RandomNormal(mean = 0,\n",
    "                                                                                                     stddev = 0.01),\n",
    "#                                             embeddings_regularizer = 0,\n",
    "                                            input_length = 1)\n",
    "\n",
    "user_latent_mlp = keras.layers.Flatten()(user_embedding_mlp(user_input_mlp)) # 32\n",
    "item_latent_mlp = keras.layers.Flatten()(item_embedding_mlp(item_input_mlp)) # 32\n",
    "\n",
    "concat = keras.layers.concatenate([user_latent_mlp, item_latent_mlp]) # 64\n",
    "\n",
    "mlp_1 = keras.layers.Dense(units = embedding_size / 2, activation = \"relu\", name = \"mlp_1\")(concat)\n",
    "mlp_2 = keras.layers.Dense(units = embedding_size / 4, activation = \"relu\", name = \"mlp_2\")(mlp_1)\n",
    "mlp_3 = keras.layers.Dense(units = embedding_size / 8, activation = \"relu\", name = \"mlp_3\")(mlp_2)\n",
    "\n",
    "prediction_mlp = keras.layers.Dense(1,\n",
    "                                    activation = \"sigmoid\",\n",
    "                                    kernel_initializer = \"lecun_uniform\",\n",
    "                                    name = \"prediction_mlp\")(mlp_3)\n",
    "\n",
    "model_mlp = keras.models.Model(inputs = [user_input_mlp, item_input_mlp],\n",
    "                               outputs = prediction_mlp)"
   ]
  },
  {
   "cell_type": "code",
   "execution_count": null,
   "metadata": {
    "ExecuteTime": {
     "end_time": "2020-08-10T04:55:21.924384Z",
     "start_time": "2020-08-10T04:55:21.919398Z"
    }
   },
   "outputs": [],
   "source": [
    "model_mlp.summary()"
   ]
  },
  {
   "cell_type": "code",
   "execution_count": null,
   "metadata": {
    "ExecuteTime": {
     "end_time": "2020-08-10T04:55:22.271477Z",
     "start_time": "2020-08-10T04:55:22.255500Z"
    }
   },
   "outputs": [],
   "source": [
    "model_mlp.compile(optimizer = keras.optimizers.Adam(learning_rate = learning_rate),\n",
    "                  loss = \"binary_crossentropy\")"
   ]
  },
  {
   "cell_type": "code",
   "execution_count": null,
   "metadata": {
    "ExecuteTime": {
     "end_time": "2020-08-10T05:13:22.317752Z",
     "start_time": "2020-08-10T04:55:22.622517Z"
    }
   },
   "outputs": [],
   "source": [
    "user_input, item_input, labels = get_train_instances(train, num_negatives)\n",
    "\n",
    "\n",
    "hist = model_mlp.fit([np.array(user_input), np.array(item_input)],\n",
    "                     np.array(labels),\n",
    "                     batch_size = batch_size,\n",
    "                     epochs = epochs,\n",
    "                     verbose = 1,\n",
    "                     shuffle = True)"
   ]
  },
  {
   "cell_type": "code",
   "execution_count": null,
   "metadata": {
    "ExecuteTime": {
     "end_time": "2020-08-10T05:13:24.359283Z",
     "start_time": "2020-08-10T05:13:24.343335Z"
    }
   },
   "outputs": [],
   "source": [
    "model_mlp.save_weights(filepath = \"./model/model_mlp.h5\")"
   ]
  },
  {
   "cell_type": "code",
   "execution_count": null,
   "metadata": {},
   "outputs": [],
   "source": []
  },
  {
   "cell_type": "code",
   "execution_count": null,
   "metadata": {},
   "outputs": [],
   "source": []
  }
 ],
 "metadata": {
  "kernelspec": {
   "display_name": "Python 3",
   "language": "python",
   "name": "python3"
  },
  "language_info": {
   "codemirror_mode": {
    "name": "ipython",
    "version": 3
   },
   "file_extension": ".py",
   "mimetype": "text/x-python",
   "name": "python",
   "nbconvert_exporter": "python",
   "pygments_lexer": "ipython3",
   "version": "3.7.6"
  },
  "toc": {
   "base_numbering": 1,
   "nav_menu": {},
   "number_sections": true,
   "sideBar": true,
   "skip_h1_title": false,
   "title_cell": "Table of Contents",
   "title_sidebar": "Contents",
   "toc_cell": false,
   "toc_position": {},
   "toc_section_display": true,
   "toc_window_display": false
  },
  "varInspector": {
   "cols": {
    "lenName": 16,
    "lenType": 16,
    "lenVar": 40
   },
   "kernels_config": {
    "python": {
     "delete_cmd_postfix": "",
     "delete_cmd_prefix": "del ",
     "library": "var_list.py",
     "varRefreshCmd": "print(var_dic_list())"
    },
    "r": {
     "delete_cmd_postfix": ") ",
     "delete_cmd_prefix": "rm(",
     "library": "var_list.r",
     "varRefreshCmd": "cat(var_dic_list()) "
    }
   },
   "types_to_exclude": [
    "module",
    "function",
    "builtin_function_or_method",
    "instance",
    "_Feature"
   ],
   "window_display": false
  }
 },
 "nbformat": 4,
 "nbformat_minor": 4
}
