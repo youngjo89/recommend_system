{
 "cells": [
  {
   "cell_type": "code",
   "execution_count": null,
   "metadata": {},
   "outputs": [],
   "source": [
    "# 논문 Item2Vec : Neural Item Embedding for Collaborative Filtering"
   ]
  },
  {
   "cell_type": "code",
   "execution_count": null,
   "metadata": {},
   "outputs": [],
   "source": [
    "nlp 분야에서 떠오른 word2vec을 약간의 수정을 거쳐 item2vec으로 변형시켜 활용\n",
    "word2vec은 단어(word)를 vector변환하여 단어간 유사성 등을 계산..\n",
    "item간의 유사성을 구하기 위해 word2vec의 아이디어를 차용.\n",
    "-> 유저 정보가 없어도 아이템 간 유사성을 구할 수 있다는 장점"
   ]
  },
  {
   "cell_type": "code",
   "execution_count": null,
   "metadata": {},
   "outputs": [],
   "source": [
    "일반적인 cf는 user-item간 추천시스템..\n",
    "-> user정보가 없으면 추천 불가,\n",
    "\n",
    "item기반 cf를 필요로 하는 경우도 있음\n",
    "-> user숫자가 item에 비해 월등히 많을경우 user-item 관계를 구하는 것은 매우 복잡하고 오래걸림\n",
    "\n",
    "논문상에서 음원사이트 예시를 들었는데.. 유저는 수백만명 아티스트(item)은 수천명정도..\n",
    "\n",
    "NLP의 뉴럴임베딩 기법을 추천시스템에 적용하여 item2vec..!"
   ]
  },
  {
   "cell_type": "code",
   "execution_count": null,
   "metadata": {},
   "outputs": [],
   "source": [
    "Skip-gram with negative sampling(SGNS)\n",
    "문장 안에서 한 단어에 대해 그 주변의 단어를 찾을수 있는 단어 분포를 만들어 내는 방법\n",
    "\n",
    "다음 식을 최대화 하는 것을 목표로함.."
   ]
  },
  {
   "cell_type": "markdown",
   "metadata": {},
   "source": [
    "$$ {\\frac{1}{K}} {\\sum_{i=1}^K} {\\sum_{{-c}\\le{j}\\le{c},\\;{j}\\neq{0}}} {\\log p(w_{i+j}|w_i)} $$"
   ]
  },
  {
   "cell_type": "code",
   "execution_count": null,
   "metadata": {},
   "outputs": [],
   "source": [
    "softmax 함수를 계산하는데 계산량이 너무 많다.\n",
    "단어 집합 갯수가 너무 큼..\n",
    "\n",
    "-> negative sampling 활용"
   ]
  },
  {
   "cell_type": "markdown",
   "metadata": {},
   "source": [
    "$$ p(w_{j}|w_{i}) = \\sigma{(u^{T}_{i}v_j)} \\prod_{k=1}^{N} \\sigma{(-u^{T}_{i}v_k)} $$"
   ]
  },
  {
   "cell_type": "code",
   "execution_count": null,
   "metadata": {},
   "outputs": [],
   "source": [
    "negative word w_i : unigram distribution에 3/4 제곱한 값에 샘플링..\n",
    "    \n",
    "* unigram distribution : 단어가 등장하는 비율에 비례하게 확률을 설정하는 분포."
   ]
  },
  {
   "cell_type": "code",
   "execution_count": null,
   "metadata": {},
   "outputs": [],
   "source": [
    "자주 나오는 단어와 그렇지 않은 단어 사이의 차이를 해소하는 방법.."
   ]
  },
  {
   "cell_type": "code",
   "execution_count": null,
   "metadata": {},
   "outputs": [],
   "source": [
    "단어 시퀀스가 있을때 "
   ]
  },
  {
   "cell_type": "markdown",
   "metadata": {},
   "source": [
    "$$ p(discard|w) = 1 - \\sqrt{\\frac{\\rho}{f(w)}} $$"
   ]
  },
  {
   "cell_type": "code",
   "execution_count": null,
   "metadata": {},
   "outputs": [],
   "source": [
    "f(w) : 단어 w의 frequency, rho : threshold"
   ]
  },
  {
   "cell_type": "code",
   "execution_count": null,
   "metadata": {},
   "outputs": [],
   "source": [
    "Item2vec..\n",
    "\n",
    "user - item set 정보는 항상 주어지지는 않는다..\n",
    "여러 item set이 한명의 유저에 속할 수 있음.\n",
    "word <-> item은 동일한 의미..\n",
    "\n",
    "spatial/time information을 없앰.\n",
    "생성 순서와 상관없이 item set의 similarity를 구하는 것..\n",
    "spatial정보가 없어서 같은 아이템 집합을 공유하는 item pair는 positive example로 처리.\n",
    "\n",
    "item pair간 관련성은 cosine similarity"
   ]
  },
  {
   "cell_type": "code",
   "execution_count": null,
   "metadata": {},
   "outputs": [],
   "source": [
    "결과적으로 svd보다 더 좋은 아이템 분산 표현을 만들어냄..\n",
    "\n",
    "특히 unpopular한 아이템에서 더 큰 차이를 보임\n",
    "-> item2vec이 negative sampling을 사용해서.."
   ]
  }
 ],
 "metadata": {
  "kernelspec": {
   "display_name": "Python 3",
   "language": "python",
   "name": "python3"
  },
  "language_info": {
   "codemirror_mode": {
    "name": "ipython",
    "version": 3
   },
   "file_extension": ".py",
   "mimetype": "text/x-python",
   "name": "python",
   "nbconvert_exporter": "python",
   "pygments_lexer": "ipython3",
   "version": "3.7.6"
  },
  "toc": {
   "base_numbering": 1,
   "nav_menu": {},
   "number_sections": true,
   "sideBar": true,
   "skip_h1_title": false,
   "title_cell": "Table of Contents",
   "title_sidebar": "Contents",
   "toc_cell": false,
   "toc_position": {},
   "toc_section_display": true,
   "toc_window_display": false
  },
  "varInspector": {
   "cols": {
    "lenName": 16,
    "lenType": 16,
    "lenVar": 40
   },
   "kernels_config": {
    "python": {
     "delete_cmd_postfix": "",
     "delete_cmd_prefix": "del ",
     "library": "var_list.py",
     "varRefreshCmd": "print(var_dic_list())"
    },
    "r": {
     "delete_cmd_postfix": ") ",
     "delete_cmd_prefix": "rm(",
     "library": "var_list.r",
     "varRefreshCmd": "cat(var_dic_list()) "
    }
   },
   "types_to_exclude": [
    "module",
    "function",
    "builtin_function_or_method",
    "instance",
    "_Feature"
   ],
   "window_display": false
  }
 },
 "nbformat": 4,
 "nbformat_minor": 4
}
