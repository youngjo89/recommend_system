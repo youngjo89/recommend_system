{
 "cells": [
  {
   "cell_type": "code",
   "execution_count": null,
   "metadata": {},
   "outputs": [],
   "source": [
    "# data from https://www.kaggle.com/sengzhaotoo/movielens-small\n",
    "# https://yeomko.tistory.com/8 참고"
   ]
  },
  {
   "cell_type": "code",
   "execution_count": null,
   "metadata": {},
   "outputs": [],
   "source": [
    "# als를 직접 구현해보자\n",
    "# 데이터는 kaggle에서 movicelens 데이터를 가져옴.."
   ]
  },
  {
   "cell_type": "code",
   "execution_count": 76,
   "metadata": {
    "ExecuteTime": {
     "end_time": "2020-07-21T05:54:16.385880Z",
     "start_time": "2020-07-21T05:54:16.239102Z"
    }
   },
   "outputs": [],
   "source": [
    "import pandas as pd\n",
    "import numpy as np\n",
    "\n",
    "import matplotlib.pyplot as plt"
   ]
  },
  {
   "cell_type": "markdown",
   "metadata": {},
   "source": [
    "## data load"
   ]
  },
  {
   "cell_type": "code",
   "execution_count": 2,
   "metadata": {
    "ExecuteTime": {
     "end_time": "2020-07-21T01:54:03.224513Z",
     "start_time": "2020-07-21T01:54:03.188610Z"
    }
   },
   "outputs": [],
   "source": [
    "# 다른 csv파일도 있지만 둘만 있어도 충분.\n",
    "ratings = pd.read_csv(\"./data/ratings.csv\")\n",
    "movies = pd.read_csv(\"./data/movies.csv\")"
   ]
  },
  {
   "cell_type": "code",
   "execution_count": 3,
   "metadata": {
    "ExecuteTime": {
     "end_time": "2020-07-21T01:54:03.351289Z",
     "start_time": "2020-07-21T01:54:03.340319Z"
    }
   },
   "outputs": [
    {
     "data": {
      "text/html": [
       "<div>\n",
       "<style scoped>\n",
       "    .dataframe tbody tr th:only-of-type {\n",
       "        vertical-align: middle;\n",
       "    }\n",
       "\n",
       "    .dataframe tbody tr th {\n",
       "        vertical-align: top;\n",
       "    }\n",
       "\n",
       "    .dataframe thead th {\n",
       "        text-align: right;\n",
       "    }\n",
       "</style>\n",
       "<table border=\"1\" class=\"dataframe\">\n",
       "  <thead>\n",
       "    <tr style=\"text-align: right;\">\n",
       "      <th></th>\n",
       "      <th>userId</th>\n",
       "      <th>movieId</th>\n",
       "      <th>rating</th>\n",
       "      <th>timestamp</th>\n",
       "    </tr>\n",
       "  </thead>\n",
       "  <tbody>\n",
       "    <tr>\n",
       "      <th>0</th>\n",
       "      <td>1</td>\n",
       "      <td>31</td>\n",
       "      <td>2.5</td>\n",
       "      <td>1260759144</td>\n",
       "    </tr>\n",
       "    <tr>\n",
       "      <th>1</th>\n",
       "      <td>1</td>\n",
       "      <td>1029</td>\n",
       "      <td>3.0</td>\n",
       "      <td>1260759179</td>\n",
       "    </tr>\n",
       "    <tr>\n",
       "      <th>2</th>\n",
       "      <td>1</td>\n",
       "      <td>1061</td>\n",
       "      <td>3.0</td>\n",
       "      <td>1260759182</td>\n",
       "    </tr>\n",
       "    <tr>\n",
       "      <th>3</th>\n",
       "      <td>1</td>\n",
       "      <td>1129</td>\n",
       "      <td>2.0</td>\n",
       "      <td>1260759185</td>\n",
       "    </tr>\n",
       "    <tr>\n",
       "      <th>4</th>\n",
       "      <td>1</td>\n",
       "      <td>1172</td>\n",
       "      <td>4.0</td>\n",
       "      <td>1260759205</td>\n",
       "    </tr>\n",
       "  </tbody>\n",
       "</table>\n",
       "</div>"
      ],
      "text/plain": [
       "   userId  movieId  rating   timestamp\n",
       "0       1       31     2.5  1260759144\n",
       "1       1     1029     3.0  1260759179\n",
       "2       1     1061     3.0  1260759182\n",
       "3       1     1129     2.0  1260759185\n",
       "4       1     1172     4.0  1260759205"
      ]
     },
     "execution_count": 3,
     "metadata": {},
     "output_type": "execute_result"
    }
   ],
   "source": [
    "ratings.head()"
   ]
  },
  {
   "cell_type": "code",
   "execution_count": 4,
   "metadata": {
    "ExecuteTime": {
     "end_time": "2020-07-21T01:54:03.514054Z",
     "start_time": "2020-07-21T01:54:03.507101Z"
    }
   },
   "outputs": [
    {
     "data": {
      "text/html": [
       "<div>\n",
       "<style scoped>\n",
       "    .dataframe tbody tr th:only-of-type {\n",
       "        vertical-align: middle;\n",
       "    }\n",
       "\n",
       "    .dataframe tbody tr th {\n",
       "        vertical-align: top;\n",
       "    }\n",
       "\n",
       "    .dataframe thead th {\n",
       "        text-align: right;\n",
       "    }\n",
       "</style>\n",
       "<table border=\"1\" class=\"dataframe\">\n",
       "  <thead>\n",
       "    <tr style=\"text-align: right;\">\n",
       "      <th></th>\n",
       "      <th>movieId</th>\n",
       "      <th>title</th>\n",
       "      <th>genres</th>\n",
       "    </tr>\n",
       "  </thead>\n",
       "  <tbody>\n",
       "    <tr>\n",
       "      <th>0</th>\n",
       "      <td>1</td>\n",
       "      <td>Toy Story (1995)</td>\n",
       "      <td>Adventure|Animation|Children|Comedy|Fantasy</td>\n",
       "    </tr>\n",
       "    <tr>\n",
       "      <th>1</th>\n",
       "      <td>2</td>\n",
       "      <td>Jumanji (1995)</td>\n",
       "      <td>Adventure|Children|Fantasy</td>\n",
       "    </tr>\n",
       "    <tr>\n",
       "      <th>2</th>\n",
       "      <td>3</td>\n",
       "      <td>Grumpier Old Men (1995)</td>\n",
       "      <td>Comedy|Romance</td>\n",
       "    </tr>\n",
       "    <tr>\n",
       "      <th>3</th>\n",
       "      <td>4</td>\n",
       "      <td>Waiting to Exhale (1995)</td>\n",
       "      <td>Comedy|Drama|Romance</td>\n",
       "    </tr>\n",
       "    <tr>\n",
       "      <th>4</th>\n",
       "      <td>5</td>\n",
       "      <td>Father of the Bride Part II (1995)</td>\n",
       "      <td>Comedy</td>\n",
       "    </tr>\n",
       "  </tbody>\n",
       "</table>\n",
       "</div>"
      ],
      "text/plain": [
       "   movieId                               title  \\\n",
       "0        1                    Toy Story (1995)   \n",
       "1        2                      Jumanji (1995)   \n",
       "2        3             Grumpier Old Men (1995)   \n",
       "3        4            Waiting to Exhale (1995)   \n",
       "4        5  Father of the Bride Part II (1995)   \n",
       "\n",
       "                                        genres  \n",
       "0  Adventure|Animation|Children|Comedy|Fantasy  \n",
       "1                   Adventure|Children|Fantasy  \n",
       "2                               Comedy|Romance  \n",
       "3                         Comedy|Drama|Romance  \n",
       "4                                       Comedy  "
      ]
     },
     "execution_count": 4,
     "metadata": {},
     "output_type": "execute_result"
    }
   ],
   "source": [
    "movies.head()"
   ]
  },
  {
   "cell_type": "code",
   "execution_count": 6,
   "metadata": {
    "ExecuteTime": {
     "end_time": "2020-07-21T01:54:15.414748Z",
     "start_time": "2020-07-21T01:54:15.410758Z"
    }
   },
   "outputs": [
    {
     "data": {
      "text/plain": [
       "((9125, 3), (100004, 4))"
      ]
     },
     "execution_count": 6,
     "metadata": {},
     "output_type": "execute_result"
    }
   ],
   "source": [
    "movies.shape, ratings.shape"
   ]
  },
  {
   "cell_type": "code",
   "execution_count": 8,
   "metadata": {
    "ExecuteTime": {
     "end_time": "2020-07-21T01:55:15.912276Z",
     "start_time": "2020-07-21T01:55:15.907290Z"
    }
   },
   "outputs": [],
   "source": [
    "# 필요없는 column drop\n",
    "ratings.drop(labels = \"timestamp\", axis = 1, inplace = True)\n",
    "movies.drop(labels = \"genres\", axis = 1, inplace = True)"
   ]
  },
  {
   "cell_type": "code",
   "execution_count": 10,
   "metadata": {
    "ExecuteTime": {
     "end_time": "2020-07-21T01:55:57.037986Z",
     "start_time": "2020-07-21T01:55:57.019037Z"
    }
   },
   "outputs": [
    {
     "data": {
      "text/html": [
       "<div>\n",
       "<style scoped>\n",
       "    .dataframe tbody tr th:only-of-type {\n",
       "        vertical-align: middle;\n",
       "    }\n",
       "\n",
       "    .dataframe tbody tr th {\n",
       "        vertical-align: top;\n",
       "    }\n",
       "\n",
       "    .dataframe thead th {\n",
       "        text-align: right;\n",
       "    }\n",
       "</style>\n",
       "<table border=\"1\" class=\"dataframe\">\n",
       "  <thead>\n",
       "    <tr style=\"text-align: right;\">\n",
       "      <th></th>\n",
       "      <th>userId</th>\n",
       "      <th>movieId</th>\n",
       "      <th>rating</th>\n",
       "      <th>title</th>\n",
       "    </tr>\n",
       "  </thead>\n",
       "  <tbody>\n",
       "    <tr>\n",
       "      <th>0</th>\n",
       "      <td>1</td>\n",
       "      <td>31</td>\n",
       "      <td>2.5</td>\n",
       "      <td>Dangerous Minds (1995)</td>\n",
       "    </tr>\n",
       "    <tr>\n",
       "      <th>1</th>\n",
       "      <td>7</td>\n",
       "      <td>31</td>\n",
       "      <td>3.0</td>\n",
       "      <td>Dangerous Minds (1995)</td>\n",
       "    </tr>\n",
       "    <tr>\n",
       "      <th>2</th>\n",
       "      <td>31</td>\n",
       "      <td>31</td>\n",
       "      <td>4.0</td>\n",
       "      <td>Dangerous Minds (1995)</td>\n",
       "    </tr>\n",
       "    <tr>\n",
       "      <th>3</th>\n",
       "      <td>32</td>\n",
       "      <td>31</td>\n",
       "      <td>4.0</td>\n",
       "      <td>Dangerous Minds (1995)</td>\n",
       "    </tr>\n",
       "    <tr>\n",
       "      <th>4</th>\n",
       "      <td>36</td>\n",
       "      <td>31</td>\n",
       "      <td>3.0</td>\n",
       "      <td>Dangerous Minds (1995)</td>\n",
       "    </tr>\n",
       "  </tbody>\n",
       "</table>\n",
       "</div>"
      ],
      "text/plain": [
       "   userId  movieId  rating                   title\n",
       "0       1       31     2.5  Dangerous Minds (1995)\n",
       "1       7       31     3.0  Dangerous Minds (1995)\n",
       "2      31       31     4.0  Dangerous Minds (1995)\n",
       "3      32       31     4.0  Dangerous Minds (1995)\n",
       "4      36       31     3.0  Dangerous Minds (1995)"
      ]
     },
     "execution_count": 10,
     "metadata": {},
     "output_type": "execute_result"
    }
   ],
   "source": [
    "# 평점 데이터와 영화 데이터를 merge\n",
    "total_df = pd.merge(left = ratings, right = movies, on = \"movieId\")\n",
    "total_df.head()"
   ]
  },
  {
   "cell_type": "code",
   "execution_count": 19,
   "metadata": {
    "ExecuteTime": {
     "end_time": "2020-07-21T02:00:45.420517Z",
     "start_time": "2020-07-21T02:00:43.779902Z"
    }
   },
   "outputs": [],
   "source": [
    "user_movie = total_df.pivot_table(values = \"rating\",\n",
    "                                  index = \"userId\",\n",
    "                                  columns = \"movieId\",\n",
    "                                  fill_value = 0)"
   ]
  },
  {
   "cell_type": "code",
   "execution_count": 22,
   "metadata": {
    "ExecuteTime": {
     "end_time": "2020-07-21T02:09:54.007059Z",
     "start_time": "2020-07-21T02:09:53.988109Z"
    }
   },
   "outputs": [
    {
     "data": {
      "text/html": [
       "<div>\n",
       "<style scoped>\n",
       "    .dataframe tbody tr th:only-of-type {\n",
       "        vertical-align: middle;\n",
       "    }\n",
       "\n",
       "    .dataframe tbody tr th {\n",
       "        vertical-align: top;\n",
       "    }\n",
       "\n",
       "    .dataframe thead th {\n",
       "        text-align: right;\n",
       "    }\n",
       "</style>\n",
       "<table border=\"1\" class=\"dataframe\">\n",
       "  <thead>\n",
       "    <tr style=\"text-align: right;\">\n",
       "      <th>movieId</th>\n",
       "      <th>1</th>\n",
       "      <th>2</th>\n",
       "      <th>3</th>\n",
       "      <th>4</th>\n",
       "      <th>5</th>\n",
       "      <th>6</th>\n",
       "      <th>7</th>\n",
       "      <th>8</th>\n",
       "      <th>9</th>\n",
       "      <th>10</th>\n",
       "      <th>...</th>\n",
       "      <th>161084</th>\n",
       "      <th>161155</th>\n",
       "      <th>161594</th>\n",
       "      <th>161830</th>\n",
       "      <th>161918</th>\n",
       "      <th>161944</th>\n",
       "      <th>162376</th>\n",
       "      <th>162542</th>\n",
       "      <th>162672</th>\n",
       "      <th>163949</th>\n",
       "    </tr>\n",
       "    <tr>\n",
       "      <th>userId</th>\n",
       "      <th></th>\n",
       "      <th></th>\n",
       "      <th></th>\n",
       "      <th></th>\n",
       "      <th></th>\n",
       "      <th></th>\n",
       "      <th></th>\n",
       "      <th></th>\n",
       "      <th></th>\n",
       "      <th></th>\n",
       "      <th></th>\n",
       "      <th></th>\n",
       "      <th></th>\n",
       "      <th></th>\n",
       "      <th></th>\n",
       "      <th></th>\n",
       "      <th></th>\n",
       "      <th></th>\n",
       "      <th></th>\n",
       "      <th></th>\n",
       "      <th></th>\n",
       "    </tr>\n",
       "  </thead>\n",
       "  <tbody>\n",
       "    <tr>\n",
       "      <th>1</th>\n",
       "      <td>0.0</td>\n",
       "      <td>0.0</td>\n",
       "      <td>0.0</td>\n",
       "      <td>0.0</td>\n",
       "      <td>0.0</td>\n",
       "      <td>0.0</td>\n",
       "      <td>0.0</td>\n",
       "      <td>0</td>\n",
       "      <td>0</td>\n",
       "      <td>0.0</td>\n",
       "      <td>...</td>\n",
       "      <td>0.0</td>\n",
       "      <td>0.0</td>\n",
       "      <td>0</td>\n",
       "      <td>0</td>\n",
       "      <td>0.0</td>\n",
       "      <td>0</td>\n",
       "      <td>0.0</td>\n",
       "      <td>0</td>\n",
       "      <td>0</td>\n",
       "      <td>0</td>\n",
       "    </tr>\n",
       "    <tr>\n",
       "      <th>2</th>\n",
       "      <td>0.0</td>\n",
       "      <td>0.0</td>\n",
       "      <td>0.0</td>\n",
       "      <td>0.0</td>\n",
       "      <td>0.0</td>\n",
       "      <td>0.0</td>\n",
       "      <td>0.0</td>\n",
       "      <td>0</td>\n",
       "      <td>0</td>\n",
       "      <td>4.0</td>\n",
       "      <td>...</td>\n",
       "      <td>0.0</td>\n",
       "      <td>0.0</td>\n",
       "      <td>0</td>\n",
       "      <td>0</td>\n",
       "      <td>0.0</td>\n",
       "      <td>0</td>\n",
       "      <td>0.0</td>\n",
       "      <td>0</td>\n",
       "      <td>0</td>\n",
       "      <td>0</td>\n",
       "    </tr>\n",
       "    <tr>\n",
       "      <th>3</th>\n",
       "      <td>0.0</td>\n",
       "      <td>0.0</td>\n",
       "      <td>0.0</td>\n",
       "      <td>0.0</td>\n",
       "      <td>0.0</td>\n",
       "      <td>0.0</td>\n",
       "      <td>0.0</td>\n",
       "      <td>0</td>\n",
       "      <td>0</td>\n",
       "      <td>0.0</td>\n",
       "      <td>...</td>\n",
       "      <td>0.0</td>\n",
       "      <td>0.0</td>\n",
       "      <td>0</td>\n",
       "      <td>0</td>\n",
       "      <td>0.0</td>\n",
       "      <td>0</td>\n",
       "      <td>0.0</td>\n",
       "      <td>0</td>\n",
       "      <td>0</td>\n",
       "      <td>0</td>\n",
       "    </tr>\n",
       "    <tr>\n",
       "      <th>4</th>\n",
       "      <td>0.0</td>\n",
       "      <td>0.0</td>\n",
       "      <td>0.0</td>\n",
       "      <td>0.0</td>\n",
       "      <td>0.0</td>\n",
       "      <td>0.0</td>\n",
       "      <td>0.0</td>\n",
       "      <td>0</td>\n",
       "      <td>0</td>\n",
       "      <td>4.0</td>\n",
       "      <td>...</td>\n",
       "      <td>0.0</td>\n",
       "      <td>0.0</td>\n",
       "      <td>0</td>\n",
       "      <td>0</td>\n",
       "      <td>0.0</td>\n",
       "      <td>0</td>\n",
       "      <td>0.0</td>\n",
       "      <td>0</td>\n",
       "      <td>0</td>\n",
       "      <td>0</td>\n",
       "    </tr>\n",
       "    <tr>\n",
       "      <th>5</th>\n",
       "      <td>0.0</td>\n",
       "      <td>0.0</td>\n",
       "      <td>4.0</td>\n",
       "      <td>0.0</td>\n",
       "      <td>0.0</td>\n",
       "      <td>0.0</td>\n",
       "      <td>0.0</td>\n",
       "      <td>0</td>\n",
       "      <td>0</td>\n",
       "      <td>0.0</td>\n",
       "      <td>...</td>\n",
       "      <td>0.0</td>\n",
       "      <td>0.0</td>\n",
       "      <td>0</td>\n",
       "      <td>0</td>\n",
       "      <td>0.0</td>\n",
       "      <td>0</td>\n",
       "      <td>0.0</td>\n",
       "      <td>0</td>\n",
       "      <td>0</td>\n",
       "      <td>0</td>\n",
       "    </tr>\n",
       "  </tbody>\n",
       "</table>\n",
       "<p>5 rows × 9066 columns</p>\n",
       "</div>"
      ],
      "text/plain": [
       "movieId  1       2       3       4       5       6       7       8       \\\n",
       "userId                                                                    \n",
       "1           0.0     0.0     0.0     0.0     0.0     0.0     0.0       0   \n",
       "2           0.0     0.0     0.0     0.0     0.0     0.0     0.0       0   \n",
       "3           0.0     0.0     0.0     0.0     0.0     0.0     0.0       0   \n",
       "4           0.0     0.0     0.0     0.0     0.0     0.0     0.0       0   \n",
       "5           0.0     0.0     4.0     0.0     0.0     0.0     0.0       0   \n",
       "\n",
       "movieId  9       10      ...  161084  161155  161594  161830  161918  161944  \\\n",
       "userId                   ...                                                   \n",
       "1             0     0.0  ...     0.0     0.0       0       0     0.0       0   \n",
       "2             0     4.0  ...     0.0     0.0       0       0     0.0       0   \n",
       "3             0     0.0  ...     0.0     0.0       0       0     0.0       0   \n",
       "4             0     4.0  ...     0.0     0.0       0       0     0.0       0   \n",
       "5             0     0.0  ...     0.0     0.0       0       0     0.0       0   \n",
       "\n",
       "movieId  162376  162542  162672  163949  \n",
       "userId                                   \n",
       "1           0.0       0       0       0  \n",
       "2           0.0       0       0       0  \n",
       "3           0.0       0       0       0  \n",
       "4           0.0       0       0       0  \n",
       "5           0.0       0       0       0  \n",
       "\n",
       "[5 rows x 9066 columns]"
      ]
     },
     "execution_count": 22,
     "metadata": {},
     "output_type": "execute_result"
    }
   ],
   "source": [
    "user_movie.head()"
   ]
  },
  {
   "cell_type": "code",
   "execution_count": 23,
   "metadata": {
    "ExecuteTime": {
     "end_time": "2020-07-21T02:09:54.368880Z",
     "start_time": "2020-07-21T02:09:54.364889Z"
    }
   },
   "outputs": [
    {
     "data": {
      "text/plain": [
       "(671, 9066)"
      ]
     },
     "execution_count": 23,
     "metadata": {},
     "output_type": "execute_result"
    }
   ],
   "source": [
    "user_movie.shape"
   ]
  },
  {
   "cell_type": "code",
   "execution_count": 24,
   "metadata": {
    "ExecuteTime": {
     "end_time": "2020-07-21T02:10:09.720442Z",
     "start_time": "2020-07-21T02:10:09.716452Z"
    }
   },
   "outputs": [
    {
     "data": {
      "text/plain": [
       "(671, 9066)"
      ]
     },
     "execution_count": 24,
     "metadata": {},
     "output_type": "execute_result"
    }
   ],
   "source": [
    "user_num = user_movie.shape[0]\n",
    "movie_num = user_movie.shape[1]\n",
    "\n",
    "user_num, movie_num"
   ]
  },
  {
   "cell_type": "markdown",
   "metadata": {},
   "source": [
    "## variable setting"
   ]
  },
  {
   "cell_type": "code",
   "execution_count": 27,
   "metadata": {
    "ExecuteTime": {
     "end_time": "2020-07-21T02:16:59.441279Z",
     "start_time": "2020-07-21T02:16:59.438287Z"
    }
   },
   "outputs": [],
   "source": [
    "latent_num = 200\n",
    "r_lambda = 40\n",
    "alpha = 40"
   ]
  },
  {
   "cell_type": "code",
   "execution_count": 31,
   "metadata": {
    "ExecuteTime": {
     "end_time": "2020-07-21T02:18:25.094221Z",
     "start_time": "2020-07-21T02:18:25.053192Z"
    }
   },
   "outputs": [],
   "source": [
    "# X, Y를 랜덤한 작은값들로 초기화\n",
    "\n",
    "X = np.random.rand(user_num, latent_num) * 1e-2\n",
    "Y = np.random.rand(movie_num, latent_num) * 1e-2\n",
    "\n",
    "R = user_movie.to_numpy()"
   ]
  },
  {
   "cell_type": "code",
   "execution_count": null,
   "metadata": {},
   "outputs": [],
   "source": []
  },
  {
   "cell_type": "markdown",
   "metadata": {},
   "source": [
    "## P setting"
   ]
  },
  {
   "cell_type": "markdown",
   "metadata": {},
   "source": [
    "<img src = \"./p.png\">"
   ]
  },
  {
   "cell_type": "code",
   "execution_count": 36,
   "metadata": {
    "ExecuteTime": {
     "end_time": "2020-07-21T02:19:50.978327Z",
     "start_time": "2020-07-21T02:19:50.941332Z"
    }
   },
   "outputs": [],
   "source": [
    "P = np.copy(R)\n",
    "P[P > 0] = 1"
   ]
  },
  {
   "cell_type": "markdown",
   "metadata": {},
   "source": [
    "## C setting"
   ]
  },
  {
   "cell_type": "markdown",
   "metadata": {},
   "source": [
    "<img src = \"./c.png\">"
   ]
  },
  {
   "cell_type": "code",
   "execution_count": 38,
   "metadata": {
    "ExecuteTime": {
     "end_time": "2020-07-21T02:20:32.951097Z",
     "start_time": "2020-07-21T02:20:32.917163Z"
    }
   },
   "outputs": [],
   "source": [
    "C = 1 + alpha * R"
   ]
  },
  {
   "cell_type": "code",
   "execution_count": 62,
   "metadata": {
    "ExecuteTime": {
     "end_time": "2020-07-21T04:27:27.542090Z",
     "start_time": "2020-07-21T04:27:27.537082Z"
    }
   },
   "outputs": [
    {
     "data": {
      "text/plain": [
       "(671, 9066)"
      ]
     },
     "execution_count": 62,
     "metadata": {},
     "output_type": "execute_result"
    }
   ],
   "source": [
    "C.shape"
   ]
  },
  {
   "cell_type": "markdown",
   "metadata": {},
   "source": [
    "## loss function setting"
   ]
  },
  {
   "cell_type": "markdown",
   "metadata": {},
   "source": [
    "<img src = \"./loss_function.png\">"
   ]
  },
  {
   "cell_type": "code",
   "execution_count": 48,
   "metadata": {
    "ExecuteTime": {
     "end_time": "2020-07-21T02:29:33.090137Z",
     "start_time": "2020-07-21T02:29:33.086168Z"
    }
   },
   "outputs": [],
   "source": [
    "def loss(C, P, XtY, X, Y, r_lambda) :\n",
    "    error = np.square(P - XtY)\n",
    "    confidence_error = np.sum(C * error)\n",
    "    \n",
    "    reg = (np.sum(np.square(X)) + np.sum(np.square(Y))) * r_lambda\n",
    "    \n",
    "    total = confidence_error + reg\n",
    "    \n",
    "    return np.sum(error), confidence_error, reg, total"
   ]
  },
  {
   "cell_type": "markdown",
   "metadata": {},
   "source": [
    "##  Optimizer 설정"
   ]
  },
  {
   "cell_type": "markdown",
   "metadata": {
    "ExecuteTime": {
     "end_time": "2020-07-21T02:30:06.834537Z",
     "start_time": "2020-07-21T02:30:06.831547Z"
    }
   },
   "source": [
    "<img src = \"./x.png\">"
   ]
  },
  {
   "cell_type": "code",
   "execution_count": 63,
   "metadata": {
    "ExecuteTime": {
     "end_time": "2020-07-21T04:27:59.831520Z",
     "start_time": "2020-07-21T04:27:59.826533Z"
    }
   },
   "outputs": [],
   "source": [
    "def optimize_user(X, Y, C, P, user_num, latent_num, r_lambda) :\n",
    "    Yt = np.transpose(Y)\n",
    "    \n",
    "    for num in range(user_num) :\n",
    "        Cu = np.diag(C[num])\n",
    "        Yt_Cu_Y = np.matmul(np.matmul(Yt, Cu), Y)\n",
    "        lambda_I = r_lambda * np.identity(latent_num)\n",
    "        Yt_Cu_Pu = np.matmul(np.matmul(Yt, Cu), P[num])\n",
    "        \n",
    "        X[num] = np.linalg.solve(Yt_Cu_Y + lambda_I, Yt_Cu_Pu)"
   ]
  },
  {
   "cell_type": "markdown",
   "metadata": {
    "ExecuteTime": {
     "end_time": "2020-07-21T02:30:07.109688Z",
     "start_time": "2020-07-21T02:30:07.106704Z"
    }
   },
   "source": [
    "<img src = \"./y.png\">"
   ]
  },
  {
   "cell_type": "code",
   "execution_count": 67,
   "metadata": {
    "ExecuteTime": {
     "end_time": "2020-07-21T04:45:32.366682Z",
     "start_time": "2020-07-21T04:45:32.362672Z"
    }
   },
   "outputs": [],
   "source": [
    "def optimize_item(X, Y, C, P, movie_num, latent_num, r_lambda) :\n",
    "    Xt = np.transpose(X)\n",
    "    \n",
    "    for num in range(movie_num) :\n",
    "        Ci = np.diag(C[:, num])\n",
    "        Xt_Ci_X = np.matmul(np.matmul(Xt, Ci), X)\n",
    "        lambda_I = r_lambda * np.identity(latent_num)\n",
    "        Xt_Ci_Pi = np.matmul(np.matmul(Xt, Ci), P[:, num])\n",
    "        \n",
    "        Y[num] = np.linalg.solve(Xt_Ci_X + lambda_I, Xt_Ci_Pi)"
   ]
  },
  {
   "cell_type": "code",
   "execution_count": null,
   "metadata": {},
   "outputs": [],
   "source": []
  },
  {
   "cell_type": "markdown",
   "metadata": {},
   "source": [
    "## Train"
   ]
  },
  {
   "cell_type": "code",
   "execution_count": 68,
   "metadata": {
    "ExecuteTime": {
     "end_time": "2020-07-21T05:49:29.243538Z",
     "start_time": "2020-07-21T04:45:37.965339Z"
    }
   },
   "outputs": [
    {
     "name": "stdout",
     "output_type": "stream",
     "text": [
      "======= step 0 =======\n",
      "predict error : 1333366.2014464051\n",
      "confidence error : 3563638.4142755624\n",
      "reg : 1221467.0294828091\n",
      "total loss : 4785105.443758371\n",
      "======= step 1 =======\n",
      "predict error : 517086.82278555183\n",
      "confidence error : 807717.8028674035\n",
      "reg : 1610911.4731685899\n",
      "total loss : 2418629.2760359934\n",
      "======= step 2 =======\n",
      "predict error : 122022.98008618885\n",
      "confidence error : 150837.5505695427\n",
      "reg : 465507.6249070496\n",
      "total loss : 616345.1754765923\n",
      "======= step 3 =======\n",
      "predict error : 88182.42921312885\n",
      "confidence error : 106935.6211828214\n",
      "reg : 373961.22083851596\n",
      "total loss : 480896.84202133736\n",
      "======= step 4 =======\n",
      "predict error : 76111.84568814546\n",
      "confidence error : 91389.90868186843\n",
      "reg : 347612.55084078637\n",
      "total loss : 439002.45952265477\n",
      "======= step 5 =======\n",
      "predict error : 70253.75899180664\n",
      "confidence error : 83716.63302775504\n",
      "reg : 336412.843075591\n",
      "total loss : 420129.4761033461\n",
      "======= step 6 =======\n",
      "predict error : 66917.04476636069\n",
      "confidence error : 79247.55669731356\n",
      "reg : 330357.27353248966\n",
      "total loss : 409604.8302298032\n",
      "======= step 7 =======\n",
      "predict error : 64811.81119735265\n",
      "confidence error : 76366.11801123784\n",
      "reg : 326546.67199378985\n",
      "total loss : 402912.79000502767\n",
      "======= step 8 =======\n",
      "predict error : 63393.45103903367\n",
      "confidence error : 74384.02972868057\n",
      "reg : 323909.5316681034\n",
      "total loss : 398293.561396784\n",
      "======= step 9 =======\n",
      "predict error : 62395.71900229527\n",
      "confidence error : 72960.48984514129\n",
      "reg : 321968.09263627225\n",
      "total loss : 394928.58248141356\n",
      "======= step 10 =======\n",
      "predict error : 61672.73298342624\n",
      "confidence error : 71906.5174770096\n",
      "reg : 320476.55988520186\n",
      "total loss : 392383.0773622115\n",
      "======= step 11 =======\n",
      "predict error : 61137.59913321687\n",
      "confidence error : 71108.33054615381\n",
      "reg : 319294.3929159904\n",
      "total loss : 390402.7234621442\n",
      "======= step 12 =======\n",
      "predict error : 60735.39966707046\n",
      "confidence error : 70493.28890844002\n",
      "reg : 318334.75354383106\n",
      "total loss : 388828.0424522711\n",
      "======= step 13 =======\n",
      "predict error : 60429.87784521833\n",
      "confidence error : 70012.97191602703\n",
      "reg : 317540.7953344876\n",
      "total loss : 387553.7672505146\n",
      "======= step 14 =======\n",
      "predict error : 60196.24645750306\n",
      "confidence error : 69633.97509177412\n",
      "reg : 316873.62354541814\n",
      "total loss : 386507.5986371923\n",
      "final predict\n",
      "[[-7.42651121e-02 -1.53721780e-02  6.31319076e-02 ...  6.03339312e-02\n",
      "   5.77591769e-02 -3.22702746e-03]\n",
      " [ 6.01867002e-01  6.68466026e-01  7.05482175e-02 ... -5.27186891e-02\n",
      "  -5.04689157e-02  6.54030092e-03]\n",
      " [ 3.94245353e-01 -8.37084018e-03  6.43889430e-02 ...  9.01509283e-02\n",
      "   8.63037318e-02  1.01464540e-04]\n",
      " ...\n",
      " [ 1.62213435e-01 -5.72753809e-03 -4.56871796e-02 ...  1.11898040e-02\n",
      "   1.07122784e-02  5.23845729e-03]\n",
      " [ 9.72173274e-01  9.47013863e-02  1.50410101e-01 ... -4.19101446e-02\n",
      "  -4.01216265e-02 -3.32844585e-03]\n",
      " [ 9.90008184e-01  1.09275743e-01  1.81576030e-01 ... -7.27788749e-03\n",
      "  -6.96730319e-03 -6.09061845e-03]]\n"
     ]
    }
   ],
   "source": [
    "predict_errors = []\n",
    "confidence_errors = []\n",
    "reg_list = []\n",
    "total_losses = []\n",
    "\n",
    "for i in range(15) :\n",
    "    # i == 0 일때는 그냥 가고.. 1일때부터 학습..?\n",
    "    if i != 0 :\n",
    "        optimize_user(X, Y, C, P, user_num, latent_num, r_lambda)\n",
    "        optimize_item(X, Y, C, P, movie_num, latent_num, r_lambda)\n",
    "        \n",
    "    predict = np.matmul(X, np.transpose(Y))\n",
    "    \n",
    "    predict_error, confidence_error, reg, total_loss = loss(C, P, predict, X, Y, r_lambda)\n",
    "    \n",
    "    predict_errors.append(predict_error)\n",
    "    confidence_errors.append(confidence_error)\n",
    "    reg_list.append(reg)\n",
    "    total_losses.append(total_loss)\n",
    "    \n",
    "    print(\"======= step {} =======\".format(i))\n",
    "    print(\"predict error : {}\".format(predict_error))\n",
    "    print(\"confidence error : {}\".format(confidence_error))\n",
    "    print(\"reg : {}\".format(reg))\n",
    "    print(\"total loss : {}\".format(total_loss))\n",
    "    \n",
    "final_predict = np.matmul(X, np.transpose(Y))\n",
    "\n",
    "print(\"final predict\")\n",
    "print(final_predict)"
   ]
  },
  {
   "cell_type": "code",
   "execution_count": 70,
   "metadata": {
    "ExecuteTime": {
     "end_time": "2020-07-21T05:50:21.650462Z",
     "start_time": "2020-07-21T05:50:21.646472Z"
    }
   },
   "outputs": [
    {
     "data": {
      "text/plain": [
       "(671, 9066)"
      ]
     },
     "execution_count": 70,
     "metadata": {},
     "output_type": "execute_result"
    }
   ],
   "source": [
    "final_predict.shape"
   ]
  },
  {
   "cell_type": "code",
   "execution_count": 75,
   "metadata": {
    "ExecuteTime": {
     "end_time": "2020-07-21T05:51:48.209913Z",
     "start_time": "2020-07-21T05:51:48.205923Z"
    }
   },
   "outputs": [
    {
     "data": {
      "text/plain": [
       "0.9879184540050803"
      ]
     },
     "execution_count": 75,
     "metadata": {},
     "output_type": "execute_result"
    }
   ],
   "source": [
    "final_predict[1, 9]"
   ]
  },
  {
   "cell_type": "code",
   "execution_count": 69,
   "metadata": {
    "ExecuteTime": {
     "end_time": "2020-07-21T05:50:05.938459Z",
     "start_time": "2020-07-21T05:50:05.909511Z"
    }
   },
   "outputs": [
    {
     "data": {
      "text/html": [
       "<div>\n",
       "<style scoped>\n",
       "    .dataframe tbody tr th:only-of-type {\n",
       "        vertical-align: middle;\n",
       "    }\n",
       "\n",
       "    .dataframe tbody tr th {\n",
       "        vertical-align: top;\n",
       "    }\n",
       "\n",
       "    .dataframe thead th {\n",
       "        text-align: right;\n",
       "    }\n",
       "</style>\n",
       "<table border=\"1\" class=\"dataframe\">\n",
       "  <thead>\n",
       "    <tr style=\"text-align: right;\">\n",
       "      <th>movieId</th>\n",
       "      <th>1</th>\n",
       "      <th>2</th>\n",
       "      <th>3</th>\n",
       "      <th>4</th>\n",
       "      <th>5</th>\n",
       "      <th>6</th>\n",
       "      <th>7</th>\n",
       "      <th>8</th>\n",
       "      <th>9</th>\n",
       "      <th>10</th>\n",
       "      <th>...</th>\n",
       "      <th>161084</th>\n",
       "      <th>161155</th>\n",
       "      <th>161594</th>\n",
       "      <th>161830</th>\n",
       "      <th>161918</th>\n",
       "      <th>161944</th>\n",
       "      <th>162376</th>\n",
       "      <th>162542</th>\n",
       "      <th>162672</th>\n",
       "      <th>163949</th>\n",
       "    </tr>\n",
       "    <tr>\n",
       "      <th>userId</th>\n",
       "      <th></th>\n",
       "      <th></th>\n",
       "      <th></th>\n",
       "      <th></th>\n",
       "      <th></th>\n",
       "      <th></th>\n",
       "      <th></th>\n",
       "      <th></th>\n",
       "      <th></th>\n",
       "      <th></th>\n",
       "      <th></th>\n",
       "      <th></th>\n",
       "      <th></th>\n",
       "      <th></th>\n",
       "      <th></th>\n",
       "      <th></th>\n",
       "      <th></th>\n",
       "      <th></th>\n",
       "      <th></th>\n",
       "      <th></th>\n",
       "      <th></th>\n",
       "    </tr>\n",
       "  </thead>\n",
       "  <tbody>\n",
       "    <tr>\n",
       "      <th>1</th>\n",
       "      <td>0.0</td>\n",
       "      <td>0.0</td>\n",
       "      <td>0.0</td>\n",
       "      <td>0.0</td>\n",
       "      <td>0.0</td>\n",
       "      <td>0.0</td>\n",
       "      <td>0.0</td>\n",
       "      <td>0</td>\n",
       "      <td>0</td>\n",
       "      <td>0.0</td>\n",
       "      <td>...</td>\n",
       "      <td>0.0</td>\n",
       "      <td>0.0</td>\n",
       "      <td>0</td>\n",
       "      <td>0</td>\n",
       "      <td>0.0</td>\n",
       "      <td>0</td>\n",
       "      <td>0.0</td>\n",
       "      <td>0</td>\n",
       "      <td>0</td>\n",
       "      <td>0</td>\n",
       "    </tr>\n",
       "    <tr>\n",
       "      <th>2</th>\n",
       "      <td>0.0</td>\n",
       "      <td>0.0</td>\n",
       "      <td>0.0</td>\n",
       "      <td>0.0</td>\n",
       "      <td>0.0</td>\n",
       "      <td>0.0</td>\n",
       "      <td>0.0</td>\n",
       "      <td>0</td>\n",
       "      <td>0</td>\n",
       "      <td>4.0</td>\n",
       "      <td>...</td>\n",
       "      <td>0.0</td>\n",
       "      <td>0.0</td>\n",
       "      <td>0</td>\n",
       "      <td>0</td>\n",
       "      <td>0.0</td>\n",
       "      <td>0</td>\n",
       "      <td>0.0</td>\n",
       "      <td>0</td>\n",
       "      <td>0</td>\n",
       "      <td>0</td>\n",
       "    </tr>\n",
       "    <tr>\n",
       "      <th>3</th>\n",
       "      <td>0.0</td>\n",
       "      <td>0.0</td>\n",
       "      <td>0.0</td>\n",
       "      <td>0.0</td>\n",
       "      <td>0.0</td>\n",
       "      <td>0.0</td>\n",
       "      <td>0.0</td>\n",
       "      <td>0</td>\n",
       "      <td>0</td>\n",
       "      <td>0.0</td>\n",
       "      <td>...</td>\n",
       "      <td>0.0</td>\n",
       "      <td>0.0</td>\n",
       "      <td>0</td>\n",
       "      <td>0</td>\n",
       "      <td>0.0</td>\n",
       "      <td>0</td>\n",
       "      <td>0.0</td>\n",
       "      <td>0</td>\n",
       "      <td>0</td>\n",
       "      <td>0</td>\n",
       "    </tr>\n",
       "    <tr>\n",
       "      <th>4</th>\n",
       "      <td>0.0</td>\n",
       "      <td>0.0</td>\n",
       "      <td>0.0</td>\n",
       "      <td>0.0</td>\n",
       "      <td>0.0</td>\n",
       "      <td>0.0</td>\n",
       "      <td>0.0</td>\n",
       "      <td>0</td>\n",
       "      <td>0</td>\n",
       "      <td>4.0</td>\n",
       "      <td>...</td>\n",
       "      <td>0.0</td>\n",
       "      <td>0.0</td>\n",
       "      <td>0</td>\n",
       "      <td>0</td>\n",
       "      <td>0.0</td>\n",
       "      <td>0</td>\n",
       "      <td>0.0</td>\n",
       "      <td>0</td>\n",
       "      <td>0</td>\n",
       "      <td>0</td>\n",
       "    </tr>\n",
       "    <tr>\n",
       "      <th>5</th>\n",
       "      <td>0.0</td>\n",
       "      <td>0.0</td>\n",
       "      <td>4.0</td>\n",
       "      <td>0.0</td>\n",
       "      <td>0.0</td>\n",
       "      <td>0.0</td>\n",
       "      <td>0.0</td>\n",
       "      <td>0</td>\n",
       "      <td>0</td>\n",
       "      <td>0.0</td>\n",
       "      <td>...</td>\n",
       "      <td>0.0</td>\n",
       "      <td>0.0</td>\n",
       "      <td>0</td>\n",
       "      <td>0</td>\n",
       "      <td>0.0</td>\n",
       "      <td>0</td>\n",
       "      <td>0.0</td>\n",
       "      <td>0</td>\n",
       "      <td>0</td>\n",
       "      <td>0</td>\n",
       "    </tr>\n",
       "    <tr>\n",
       "      <th>...</th>\n",
       "      <td>...</td>\n",
       "      <td>...</td>\n",
       "      <td>...</td>\n",
       "      <td>...</td>\n",
       "      <td>...</td>\n",
       "      <td>...</td>\n",
       "      <td>...</td>\n",
       "      <td>...</td>\n",
       "      <td>...</td>\n",
       "      <td>...</td>\n",
       "      <td>...</td>\n",
       "      <td>...</td>\n",
       "      <td>...</td>\n",
       "      <td>...</td>\n",
       "      <td>...</td>\n",
       "      <td>...</td>\n",
       "      <td>...</td>\n",
       "      <td>...</td>\n",
       "      <td>...</td>\n",
       "      <td>...</td>\n",
       "      <td>...</td>\n",
       "    </tr>\n",
       "    <tr>\n",
       "      <th>667</th>\n",
       "      <td>0.0</td>\n",
       "      <td>0.0</td>\n",
       "      <td>0.0</td>\n",
       "      <td>0.0</td>\n",
       "      <td>0.0</td>\n",
       "      <td>4.0</td>\n",
       "      <td>0.0</td>\n",
       "      <td>0</td>\n",
       "      <td>0</td>\n",
       "      <td>0.0</td>\n",
       "      <td>...</td>\n",
       "      <td>0.0</td>\n",
       "      <td>0.0</td>\n",
       "      <td>0</td>\n",
       "      <td>0</td>\n",
       "      <td>0.0</td>\n",
       "      <td>0</td>\n",
       "      <td>0.0</td>\n",
       "      <td>0</td>\n",
       "      <td>0</td>\n",
       "      <td>0</td>\n",
       "    </tr>\n",
       "    <tr>\n",
       "      <th>668</th>\n",
       "      <td>0.0</td>\n",
       "      <td>0.0</td>\n",
       "      <td>0.0</td>\n",
       "      <td>0.0</td>\n",
       "      <td>0.0</td>\n",
       "      <td>0.0</td>\n",
       "      <td>0.0</td>\n",
       "      <td>0</td>\n",
       "      <td>0</td>\n",
       "      <td>0.0</td>\n",
       "      <td>...</td>\n",
       "      <td>0.0</td>\n",
       "      <td>0.0</td>\n",
       "      <td>0</td>\n",
       "      <td>0</td>\n",
       "      <td>0.0</td>\n",
       "      <td>0</td>\n",
       "      <td>0.0</td>\n",
       "      <td>0</td>\n",
       "      <td>0</td>\n",
       "      <td>0</td>\n",
       "    </tr>\n",
       "    <tr>\n",
       "      <th>669</th>\n",
       "      <td>0.0</td>\n",
       "      <td>0.0</td>\n",
       "      <td>0.0</td>\n",
       "      <td>0.0</td>\n",
       "      <td>0.0</td>\n",
       "      <td>0.0</td>\n",
       "      <td>0.0</td>\n",
       "      <td>0</td>\n",
       "      <td>0</td>\n",
       "      <td>0.0</td>\n",
       "      <td>...</td>\n",
       "      <td>0.0</td>\n",
       "      <td>0.0</td>\n",
       "      <td>0</td>\n",
       "      <td>0</td>\n",
       "      <td>0.0</td>\n",
       "      <td>0</td>\n",
       "      <td>0.0</td>\n",
       "      <td>0</td>\n",
       "      <td>0</td>\n",
       "      <td>0</td>\n",
       "    </tr>\n",
       "    <tr>\n",
       "      <th>670</th>\n",
       "      <td>4.0</td>\n",
       "      <td>0.0</td>\n",
       "      <td>0.0</td>\n",
       "      <td>0.0</td>\n",
       "      <td>0.0</td>\n",
       "      <td>0.0</td>\n",
       "      <td>0.0</td>\n",
       "      <td>0</td>\n",
       "      <td>0</td>\n",
       "      <td>0.0</td>\n",
       "      <td>...</td>\n",
       "      <td>0.0</td>\n",
       "      <td>0.0</td>\n",
       "      <td>0</td>\n",
       "      <td>0</td>\n",
       "      <td>0.0</td>\n",
       "      <td>0</td>\n",
       "      <td>0.0</td>\n",
       "      <td>0</td>\n",
       "      <td>0</td>\n",
       "      <td>0</td>\n",
       "    </tr>\n",
       "    <tr>\n",
       "      <th>671</th>\n",
       "      <td>5.0</td>\n",
       "      <td>0.0</td>\n",
       "      <td>0.0</td>\n",
       "      <td>0.0</td>\n",
       "      <td>0.0</td>\n",
       "      <td>0.0</td>\n",
       "      <td>0.0</td>\n",
       "      <td>0</td>\n",
       "      <td>0</td>\n",
       "      <td>0.0</td>\n",
       "      <td>...</td>\n",
       "      <td>0.0</td>\n",
       "      <td>0.0</td>\n",
       "      <td>0</td>\n",
       "      <td>0</td>\n",
       "      <td>0.0</td>\n",
       "      <td>0</td>\n",
       "      <td>0.0</td>\n",
       "      <td>0</td>\n",
       "      <td>0</td>\n",
       "      <td>0</td>\n",
       "    </tr>\n",
       "  </tbody>\n",
       "</table>\n",
       "<p>671 rows × 9066 columns</p>\n",
       "</div>"
      ],
      "text/plain": [
       "movieId  1       2       3       4       5       6       7       8       \\\n",
       "userId                                                                    \n",
       "1           0.0     0.0     0.0     0.0     0.0     0.0     0.0       0   \n",
       "2           0.0     0.0     0.0     0.0     0.0     0.0     0.0       0   \n",
       "3           0.0     0.0     0.0     0.0     0.0     0.0     0.0       0   \n",
       "4           0.0     0.0     0.0     0.0     0.0     0.0     0.0       0   \n",
       "5           0.0     0.0     4.0     0.0     0.0     0.0     0.0       0   \n",
       "...         ...     ...     ...     ...     ...     ...     ...     ...   \n",
       "667         0.0     0.0     0.0     0.0     0.0     4.0     0.0       0   \n",
       "668         0.0     0.0     0.0     0.0     0.0     0.0     0.0       0   \n",
       "669         0.0     0.0     0.0     0.0     0.0     0.0     0.0       0   \n",
       "670         4.0     0.0     0.0     0.0     0.0     0.0     0.0       0   \n",
       "671         5.0     0.0     0.0     0.0     0.0     0.0     0.0       0   \n",
       "\n",
       "movieId  9       10      ...  161084  161155  161594  161830  161918  161944  \\\n",
       "userId                   ...                                                   \n",
       "1             0     0.0  ...     0.0     0.0       0       0     0.0       0   \n",
       "2             0     4.0  ...     0.0     0.0       0       0     0.0       0   \n",
       "3             0     0.0  ...     0.0     0.0       0       0     0.0       0   \n",
       "4             0     4.0  ...     0.0     0.0       0       0     0.0       0   \n",
       "5             0     0.0  ...     0.0     0.0       0       0     0.0       0   \n",
       "...         ...     ...  ...     ...     ...     ...     ...     ...     ...   \n",
       "667           0     0.0  ...     0.0     0.0       0       0     0.0       0   \n",
       "668           0     0.0  ...     0.0     0.0       0       0     0.0       0   \n",
       "669           0     0.0  ...     0.0     0.0       0       0     0.0       0   \n",
       "670           0     0.0  ...     0.0     0.0       0       0     0.0       0   \n",
       "671           0     0.0  ...     0.0     0.0       0       0     0.0       0   \n",
       "\n",
       "movieId  162376  162542  162672  163949  \n",
       "userId                                   \n",
       "1           0.0       0       0       0  \n",
       "2           0.0       0       0       0  \n",
       "3           0.0       0       0       0  \n",
       "4           0.0       0       0       0  \n",
       "5           0.0       0       0       0  \n",
       "...         ...     ...     ...     ...  \n",
       "667         0.0       0       0       0  \n",
       "668         0.0       0       0       0  \n",
       "669         0.0       0       0       0  \n",
       "670         0.0       0       0       0  \n",
       "671         0.0       0       0       0  \n",
       "\n",
       "[671 rows x 9066 columns]"
      ]
     },
     "execution_count": 69,
     "metadata": {},
     "output_type": "execute_result"
    }
   ],
   "source": [
    "user_movie"
   ]
  },
  {
   "cell_type": "code",
   "execution_count": 117,
   "metadata": {
    "ExecuteTime": {
     "end_time": "2020-07-21T08:04:08.904515Z",
     "start_time": "2020-07-21T08:04:08.884566Z"
    }
   },
   "outputs": [
    {
     "data": {
      "text/html": [
       "<div>\n",
       "<style scoped>\n",
       "    .dataframe tbody tr th:only-of-type {\n",
       "        vertical-align: middle;\n",
       "    }\n",
       "\n",
       "    .dataframe tbody tr th {\n",
       "        vertical-align: top;\n",
       "    }\n",
       "\n",
       "    .dataframe thead th {\n",
       "        text-align: right;\n",
       "    }\n",
       "</style>\n",
       "<table border=\"1\" class=\"dataframe\">\n",
       "  <thead>\n",
       "    <tr style=\"text-align: right;\">\n",
       "      <th>movieId</th>\n",
       "      <th>1</th>\n",
       "      <th>2</th>\n",
       "      <th>3</th>\n",
       "      <th>4</th>\n",
       "      <th>5</th>\n",
       "      <th>6</th>\n",
       "      <th>7</th>\n",
       "      <th>8</th>\n",
       "      <th>9</th>\n",
       "      <th>10</th>\n",
       "      <th>...</th>\n",
       "      <th>161084</th>\n",
       "      <th>161155</th>\n",
       "      <th>161594</th>\n",
       "      <th>161830</th>\n",
       "      <th>161918</th>\n",
       "      <th>161944</th>\n",
       "      <th>162376</th>\n",
       "      <th>162542</th>\n",
       "      <th>162672</th>\n",
       "      <th>163949</th>\n",
       "    </tr>\n",
       "    <tr>\n",
       "      <th>userId</th>\n",
       "      <th></th>\n",
       "      <th></th>\n",
       "      <th></th>\n",
       "      <th></th>\n",
       "      <th></th>\n",
       "      <th></th>\n",
       "      <th></th>\n",
       "      <th></th>\n",
       "      <th></th>\n",
       "      <th></th>\n",
       "      <th></th>\n",
       "      <th></th>\n",
       "      <th></th>\n",
       "      <th></th>\n",
       "      <th></th>\n",
       "      <th></th>\n",
       "      <th></th>\n",
       "      <th></th>\n",
       "      <th></th>\n",
       "      <th></th>\n",
       "      <th></th>\n",
       "    </tr>\n",
       "  </thead>\n",
       "  <tbody>\n",
       "    <tr>\n",
       "      <th>1</th>\n",
       "      <td>-0.074265</td>\n",
       "      <td>-0.015372</td>\n",
       "      <td>0.063132</td>\n",
       "      <td>-0.120114</td>\n",
       "      <td>-0.064491</td>\n",
       "      <td>-0.010983</td>\n",
       "      <td>0.125556</td>\n",
       "      <td>-0.073351</td>\n",
       "      <td>0.035380</td>\n",
       "      <td>0.029563</td>\n",
       "      <td>...</td>\n",
       "      <td>-0.003213</td>\n",
       "      <td>0.005833</td>\n",
       "      <td>0.021442</td>\n",
       "      <td>-0.002009</td>\n",
       "      <td>-0.002031</td>\n",
       "      <td>-0.000142</td>\n",
       "      <td>0.021526</td>\n",
       "      <td>0.060334</td>\n",
       "      <td>0.057759</td>\n",
       "      <td>-0.003227</td>\n",
       "    </tr>\n",
       "    <tr>\n",
       "      <th>2</th>\n",
       "      <td>0.601867</td>\n",
       "      <td>0.668466</td>\n",
       "      <td>0.070548</td>\n",
       "      <td>0.353690</td>\n",
       "      <td>0.353868</td>\n",
       "      <td>0.573413</td>\n",
       "      <td>0.182496</td>\n",
       "      <td>0.074222</td>\n",
       "      <td>0.080589</td>\n",
       "      <td>0.987918</td>\n",
       "      <td>...</td>\n",
       "      <td>0.006512</td>\n",
       "      <td>0.010668</td>\n",
       "      <td>-0.007700</td>\n",
       "      <td>-0.002558</td>\n",
       "      <td>-0.002586</td>\n",
       "      <td>-0.026683</td>\n",
       "      <td>-0.007730</td>\n",
       "      <td>-0.052719</td>\n",
       "      <td>-0.050469</td>\n",
       "      <td>0.006540</td>\n",
       "    </tr>\n",
       "    <tr>\n",
       "      <th>3</th>\n",
       "      <td>0.394245</td>\n",
       "      <td>-0.008371</td>\n",
       "      <td>0.064389</td>\n",
       "      <td>-0.038671</td>\n",
       "      <td>0.189853</td>\n",
       "      <td>0.211753</td>\n",
       "      <td>-0.106935</td>\n",
       "      <td>-0.032082</td>\n",
       "      <td>-0.054146</td>\n",
       "      <td>0.214809</td>\n",
       "      <td>...</td>\n",
       "      <td>0.000101</td>\n",
       "      <td>-0.011686</td>\n",
       "      <td>0.004611</td>\n",
       "      <td>0.001505</td>\n",
       "      <td>0.001521</td>\n",
       "      <td>0.007228</td>\n",
       "      <td>0.004629</td>\n",
       "      <td>0.090151</td>\n",
       "      <td>0.086304</td>\n",
       "      <td>0.000101</td>\n",
       "    </tr>\n",
       "    <tr>\n",
       "      <th>4</th>\n",
       "      <td>0.332705</td>\n",
       "      <td>0.436296</td>\n",
       "      <td>0.161681</td>\n",
       "      <td>0.021380</td>\n",
       "      <td>-0.105250</td>\n",
       "      <td>0.227790</td>\n",
       "      <td>0.088606</td>\n",
       "      <td>-0.028386</td>\n",
       "      <td>0.031675</td>\n",
       "      <td>0.987012</td>\n",
       "      <td>...</td>\n",
       "      <td>0.008029</td>\n",
       "      <td>-0.001677</td>\n",
       "      <td>0.031043</td>\n",
       "      <td>0.009475</td>\n",
       "      <td>0.009578</td>\n",
       "      <td>0.056694</td>\n",
       "      <td>0.031163</td>\n",
       "      <td>-0.100467</td>\n",
       "      <td>-0.096179</td>\n",
       "      <td>0.008063</td>\n",
       "    </tr>\n",
       "    <tr>\n",
       "      <th>5</th>\n",
       "      <td>0.731502</td>\n",
       "      <td>0.623446</td>\n",
       "      <td>0.956674</td>\n",
       "      <td>-0.044947</td>\n",
       "      <td>0.423281</td>\n",
       "      <td>0.314046</td>\n",
       "      <td>0.196507</td>\n",
       "      <td>0.039423</td>\n",
       "      <td>-0.033979</td>\n",
       "      <td>0.104945</td>\n",
       "      <td>...</td>\n",
       "      <td>-0.004553</td>\n",
       "      <td>-0.016002</td>\n",
       "      <td>0.000759</td>\n",
       "      <td>-0.000900</td>\n",
       "      <td>-0.000910</td>\n",
       "      <td>0.000972</td>\n",
       "      <td>0.000762</td>\n",
       "      <td>0.077042</td>\n",
       "      <td>0.073754</td>\n",
       "      <td>-0.004572</td>\n",
       "    </tr>\n",
       "    <tr>\n",
       "      <th>...</th>\n",
       "      <td>...</td>\n",
       "      <td>...</td>\n",
       "      <td>...</td>\n",
       "      <td>...</td>\n",
       "      <td>...</td>\n",
       "      <td>...</td>\n",
       "      <td>...</td>\n",
       "      <td>...</td>\n",
       "      <td>...</td>\n",
       "      <td>...</td>\n",
       "      <td>...</td>\n",
       "      <td>...</td>\n",
       "      <td>...</td>\n",
       "      <td>...</td>\n",
       "      <td>...</td>\n",
       "      <td>...</td>\n",
       "      <td>...</td>\n",
       "      <td>...</td>\n",
       "      <td>...</td>\n",
       "      <td>...</td>\n",
       "      <td>...</td>\n",
       "    </tr>\n",
       "    <tr>\n",
       "      <th>667</th>\n",
       "      <td>0.752508</td>\n",
       "      <td>0.585095</td>\n",
       "      <td>0.248867</td>\n",
       "      <td>0.403660</td>\n",
       "      <td>0.307856</td>\n",
       "      <td>0.976064</td>\n",
       "      <td>0.297459</td>\n",
       "      <td>0.083180</td>\n",
       "      <td>0.232453</td>\n",
       "      <td>0.869803</td>\n",
       "      <td>...</td>\n",
       "      <td>-0.000486</td>\n",
       "      <td>0.003830</td>\n",
       "      <td>-0.000508</td>\n",
       "      <td>0.000050</td>\n",
       "      <td>0.000051</td>\n",
       "      <td>-0.016380</td>\n",
       "      <td>-0.000510</td>\n",
       "      <td>-0.003202</td>\n",
       "      <td>-0.003066</td>\n",
       "      <td>-0.000488</td>\n",
       "    </tr>\n",
       "    <tr>\n",
       "      <th>668</th>\n",
       "      <td>0.097127</td>\n",
       "      <td>0.089135</td>\n",
       "      <td>0.072340</td>\n",
       "      <td>-0.121451</td>\n",
       "      <td>-0.208853</td>\n",
       "      <td>-0.127288</td>\n",
       "      <td>-0.109774</td>\n",
       "      <td>-0.029678</td>\n",
       "      <td>-0.121537</td>\n",
       "      <td>-0.054377</td>\n",
       "      <td>...</td>\n",
       "      <td>-0.001487</td>\n",
       "      <td>0.005561</td>\n",
       "      <td>-0.002947</td>\n",
       "      <td>-0.001788</td>\n",
       "      <td>-0.001808</td>\n",
       "      <td>0.016648</td>\n",
       "      <td>-0.002959</td>\n",
       "      <td>-0.029544</td>\n",
       "      <td>-0.028283</td>\n",
       "      <td>-0.001493</td>\n",
       "    </tr>\n",
       "    <tr>\n",
       "      <th>669</th>\n",
       "      <td>0.162213</td>\n",
       "      <td>-0.005728</td>\n",
       "      <td>-0.045687</td>\n",
       "      <td>0.148665</td>\n",
       "      <td>0.027252</td>\n",
       "      <td>0.152812</td>\n",
       "      <td>-0.054934</td>\n",
       "      <td>0.031648</td>\n",
       "      <td>0.174553</td>\n",
       "      <td>0.198883</td>\n",
       "      <td>...</td>\n",
       "      <td>0.005216</td>\n",
       "      <td>0.001999</td>\n",
       "      <td>-0.000031</td>\n",
       "      <td>0.001711</td>\n",
       "      <td>0.001730</td>\n",
       "      <td>-0.006948</td>\n",
       "      <td>-0.000031</td>\n",
       "      <td>0.011190</td>\n",
       "      <td>0.010712</td>\n",
       "      <td>0.005238</td>\n",
       "    </tr>\n",
       "    <tr>\n",
       "      <th>670</th>\n",
       "      <td>0.972173</td>\n",
       "      <td>0.094701</td>\n",
       "      <td>0.150410</td>\n",
       "      <td>0.087141</td>\n",
       "      <td>0.093721</td>\n",
       "      <td>0.353367</td>\n",
       "      <td>0.094763</td>\n",
       "      <td>-0.002499</td>\n",
       "      <td>0.034945</td>\n",
       "      <td>0.215198</td>\n",
       "      <td>...</td>\n",
       "      <td>-0.003314</td>\n",
       "      <td>0.005219</td>\n",
       "      <td>0.003865</td>\n",
       "      <td>0.009999</td>\n",
       "      <td>0.010108</td>\n",
       "      <td>-0.027583</td>\n",
       "      <td>0.003880</td>\n",
       "      <td>-0.041910</td>\n",
       "      <td>-0.040122</td>\n",
       "      <td>-0.003328</td>\n",
       "    </tr>\n",
       "    <tr>\n",
       "      <th>671</th>\n",
       "      <td>0.990008</td>\n",
       "      <td>0.109276</td>\n",
       "      <td>0.181576</td>\n",
       "      <td>0.034826</td>\n",
       "      <td>0.271906</td>\n",
       "      <td>0.160986</td>\n",
       "      <td>-0.085524</td>\n",
       "      <td>-0.086806</td>\n",
       "      <td>-0.244488</td>\n",
       "      <td>-0.035449</td>\n",
       "      <td>...</td>\n",
       "      <td>-0.006065</td>\n",
       "      <td>-0.000490</td>\n",
       "      <td>0.000379</td>\n",
       "      <td>-0.000858</td>\n",
       "      <td>-0.000867</td>\n",
       "      <td>-0.034617</td>\n",
       "      <td>0.000381</td>\n",
       "      <td>-0.007278</td>\n",
       "      <td>-0.006967</td>\n",
       "      <td>-0.006091</td>\n",
       "    </tr>\n",
       "  </tbody>\n",
       "</table>\n",
       "<p>671 rows × 9066 columns</p>\n",
       "</div>"
      ],
      "text/plain": [
       "movieId    1         2         3         4         5         6         7       \\\n",
       "userId                                                                          \n",
       "1       -0.074265 -0.015372  0.063132 -0.120114 -0.064491 -0.010983  0.125556   \n",
       "2        0.601867  0.668466  0.070548  0.353690  0.353868  0.573413  0.182496   \n",
       "3        0.394245 -0.008371  0.064389 -0.038671  0.189853  0.211753 -0.106935   \n",
       "4        0.332705  0.436296  0.161681  0.021380 -0.105250  0.227790  0.088606   \n",
       "5        0.731502  0.623446  0.956674 -0.044947  0.423281  0.314046  0.196507   \n",
       "...           ...       ...       ...       ...       ...       ...       ...   \n",
       "667      0.752508  0.585095  0.248867  0.403660  0.307856  0.976064  0.297459   \n",
       "668      0.097127  0.089135  0.072340 -0.121451 -0.208853 -0.127288 -0.109774   \n",
       "669      0.162213 -0.005728 -0.045687  0.148665  0.027252  0.152812 -0.054934   \n",
       "670      0.972173  0.094701  0.150410  0.087141  0.093721  0.353367  0.094763   \n",
       "671      0.990008  0.109276  0.181576  0.034826  0.271906  0.160986 -0.085524   \n",
       "\n",
       "movieId    8         9         10      ...    161084    161155    161594  \\\n",
       "userId                                 ...                                 \n",
       "1       -0.073351  0.035380  0.029563  ... -0.003213  0.005833  0.021442   \n",
       "2        0.074222  0.080589  0.987918  ...  0.006512  0.010668 -0.007700   \n",
       "3       -0.032082 -0.054146  0.214809  ...  0.000101 -0.011686  0.004611   \n",
       "4       -0.028386  0.031675  0.987012  ...  0.008029 -0.001677  0.031043   \n",
       "5        0.039423 -0.033979  0.104945  ... -0.004553 -0.016002  0.000759   \n",
       "...           ...       ...       ...  ...       ...       ...       ...   \n",
       "667      0.083180  0.232453  0.869803  ... -0.000486  0.003830 -0.000508   \n",
       "668     -0.029678 -0.121537 -0.054377  ... -0.001487  0.005561 -0.002947   \n",
       "669      0.031648  0.174553  0.198883  ...  0.005216  0.001999 -0.000031   \n",
       "670     -0.002499  0.034945  0.215198  ... -0.003314  0.005219  0.003865   \n",
       "671     -0.086806 -0.244488 -0.035449  ... -0.006065 -0.000490  0.000379   \n",
       "\n",
       "movieId    161830    161918    161944    162376    162542    162672    163949  \n",
       "userId                                                                         \n",
       "1       -0.002009 -0.002031 -0.000142  0.021526  0.060334  0.057759 -0.003227  \n",
       "2       -0.002558 -0.002586 -0.026683 -0.007730 -0.052719 -0.050469  0.006540  \n",
       "3        0.001505  0.001521  0.007228  0.004629  0.090151  0.086304  0.000101  \n",
       "4        0.009475  0.009578  0.056694  0.031163 -0.100467 -0.096179  0.008063  \n",
       "5       -0.000900 -0.000910  0.000972  0.000762  0.077042  0.073754 -0.004572  \n",
       "...           ...       ...       ...       ...       ...       ...       ...  \n",
       "667      0.000050  0.000051 -0.016380 -0.000510 -0.003202 -0.003066 -0.000488  \n",
       "668     -0.001788 -0.001808  0.016648 -0.002959 -0.029544 -0.028283 -0.001493  \n",
       "669      0.001711  0.001730 -0.006948 -0.000031  0.011190  0.010712  0.005238  \n",
       "670      0.009999  0.010108 -0.027583  0.003880 -0.041910 -0.040122 -0.003328  \n",
       "671     -0.000858 -0.000867 -0.034617  0.000381 -0.007278 -0.006967 -0.006091  \n",
       "\n",
       "[671 rows x 9066 columns]"
      ]
     },
     "execution_count": 117,
     "metadata": {},
     "output_type": "execute_result"
    }
   ],
   "source": [
    "pd.DataFrame(data = final_predict, index = user_movie.index, columns = user_movie.columns)"
   ]
  },
  {
   "cell_type": "code",
   "execution_count": 77,
   "metadata": {
    "ExecuteTime": {
     "end_time": "2020-07-21T05:54:30.492604Z",
     "start_time": "2020-07-21T05:54:30.397823Z"
    }
   },
   "outputs": [
    {
     "data": {
      "text/plain": [
       "[<matplotlib.lines.Line2D at 0x16357333d08>]"
      ]
     },
     "execution_count": 77,
     "metadata": {},
     "output_type": "execute_result"
    },
    {
     "data": {
      "image/png": "[encoded data removed]",
      "text/plain": [
       "<Figure size 432x288 with 1 Axes>"
      ]
     },
     "metadata": {
      "needs_background": "light"
     },
     "output_type": "display_data"
    }
   ],
   "source": [
    "plt.plot(predict_errors)"
   ]
  },
  {
   "cell_type": "code",
   "execution_count": 78,
   "metadata": {
    "ExecuteTime": {
     "end_time": "2020-07-21T05:54:41.562918Z",
     "start_time": "2020-07-21T05:54:41.470163Z"
    }
   },
   "outputs": [
    {
     "data": {
      "text/plain": [
       "[<matplotlib.lines.Line2D at 0x163574e5408>]"
      ]
     },
     "execution_count": 78,
     "metadata": {},
     "output_type": "execute_result"
    },
    {
     "data": {
      "image/png": "[encoded data removed]",
      "text/plain": [
       "<Figure size 432x288 with 1 Axes>"
      ]
     },
     "metadata": {
      "needs_background": "light"
     },
     "output_type": "display_data"
    }
   ],
   "source": [
    "plt.plot(confidence_errors)"
   ]
  },
  {
   "cell_type": "code",
   "execution_count": 79,
   "metadata": {
    "ExecuteTime": {
     "end_time": "2020-07-21T05:54:47.471453Z",
     "start_time": "2020-07-21T05:54:47.382643Z"
    }
   },
   "outputs": [
    {
     "data": {
      "text/plain": [
       "[<matplotlib.lines.Line2D at 0x1635751c688>]"
      ]
     },
     "execution_count": 79,
     "metadata": {},
     "output_type": "execute_result"
    },
    {
     "data": {
      "image/png": "[encoded data removed]",
      "text/plain": [
       "<Figure size 432x288 with 1 Axes>"
      ]
     },
     "metadata": {
      "needs_background": "light"
     },
     "output_type": "display_data"
    }
   ],
   "source": [
    "plt.plot(reg_list)"
   ]
  },
  {
   "cell_type": "code",
   "execution_count": 80,
   "metadata": {
    "ExecuteTime": {
     "end_time": "2020-07-21T05:54:52.673810Z",
     "start_time": "2020-07-21T05:54:52.582010Z"
    }
   },
   "outputs": [
    {
     "data": {
      "text/plain": [
       "[<matplotlib.lines.Line2D at 0x1635758ad88>]"
      ]
     },
     "execution_count": 80,
     "metadata": {},
     "output_type": "execute_result"
    },
    {
     "data": {
      "image/png": "[encoded data removed]",
      "text/plain": [
       "<Figure size 432x288 with 1 Axes>"
      ]
     },
     "metadata": {
      "needs_background": "light"
     },
     "output_type": "display_data"
    }
   ],
   "source": [
    "plt.plot(total_losses)"
   ]
  },
  {
   "cell_type": "code",
   "execution_count": null,
   "metadata": {},
   "outputs": [],
   "source": []
  },
  {
   "cell_type": "code",
   "execution_count": null,
   "metadata": {},
   "outputs": [],
   "source": [
    "# surprise라는 패키지에 추천시스템 알고리즘이 있다..?"
   ]
  },
  {
   "cell_type": "code",
   "execution_count": 110,
   "metadata": {
    "ExecuteTime": {
     "end_time": "2020-07-21T07:49:33.589566Z",
     "start_time": "2020-07-21T07:49:33.582560Z"
    }
   },
   "outputs": [],
   "source": []
  },
  {
   "cell_type": "code",
   "execution_count": null,
   "metadata": {},
   "outputs": [],
   "source": []
  }
 ],
 "metadata": {
  "kernelspec": {
   "display_name": "Python 3",
   "language": "python",
   "name": "python3"
  },
  "language_info": {
   "codemirror_mode": {
    "name": "ipython",
    "version": 3
   },
   "file_extension": ".py",
   "mimetype": "text/x-python",
   "name": "python",
   "nbconvert_exporter": "python",
   "pygments_lexer": "ipython3",
   "version": "3.7.6"
  },
  "toc": {
   "base_numbering": 1,
   "nav_menu": {},
   "number_sections": true,
   "sideBar": true,
   "skip_h1_title": false,
   "title_cell": "Table of Contents",
   "title_sidebar": "Contents",
   "toc_cell": false,
   "toc_position": {},
   "toc_section_display": true,
   "toc_window_display": false
  },
  "varInspector": {
   "cols": {
    "lenName": 16,
    "lenType": 16,
    "lenVar": 40
   },
   "kernels_config": {
    "python": {
     "delete_cmd_postfix": "",
     "delete_cmd_prefix": "del ",
     "library": "var_list.py",
     "varRefreshCmd": "print(var_dic_list())"
    },
    "r": {
     "delete_cmd_postfix": ") ",
     "delete_cmd_prefix": "rm(",
     "library": "var_list.r",
     "varRefreshCmd": "cat(var_dic_list()) "
    }
   },
   "types_to_exclude": [
    "module",
    "function",
    "builtin_function_or_method",
    "instance",
    "_Feature"
   ],
   "window_display": false
  }
 },
 "nbformat": 4,
 "nbformat_minor": 4
}
