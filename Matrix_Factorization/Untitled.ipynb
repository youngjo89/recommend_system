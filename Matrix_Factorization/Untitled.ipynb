{
 "cells": [
  {
   "cell_type": "code",
   "execution_count": null,
   "metadata": {},
   "outputs": [],
   "source": [
    "# http://sanghyukchun.github.io/73/"
   ]
  },
  {
   "cell_type": "code",
   "execution_count": null,
   "metadata": {},
   "outputs": [],
   "source": [
    "recommendation problem\n",
    "사용자가 item에 대해 평가한 data를 기반으로 아직 사용하지 않은 item에 대한 평가를 에측하는 문제.."
   ]
  },
  {
   "cell_type": "code",
   "execution_count": null,
   "metadata": {},
   "outputs": [],
   "source": [
    "사용자가 아이템을 얼마나 좋아했는지 명시하면 explicit feedback(netflix같은 경우)\n",
    "직접적으로 표현하지 않으면 implicit feedback(아마존, 페이스북 등)"
   ]
  },
  {
   "cell_type": "code",
   "execution_count": null,
   "metadata": {},
   "outputs": [],
   "source": [
    "사용자 u 가 아이템 i를 얼마나 좋아했는가.. r_ui\n",
    "r_ui로 이뤄진 matrix를 채우는 문제... Matrix Completion"
   ]
  },
  {
   "cell_type": "markdown",
   "metadata": {},
   "source": [
    "$$ R = P Q^\\top $$"
   ]
  },
  {
   "cell_type": "code",
   "execution_count": null,
   "metadata": {},
   "outputs": [],
   "source": [
    "P는 user latent matrix\n",
    "Q는 item latent matrix"
   ]
  },
  {
   "cell_type": "code",
   "execution_count": null,
   "metadata": {},
   "outputs": [],
   "source": [
    "Matrix Factorization의 가정은.. original data matrix R = low rank matrix\n"
   ]
  },
  {
   "cell_type": "markdown",
   "metadata": {},
   "source": [
    "$$ \\min ~\\mbox{rank}(\\hat R) ~\\mbox{ s.t. }~ \\Omega(r_{ui} - \\hat r_{ui}) = 0 ~\\forall u,i $$"
   ]
  },
  {
   "cell_type": "code",
   "execution_count": null,
   "metadata": {},
   "outputs": [],
   "source": [
    "matrix는 다른 두 matrix의 곱으로 표현 가능하다..\n",
    "matrix의 rank가 작다면 두 matrix의 rank도 작을것.. n * m matrix가 n과 m보다 작은 k rank라면..\n",
    "n * m = (n * k) * (k * m)의 형태로 나타낼 수 있다."
   ]
  },
  {
   "cell_type": "code",
   "execution_count": null,
   "metadata": {},
   "outputs": [],
   "source": [
    "rank condition이 convex optimization이 아니다.."
   ]
  },
  {
   "cell_type": "markdown",
   "metadata": {},
   "source": [
    "$$ \\min_{\\hat R} \\| \\hat R \\|_* ~\\mbox{ s.t. }~ \\Omega(r_{ui} - \\hat r_{ui}) = 0 ~\\forall u,i. $$"
   ]
  },
  {
   "cell_type": "code",
   "execution_count": null,
   "metadata": {},
   "outputs": [],
   "source": [
    "rank condition을 convex조건으로 바꾸는 convex relation.."
   ]
  },
  {
   "cell_type": "markdown",
   "metadata": {},
   "source": [
    "$$ \\min_{\\hat R} \\sum_{u,i \\in \\kappa} (r_{ui} - \\hat r_{ui})^2 ~\\mbox{ s.t. }~ \\mbox{rank}(\\hat R) = k. $$"
   ]
  },
  {
   "cell_type": "code",
   "execution_count": null,
   "metadata": {},
   "outputs": [],
   "source": [
    "rank는 hyper parameter로 활용하고 RMSE를 최소화하는 방법.."
   ]
  },
  {
   "cell_type": "code",
   "execution_count": null,
   "metadata": {},
   "outputs": [],
   "source": [
    "두가지로 접근 가능."
   ]
  },
  {
   "cell_type": "code",
   "execution_count": null,
   "metadata": {},
   "outputs": [],
   "source": []
  },
  {
   "cell_type": "code",
   "execution_count": null,
   "metadata": {},
   "outputs": [],
   "source": [
    "1. convex relaxation\n",
    "\n",
    "rank condition은 왜 non-convex 인가...\n",
    "matrix X의 rank는 X의 0이 아닌 singular value들의 숫자, 즉 L-0 norm의 합으로 표현 가능..\n",
    "(L-0 norm은 벡터에서 0이 아닌 요소의 총 갯수)"
   ]
  },
  {
   "cell_type": "markdown",
   "metadata": {
    "ExecuteTime": {
     "end_time": "2020-07-20T06:34:24.180918Z",
     "start_time": "2020-07-20T06:34:24.175932Z"
    }
   },
   "source": [
    "$$ \\min \\sum_\\ell \\| \\sigma_\\ell(\\hat R) \\|_0 ~\\mbox{ s.t. }~ \\Omega(r_{ui} - \\hat r_{ui}) = 0 ~\\forall u,i $$"
   ]
  },
  {
   "cell_type": "code",
   "execution_count": null,
   "metadata": {},
   "outputs": [],
   "source": [
    "matrix의 rank k가 full rank가 아니라면 (k개의 singular value는 0이 아니고, 나머지는 0)\n",
    "그래서 위 식처럼 L-0 norm의 합으로 표현 되는데.. L-0 norm 자체가 non-convex norm..\n",
    "L-0 norm을 relax하는 가장 tight한 방법이 L-1 norm으로 바꾸는것..\n",
    "matix A의 singular value들의 L-1 norm합은 matrix A의 nuclear norm과 같다...\n",
    "그럼 위식은 아래와 같이 바뀐다.."
   ]
  },
  {
   "cell_type": "markdown",
   "metadata": {},
   "source": [
    "$$ \\min_{\\hat R} \\| \\hat R \\|_* ~\\mbox{ s.t. }~ \\Omega(r_{ui} - \\hat r_{ui}) = 0 ~\\forall u,i. $$"
   ]
  },
  {
   "cell_type": "code",
   "execution_count": null,
   "metadata": {},
   "outputs": [],
   "source": [
    "convex relaxation에서 중요한 것은 algorithm보다는 relaxed problem이 원래 problem과 같은 해를 갖는 조건이\n",
    "무엇인지 아는 것..\n",
    "user와 item의 수 중 더 큰 것을 n이라고 하면.. convex relaxed problem이 optimal한 solution을 얻기위해서는\n",
    "O(n * (logn ^ 2))만큼의 observed data가 필요하다는것이 증명되어있다.. 데이터가 많아야한다..."
   ]
  },
  {
   "cell_type": "code",
   "execution_count": null,
   "metadata": {},
   "outputs": [],
   "source": []
  },
  {
   "cell_type": "code",
   "execution_count": null,
   "metadata": {},
   "outputs": [],
   "source": [
    "2. non-convex problem 직접 풀기"
   ]
  },
  {
   "cell_type": "markdown",
   "metadata": {},
   "source": [
    "$$ \\min_{\\hat R} \\sum_{u,i \\in \\kappa} (r_{ui} - \\hat r_{ui})^2 ~\\mbox{ s.t. }~ \\mbox{rank}(\\hat R) = k. $$"
   ]
  },
  {
   "cell_type": "code",
   "execution_count": null,
   "metadata": {},
   "outputs": [],
   "source": [
    "r_hat = p_u * q_i 임을 이용하면.."
   ]
  },
  {
   "cell_type": "markdown",
   "metadata": {},
   "source": [
    "$$ \\min_{P,Q} \\sum_{u,i \\in \\kappa} (r_{ui} - p_u \\cdot q_i)^2. $$"
   ]
  },
  {
   "cell_type": "code",
   "execution_count": null,
   "metadata": {},
   "outputs": [],
   "source": [
    "overfitting을 피하고 보다 generalized된 문제로 바꾸기 위해 regularization term을 추가한다."
   ]
  },
  {
   "cell_type": "markdown",
   "metadata": {
    "ExecuteTime": {
     "end_time": "2020-07-20T07:28:30.593303Z",
     "start_time": "2020-07-20T07:28:30.588296Z"
    }
   },
   "source": [
    "$$ \\min_{P,Q} \\sum_{u,i \\in \\kappa} (r_{ui} - p_u \\cdot q_i)^2 + \\lambda ( \\| p_u \\|_2^2 + \\| q_i \\|_2^2 ) . $$"
   ]
  },
  {
   "cell_type": "code",
   "execution_count": null,
   "metadata": {},
   "outputs": [],
   "source": [
    "이 pairwise optimization문제는 non convex문제이다..\n",
    "하지만 gradient descent method로 local optimum에 수렴하는 결과를 얻을 수 있고 꽤 좋은 결과가 나옴.."
   ]
  },
  {
   "cell_type": "code",
   "execution_count": null,
   "metadata": {},
   "outputs": [],
   "source": [
    "Alternating Least Square(ALS)도 문제를 푸는 좋은 방법임..\n",
    "alternative하게 주어진 objective를 update하는 방식.. p나 q중 하나를 고정하고 나머지 하나를 optimization하면\n",
    "convex하면서도 closed form으로 계산된다는 점을 이요한 방법..\n",
    "실제로는 ALS가 더 많이 사요오딤\n",
    " - gradient descent가 더 빠른경우도 있지만 ALS를 사용하면 각 element들이 다른 element에\n",
    "    independent해서 분산처리가 간편하다"
   ]
  },
  {
   "cell_type": "code",
   "execution_count": null,
   "metadata": {},
   "outputs": [],
   "source": [
    "위 두개는 기본적인 방식이고 bias term이 추가되어서 문제를 해결하는 방법도 있다.."
   ]
  },
  {
   "cell_type": "code",
   "execution_count": null,
   "metadata": {},
   "outputs": [],
   "source": []
  },
  {
   "cell_type": "code",
   "execution_count": null,
   "metadata": {},
   "outputs": [],
   "source": [
    "그렇다면 ALS란 자세히 무엇인가...\n",
    "Colloaborative Filtering For Implicit Datasets논문 기반"
   ]
  },
  {
   "cell_type": "code",
   "execution_count": null,
   "metadata": {},
   "outputs": [],
   "source": [
    "ALS는 P(사용자 latent factor)와 Q(item latent factor)를 한번씩 번갈아가며 학습시킨다..\n",
    "한꺼번에 최적화 하기는 어렵기때문에 둘중 하나는 고정"
   ]
  },
  {
   "cell_type": "markdown",
   "metadata": {},
   "source": [
    "<img src = \"./loss_function.png\">"
   ]
  },
  {
   "cell_type": "markdown",
   "metadata": {
    "ExecuteTime": {
     "end_time": "2020-07-20T07:54:36.346077Z",
     "start_time": "2020-07-20T07:54:36.342067Z"
    }
   },
   "source": [
    "<img src = \"./explain.png\">"
   ]
  },
  {
   "cell_type": "markdown",
   "metadata": {},
   "source": [
    "<img src = \"./p.png\">"
   ]
  },
  {
   "cell_type": "markdown",
   "metadata": {},
   "source": [
    "<img src = \"./c.png\">"
   ]
  },
  {
   "cell_type": "code",
   "execution_count": null,
   "metadata": {},
   "outputs": [],
   "source": [
    "새로운 loss function에서는 r 대신 c와 p가 추가되었음..\n",
    "평점 예측을 선호도를 나타내는 p, 예측값의 신뢰도를 나타내는 c로 나누어줌."
   ]
  },
  {
   "cell_type": "code",
   "execution_count": null,
   "metadata": {},
   "outputs": [],
   "source": [
    "implicit dataset에서는 선호/비선호를 구분하지않음..\n",
    "-> 평점데이터가 있을경우 1, 없으면 0"
   ]
  },
  {
   "cell_type": "code",
   "execution_count": null,
   "metadata": {},
   "outputs": [],
   "source": [
    "평점이 남아있지 않은 데이터는 0으로 바꿈\n",
    "-> 이중에는 실제로는 선호하지만 평점이 없는 데이터도 있음 -> 데이터의 신뢰도가 낮다고 볼 수 있다.\n",
    "\n",
    "해당 논문에서는 신뢰도 변수를 도입하여 평점이 남아있지않은 데이터에 대한 예측도 loss function에 영향을 주게 함\n",
    "-> explicit dataset은 평점이 남아있지않은 데이터는 모두 제외하는데 이와 대조적."
   ]
  },
  {
   "cell_type": "code",
   "execution_count": null,
   "metadata": {},
   "outputs": [],
   "source": [
    "이렇게 평점이 남아있지 않은 데이터는 c값을 낮게하여 loss에 포함되긴하지만 영향력은 작게 조절함.\n",
    "사용자가 높은 평점을 줘서 선호가 명확하면 영향력이 높아짐.."
   ]
  },
  {
   "cell_type": "code",
   "execution_count": null,
   "metadata": {},
   "outputs": [],
   "source": [
    "loss function을 미분한다..(y를 먼저 고정)"
   ]
  },
  {
   "cell_type": "markdown",
   "metadata": {},
   "source": [
    "<img src = \"./diff.png\">"
   ]
  },
  {
   "cell_type": "code",
   "execution_count": null,
   "metadata": {},
   "outputs": [],
   "source": []
  },
  {
   "cell_type": "code",
   "execution_count": null,
   "metadata": {},
   "outputs": [],
   "source": []
  },
  {
   "cell_type": "code",
   "execution_count": null,
   "metadata": {},
   "outputs": [],
   "source": []
  },
  {
   "cell_type": "code",
   "execution_count": null,
   "metadata": {},
   "outputs": [],
   "source": []
  },
  {
   "cell_type": "code",
   "execution_count": null,
   "metadata": {},
   "outputs": [],
   "source": []
  },
  {
   "cell_type": "code",
   "execution_count": null,
   "metadata": {},
   "outputs": [],
   "source": []
  },
  {
   "cell_type": "code",
   "execution_count": null,
   "metadata": {},
   "outputs": [],
   "source": []
  }
 ],
 "metadata": {
  "kernelspec": {
   "display_name": "Python 3",
   "language": "python",
   "name": "python3"
  },
  "language_info": {
   "codemirror_mode": {
    "name": "ipython",
    "version": 3
   },
   "file_extension": ".py",
   "mimetype": "text/x-python",
   "name": "python",
   "nbconvert_exporter": "python",
   "pygments_lexer": "ipython3",
   "version": "3.7.6"
  },
  "toc": {
   "base_numbering": 1,
   "nav_menu": {},
   "number_sections": true,
   "sideBar": true,
   "skip_h1_title": false,
   "title_cell": "Table of Contents",
   "title_sidebar": "Contents",
   "toc_cell": false,
   "toc_position": {},
   "toc_section_display": true,
   "toc_window_display": false
  },
  "varInspector": {
   "cols": {
    "lenName": 16,
    "lenType": 16,
    "lenVar": 40
   },
   "kernels_config": {
    "python": {
     "delete_cmd_postfix": "",
     "delete_cmd_prefix": "del ",
     "library": "var_list.py",
     "varRefreshCmd": "print(var_dic_list())"
    },
    "r": {
     "delete_cmd_postfix": ") ",
     "delete_cmd_prefix": "rm(",
     "library": "var_list.r",
     "varRefreshCmd": "cat(var_dic_list()) "
    }
   },
   "types_to_exclude": [
    "module",
    "function",
    "builtin_function_or_method",
    "instance",
    "_Feature"
   ],
   "window_display": false
  }
 },
 "nbformat": 4,
 "nbformat_minor": 4
}
