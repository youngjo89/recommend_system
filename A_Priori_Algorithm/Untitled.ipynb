{
 "cells": [
  {
   "cell_type": "code",
   "execution_count": 30,
   "metadata": {
    "ExecuteTime": {
     "end_time": "2020-07-16T05:56:35.433650Z",
     "start_time": "2020-07-16T05:56:34.365399Z"
    }
   },
   "outputs": [],
   "source": [
    "import pandas as pd\n",
    "\n",
    "from sklearn.preprocessing import OneHotEncoder"
   ]
  },
  {
   "cell_type": "code",
   "execution_count": null,
   "metadata": {},
   "outputs": [],
   "source": [
    "출처 : https://ratsgo.github.io/machine%20learning/2017/04/08/apriori/\n",
    "\n",
    "장바구니 분석(Market Basket Analysis)\n",
    "\n",
    "X 아이템을 구매하는 고객들은 Y아이템을 구매할 가능성이 높다.\n",
    "상품간의 연관성 -> contents-based recommendation의 기본이되는 방법론"
   ]
  },
  {
   "cell_type": "code",
   "execution_count": 25,
   "metadata": {
    "ExecuteTime": {
     "end_time": "2020-07-16T05:55:46.539801Z",
     "start_time": "2020-07-16T05:55:46.533817Z"
    }
   },
   "outputs": [
    {
     "data": {
      "text/plain": [
       "10"
      ]
     },
     "execution_count": 25,
     "metadata": {},
     "output_type": "execute_result"
    }
   ],
   "source": [
    "items = [[\"달걀\", \"라면\", \"참치캔\"], [\"라면\", \"햇반\"], [\"라면\", \"콜라\"],\n",
    "         [\"달걀\", \"라면\", \"햇반\"], [\"달걀\", \"콜라\"], [\"라면\", \"콜라\"], [\"라면\", \"햇반\"],\n",
    "         [\"달걀\", \"라면\", \"콜라\", \"참치캔\"], [\"달걀\", \"라면\", \"콜라\"], [\"양파\"]]\n",
    "\n",
    "len(items)"
   ]
  },
  {
   "cell_type": "code",
   "execution_count": 26,
   "metadata": {
    "ExecuteTime": {
     "end_time": "2020-07-16T05:55:47.139431Z",
     "start_time": "2020-07-16T05:55:47.134474Z"
    }
   },
   "outputs": [],
   "source": [
    "df = pd.DataFrame(index = range(1, 11),\n",
    "                  columns = [\"ID\", \"Items\"])"
   ]
  },
  {
   "cell_type": "code",
   "execution_count": 27,
   "metadata": {
    "ExecuteTime": {
     "end_time": "2020-07-16T05:55:47.397095Z",
     "start_time": "2020-07-16T05:55:47.390113Z"
    }
   },
   "outputs": [],
   "source": [
    "for idx, item in enumerate(items) :\n",
    "    df.loc[idx + 1, \"ID\"] = idx + 1\n",
    "    df.loc[idx + 1, \"Items\"] = item"
   ]
  },
  {
   "cell_type": "code",
   "execution_count": 38,
   "metadata": {
    "ExecuteTime": {
     "end_time": "2020-07-16T05:59:25.721391Z",
     "start_time": "2020-07-16T05:59:25.717401Z"
    }
   },
   "outputs": [
    {
     "data": {
      "text/plain": [
       "['달걀', '라면', '참치캔']"
      ]
     },
     "execution_count": 38,
     "metadata": {},
     "output_type": "execute_result"
    }
   ],
   "source": [
    "df.loc[1, \"Items\"]"
   ]
  },
  {
   "cell_type": "code",
   "execution_count": 42,
   "metadata": {
    "ExecuteTime": {
     "end_time": "2020-07-16T06:08:54.764928Z",
     "start_time": "2020-07-16T06:08:54.758945Z"
    }
   },
   "outputs": [],
   "source": [
    "df_new = pd.DataFrame(index = range(1, 11),\n",
    "                      columns = [\"달걀\", \"라면\", \"참치캔\", \"햇반\", \"콜라\", \"양파\"])"
   ]
  },
  {
   "cell_type": "code",
   "execution_count": 46,
   "metadata": {
    "ExecuteTime": {
     "end_time": "2020-07-16T06:10:13.906655Z",
     "start_time": "2020-07-16T06:10:13.894710Z"
    }
   },
   "outputs": [],
   "source": [
    "for idx in range(1, 11) :\n",
    "    for col in df_new.columns :   \n",
    "        if col in df.loc[idx, \"Items\"] :\n",
    "            df_new.loc[idx, col] = 1\n",
    "            \n",
    "        else :\n",
    "            df_new.loc[idx, col] = 0"
   ]
  },
  {
   "cell_type": "code",
   "execution_count": 47,
   "metadata": {
    "ExecuteTime": {
     "end_time": "2020-07-16T06:10:16.631008Z",
     "start_time": "2020-07-16T06:10:16.622024Z"
    }
   },
   "outputs": [
    {
     "data": {
      "text/html": [
       "<div>\n",
       "<style scoped>\n",
       "    .dataframe tbody tr th:only-of-type {\n",
       "        vertical-align: middle;\n",
       "    }\n",
       "\n",
       "    .dataframe tbody tr th {\n",
       "        vertical-align: top;\n",
       "    }\n",
       "\n",
       "    .dataframe thead th {\n",
       "        text-align: right;\n",
       "    }\n",
       "</style>\n",
       "<table border=\"1\" class=\"dataframe\">\n",
       "  <thead>\n",
       "    <tr style=\"text-align: right;\">\n",
       "      <th></th>\n",
       "      <th>달걀</th>\n",
       "      <th>라면</th>\n",
       "      <th>참치캔</th>\n",
       "      <th>햇반</th>\n",
       "      <th>콜라</th>\n",
       "      <th>양파</th>\n",
       "    </tr>\n",
       "  </thead>\n",
       "  <tbody>\n",
       "    <tr>\n",
       "      <th>1</th>\n",
       "      <td>1</td>\n",
       "      <td>1</td>\n",
       "      <td>1</td>\n",
       "      <td>0</td>\n",
       "      <td>0</td>\n",
       "      <td>0</td>\n",
       "    </tr>\n",
       "    <tr>\n",
       "      <th>2</th>\n",
       "      <td>0</td>\n",
       "      <td>1</td>\n",
       "      <td>0</td>\n",
       "      <td>1</td>\n",
       "      <td>0</td>\n",
       "      <td>0</td>\n",
       "    </tr>\n",
       "    <tr>\n",
       "      <th>3</th>\n",
       "      <td>0</td>\n",
       "      <td>1</td>\n",
       "      <td>0</td>\n",
       "      <td>0</td>\n",
       "      <td>1</td>\n",
       "      <td>0</td>\n",
       "    </tr>\n",
       "    <tr>\n",
       "      <th>4</th>\n",
       "      <td>1</td>\n",
       "      <td>1</td>\n",
       "      <td>0</td>\n",
       "      <td>1</td>\n",
       "      <td>0</td>\n",
       "      <td>0</td>\n",
       "    </tr>\n",
       "    <tr>\n",
       "      <th>5</th>\n",
       "      <td>1</td>\n",
       "      <td>0</td>\n",
       "      <td>0</td>\n",
       "      <td>0</td>\n",
       "      <td>1</td>\n",
       "      <td>0</td>\n",
       "    </tr>\n",
       "    <tr>\n",
       "      <th>6</th>\n",
       "      <td>0</td>\n",
       "      <td>1</td>\n",
       "      <td>0</td>\n",
       "      <td>0</td>\n",
       "      <td>1</td>\n",
       "      <td>0</td>\n",
       "    </tr>\n",
       "    <tr>\n",
       "      <th>7</th>\n",
       "      <td>0</td>\n",
       "      <td>1</td>\n",
       "      <td>0</td>\n",
       "      <td>1</td>\n",
       "      <td>0</td>\n",
       "      <td>0</td>\n",
       "    </tr>\n",
       "    <tr>\n",
       "      <th>8</th>\n",
       "      <td>1</td>\n",
       "      <td>1</td>\n",
       "      <td>1</td>\n",
       "      <td>0</td>\n",
       "      <td>1</td>\n",
       "      <td>0</td>\n",
       "    </tr>\n",
       "    <tr>\n",
       "      <th>9</th>\n",
       "      <td>1</td>\n",
       "      <td>1</td>\n",
       "      <td>0</td>\n",
       "      <td>0</td>\n",
       "      <td>1</td>\n",
       "      <td>0</td>\n",
       "    </tr>\n",
       "    <tr>\n",
       "      <th>10</th>\n",
       "      <td>0</td>\n",
       "      <td>0</td>\n",
       "      <td>0</td>\n",
       "      <td>0</td>\n",
       "      <td>0</td>\n",
       "      <td>1</td>\n",
       "    </tr>\n",
       "  </tbody>\n",
       "</table>\n",
       "</div>"
      ],
      "text/plain": [
       "   달걀 라면 참치캔 햇반 콜라 양파\n",
       "1   1  1   1  0  0  0\n",
       "2   0  1   0  1  0  0\n",
       "3   0  1   0  0  1  0\n",
       "4   1  1   0  1  0  0\n",
       "5   1  0   0  0  1  0\n",
       "6   0  1   0  0  1  0\n",
       "7   0  1   0  1  0  0\n",
       "8   1  1   1  0  1  0\n",
       "9   1  1   0  0  1  0\n",
       "10  0  0   0  0  0  1"
      ]
     },
     "execution_count": 47,
     "metadata": {},
     "output_type": "execute_result"
    }
   ],
   "source": [
    "df_new\n",
    "# 이러한 형태의 sparse matrix가 된다.."
   ]
  },
  {
   "cell_type": "code",
   "execution_count": null,
   "metadata": {},
   "outputs": [],
   "source": [
    "규칙\n",
    "조건절(Antecedent) : 만일 ~라면...\n",
    "결과절(consequent) : 그 뒷부분..\n",
    "아이템 집합(Item set) : 조건절 or 결과절을 구성하는 아이템들의 집합\n",
    "    \n",
    "ex) 달걀을 구매하는 사람들은 라면도 함께 산다.\n",
    "조건절 : 달걀 구매\n",
    "결과절 : 라면 구매\n",
    "아이템 집합 : \"달걀\"(조건절), \"라면\"(결과절)"
   ]
  },
  {
   "cell_type": "code",
   "execution_count": null,
   "metadata": {},
   "outputs": [],
   "source": [
    "빈발 아이템 집합을 판별하는데 사용하는 지지도\n",
    "조건절A가 일어날 확률."
   ]
  },
  {
   "cell_type": "markdown",
   "metadata": {},
   "source": [
    "$$For\\quad the\\quad rule\\quad A\\rightarrow B,\\\\ support(A)=P(A)$$"
   ]
  },
  {
   "cell_type": "code",
   "execution_count": null,
   "metadata": {},
   "outputs": [],
   "source": [
    "조건절 아이템 집합과 결과절 아이템 집합은 상호배반(mutually exclusive)해야한다.\n",
    "\n",
    "아이템 집합 간 연관성 강도를 측정하는데 쓰는 신뢰도는 조건절(A)가 주어졌을때 결과절이 일어날 조건부 확률"
   ]
  },
  {
   "cell_type": "markdown",
   "metadata": {
    "ExecuteTime": {
     "end_time": "2020-07-16T06:23:30.462350Z",
     "start_time": "2020-07-16T06:23:30.458360Z"
    }
   },
   "source": [
    "$$confidence(A\\rightarrow B)=\\frac { P(A,B) }{ P(A) }$$"
   ]
  },
  {
   "cell_type": "code",
   "execution_count": null,
   "metadata": {},
   "outputs": [],
   "source": [
    "생선된 규칙이 실제 효용가치가 있는지 판별하는데 사용되는 향상도\n",
    "조건절과 결과절이 서로 독립일때와 비교해 두 사건이 동시에 얼마나 발생하는지 비율\n",
    "향상도가 1이라면 조건절과 결과절은 서로 독립. -> 규칙 사이에 유의미한 연관성이 없다\n",
    "향상도가 2라면 -> 두사건이 독립일 경우 대비 2배로 긍정적 연관관계"
   ]
  },
  {
   "cell_type": "markdown",
   "metadata": {},
   "source": [
    "$$lift(A\\rightarrow B)=\\frac { P(A,B) }{ P(A)\\cdot P(B) }$$"
   ]
  },
  {
   "cell_type": "code",
   "execution_count": null,
   "metadata": {},
   "outputs": [],
   "source": [
    "규칙의 효용성은 지지도(support), 신뢰도(confidence), 향상도(lift) 세가지 모두 반영..\n",
    "규칙1이 규칙2보다 효과적이다 -> 세지표가 모두 다 클 경우에만.!"
   ]
  },
  {
   "cell_type": "code",
   "execution_count": null,
   "metadata": {},
   "outputs": [],
   "source": [
    "규칙을 실제로 만들어볼 차례\n",
    "가능한 모든 경우의 수를 탐색하여 3개의 지표가 높은 규칙을 찾는것이 가장 ideal한 case\n",
    "하지만 아이템의 숫자가 많아질수록 계산량도 많아짐 n * (n - 1)\n",
    "그래서 빈발집합(frequent item sets)만을 고려하여 연관 규칙을 생성하는 A priori algorithm 제안"
   ]
  },
  {
   "cell_type": "code",
   "execution_count": null,
   "metadata": {},
   "outputs": [],
   "source": [
    "아이템 집합 {A}의 지지도(P(A))가 0.1이라면.. {A, B}의 지지도는 maximum 0.1\n",
    "why? A와 B가 동시에 출현할 확률은 A가 단독으로 출현할 확률과 같거나 낮다\n",
    "{A, B} = {A}, {B}의 초월 집합(superset)"
   ]
  },
  {
   "cell_type": "code",
   "execution_count": null,
   "metadata": {},
   "outputs": [],
   "source": [
    "임의의 item set X의 지지도가 일정 기준을 넘지 못한다면 해당 item set의 superset은 X의 지지도 보다 낮을 것이고\n",
    "그러면 유용한 규칙으로 인정 받을 수 없다. -> 해당 집합의 규칙들은 계산할 필요가 없다 -> 계산량 감소"
   ]
  },
  {
   "cell_type": "markdown",
   "metadata": {},
   "source": [
    "<img src = \"./itemset.png\">"
   ]
  },
  {
   "cell_type": "code",
   "execution_count": null,
   "metadata": {},
   "outputs": [],
   "source": [
    "{A, B}의 지지도가 최소 지지도 요건을 충족시키지 못할 경우 {A, B} 포함 {A, B}의 superset들도 지지도 요건을\n",
    "충족시키지 못하므로 해당 superset들의 규칙은 고려할 필요가 없다."
   ]
  },
  {
   "cell_type": "code",
   "execution_count": 49,
   "metadata": {
    "ExecuteTime": {
     "end_time": "2020-07-16T06:42:54.312849Z",
     "start_time": "2020-07-16T06:42:54.303872Z"
    }
   },
   "outputs": [
    {
     "data": {
      "text/html": [
       "<div>\n",
       "<style scoped>\n",
       "    .dataframe tbody tr th:only-of-type {\n",
       "        vertical-align: middle;\n",
       "    }\n",
       "\n",
       "    .dataframe tbody tr th {\n",
       "        vertical-align: top;\n",
       "    }\n",
       "\n",
       "    .dataframe thead th {\n",
       "        text-align: right;\n",
       "    }\n",
       "</style>\n",
       "<table border=\"1\" class=\"dataframe\">\n",
       "  <thead>\n",
       "    <tr style=\"text-align: right;\">\n",
       "      <th></th>\n",
       "      <th>달걀</th>\n",
       "      <th>라면</th>\n",
       "      <th>참치캔</th>\n",
       "      <th>햇반</th>\n",
       "      <th>콜라</th>\n",
       "      <th>양파</th>\n",
       "    </tr>\n",
       "  </thead>\n",
       "  <tbody>\n",
       "    <tr>\n",
       "      <th>1</th>\n",
       "      <td>1</td>\n",
       "      <td>1</td>\n",
       "      <td>1</td>\n",
       "      <td>0</td>\n",
       "      <td>0</td>\n",
       "      <td>0</td>\n",
       "    </tr>\n",
       "    <tr>\n",
       "      <th>2</th>\n",
       "      <td>0</td>\n",
       "      <td>1</td>\n",
       "      <td>0</td>\n",
       "      <td>1</td>\n",
       "      <td>0</td>\n",
       "      <td>0</td>\n",
       "    </tr>\n",
       "    <tr>\n",
       "      <th>3</th>\n",
       "      <td>0</td>\n",
       "      <td>1</td>\n",
       "      <td>0</td>\n",
       "      <td>0</td>\n",
       "      <td>1</td>\n",
       "      <td>0</td>\n",
       "    </tr>\n",
       "    <tr>\n",
       "      <th>4</th>\n",
       "      <td>1</td>\n",
       "      <td>1</td>\n",
       "      <td>0</td>\n",
       "      <td>1</td>\n",
       "      <td>0</td>\n",
       "      <td>0</td>\n",
       "    </tr>\n",
       "    <tr>\n",
       "      <th>5</th>\n",
       "      <td>1</td>\n",
       "      <td>0</td>\n",
       "      <td>0</td>\n",
       "      <td>0</td>\n",
       "      <td>1</td>\n",
       "      <td>0</td>\n",
       "    </tr>\n",
       "    <tr>\n",
       "      <th>6</th>\n",
       "      <td>0</td>\n",
       "      <td>1</td>\n",
       "      <td>0</td>\n",
       "      <td>0</td>\n",
       "      <td>1</td>\n",
       "      <td>0</td>\n",
       "    </tr>\n",
       "    <tr>\n",
       "      <th>7</th>\n",
       "      <td>0</td>\n",
       "      <td>1</td>\n",
       "      <td>0</td>\n",
       "      <td>1</td>\n",
       "      <td>0</td>\n",
       "      <td>0</td>\n",
       "    </tr>\n",
       "    <tr>\n",
       "      <th>8</th>\n",
       "      <td>1</td>\n",
       "      <td>1</td>\n",
       "      <td>1</td>\n",
       "      <td>0</td>\n",
       "      <td>1</td>\n",
       "      <td>0</td>\n",
       "    </tr>\n",
       "    <tr>\n",
       "      <th>9</th>\n",
       "      <td>1</td>\n",
       "      <td>1</td>\n",
       "      <td>0</td>\n",
       "      <td>0</td>\n",
       "      <td>1</td>\n",
       "      <td>0</td>\n",
       "    </tr>\n",
       "    <tr>\n",
       "      <th>10</th>\n",
       "      <td>0</td>\n",
       "      <td>0</td>\n",
       "      <td>0</td>\n",
       "      <td>0</td>\n",
       "      <td>0</td>\n",
       "      <td>1</td>\n",
       "    </tr>\n",
       "  </tbody>\n",
       "</table>\n",
       "</div>"
      ],
      "text/plain": [
       "   달걀 라면 참치캔 햇반 콜라 양파\n",
       "1   1  1   1  0  0  0\n",
       "2   0  1   0  1  0  0\n",
       "3   0  1   0  0  1  0\n",
       "4   1  1   0  1  0  0\n",
       "5   1  0   0  0  1  0\n",
       "6   0  1   0  0  1  0\n",
       "7   0  1   0  1  0  0\n",
       "8   1  1   1  0  1  0\n",
       "9   1  1   0  0  1  0\n",
       "10  0  0   0  0  0  1"
      ]
     },
     "execution_count": 49,
     "metadata": {},
     "output_type": "execute_result"
    }
   ],
   "source": [
    "df_new"
   ]
  },
  {
   "cell_type": "code",
   "execution_count": null,
   "metadata": {},
   "outputs": [],
   "source": [
    "최소 지지도 요건 = 0.2\n",
    "\n",
    "P(달걀) = 0.5\n",
    "P(라면) = 0.8\n",
    "P(참치캔) = 0.2\n",
    "P(햇반) = 0.3\n",
    "P(콜라) = 0.5\n",
    "-----------------------------------\n",
    "P(양파) = 0.1"
   ]
  },
  {
   "cell_type": "code",
   "execution_count": null,
   "metadata": {},
   "outputs": [],
   "source": [
    "양파는 최소 지지도 요건을 만족하지 못하므로 양파가 포함된 superset들은 고려할 필요가 없다."
   ]
  },
  {
   "cell_type": "code",
   "execution_count": null,
   "metadata": {},
   "outputs": [],
   "source": [
    "P(라면,달걀) = 0.4 이런식으로 2개짜리 아이템 집합을 생성하여 표로 나타나면.."
   ]
  },
  {
   "cell_type": "code",
   "execution_count": 50,
   "metadata": {
    "ExecuteTime": {
     "end_time": "2020-07-16T06:53:44.516175Z",
     "start_time": "2020-07-16T06:53:44.506201Z"
    }
   },
   "outputs": [
    {
     "data": {
      "text/html": [
       "<div>\n",
       "<style scoped>\n",
       "    .dataframe tbody tr th:only-of-type {\n",
       "        vertical-align: middle;\n",
       "    }\n",
       "\n",
       "    .dataframe tbody tr th {\n",
       "        vertical-align: top;\n",
       "    }\n",
       "\n",
       "    .dataframe thead th {\n",
       "        text-align: right;\n",
       "    }\n",
       "</style>\n",
       "<table border=\"1\" class=\"dataframe\">\n",
       "  <thead>\n",
       "    <tr style=\"text-align: right;\">\n",
       "      <th></th>\n",
       "      <th>라면</th>\n",
       "      <th>달걀</th>\n",
       "      <th>콜라</th>\n",
       "      <th>햇반</th>\n",
       "      <th>참치캔</th>\n",
       "    </tr>\n",
       "  </thead>\n",
       "  <tbody>\n",
       "    <tr>\n",
       "      <th>라면</th>\n",
       "      <td>0.0</td>\n",
       "      <td>0.4</td>\n",
       "      <td>0.4</td>\n",
       "      <td>0.2</td>\n",
       "      <td>0.2</td>\n",
       "    </tr>\n",
       "    <tr>\n",
       "      <th>달걀</th>\n",
       "      <td>0.4</td>\n",
       "      <td>0.0</td>\n",
       "      <td>0.3</td>\n",
       "      <td>0.0</td>\n",
       "      <td>0.2</td>\n",
       "    </tr>\n",
       "    <tr>\n",
       "      <th>콜라</th>\n",
       "      <td>0.4</td>\n",
       "      <td>0.3</td>\n",
       "      <td>0.0</td>\n",
       "      <td>0.0</td>\n",
       "      <td>0.1</td>\n",
       "    </tr>\n",
       "    <tr>\n",
       "      <th>햇반</th>\n",
       "      <td>0.2</td>\n",
       "      <td>0.0</td>\n",
       "      <td>0.0</td>\n",
       "      <td>0.0</td>\n",
       "      <td>0.0</td>\n",
       "    </tr>\n",
       "    <tr>\n",
       "      <th>참치캔</th>\n",
       "      <td>0.2</td>\n",
       "      <td>0.2</td>\n",
       "      <td>0.1</td>\n",
       "      <td>0.0</td>\n",
       "      <td>0.0</td>\n",
       "    </tr>\n",
       "  </tbody>\n",
       "</table>\n",
       "</div>"
      ],
      "text/plain": [
       "      라면   달걀   콜라   햇반  참치캔\n",
       "라면   0.0  0.4  0.4  0.2  0.2\n",
       "달걀   0.4  0.0  0.3  0.0  0.2\n",
       "콜라   0.4  0.3  0.0  0.0  0.1\n",
       "햇반   0.2  0.0  0.0  0.0  0.0\n",
       "참치캔  0.2  0.2  0.1  0.0  0.0"
      ]
     },
     "execution_count": 50,
     "metadata": {},
     "output_type": "execute_result"
    }
   ],
   "source": [
    "pd.DataFrame(data = [[0, 0.4, 0.4, 0.2, 0.2],\n",
    "                     [0.4, 0, 0.3, 0, 0.2],\n",
    "                     [0.4, 0.3, 0, 0, 0.1],\n",
    "                     [0.2, 0, 0, 0, 0],\n",
    "                     [0.2, 0.2, 0.1, 0, 0]],\n",
    "            index = [\"라면\", \"달걀\", \"콜라\", \"햇반\", \"참치캔\"],\n",
    "            columns = [\"라면\", \"달걀\", \"콜라\", \"햇반\", \"참치캔\"])"
   ]
  },
  {
   "cell_type": "code",
   "execution_count": null,
   "metadata": {},
   "outputs": [],
   "source": [
    "위와같은 대각행렬의 형태. 여기에서도 최소 지지도 0.2를 채우지 못한 case들은 고려하지 않는다."
   ]
  },
  {
   "cell_type": "code",
   "execution_count": null,
   "metadata": {},
   "outputs": [],
   "source": [
    "이런식으로 최소 지지도 이상을 나타내는 아이템 집합이 없을때까지 item set의 크기를 1씩 증가시키며 반복수행한다.\n",
    "이렇게 구한 상위 연관규칙 3가지는"
   ]
  },
  {
   "cell_type": "code",
   "execution_count": 51,
   "metadata": {
    "ExecuteTime": {
     "end_time": "2020-07-16T06:57:26.509822Z",
     "start_time": "2020-07-16T06:57:26.499869Z"
    }
   },
   "outputs": [
    {
     "data": {
      "text/html": [
       "<div>\n",
       "<style scoped>\n",
       "    .dataframe tbody tr th:only-of-type {\n",
       "        vertical-align: middle;\n",
       "    }\n",
       "\n",
       "    .dataframe tbody tr th {\n",
       "        vertical-align: top;\n",
       "    }\n",
       "\n",
       "    .dataframe thead th {\n",
       "        text-align: right;\n",
       "    }\n",
       "</style>\n",
       "<table border=\"1\" class=\"dataframe\">\n",
       "  <thead>\n",
       "    <tr style=\"text-align: right;\">\n",
       "      <th></th>\n",
       "      <th>조건절</th>\n",
       "      <th>결과절</th>\n",
       "      <th>지지도</th>\n",
       "      <th>신뢰도</th>\n",
       "      <th>향상도</th>\n",
       "    </tr>\n",
       "  </thead>\n",
       "  <tbody>\n",
       "    <tr>\n",
       "      <th>0</th>\n",
       "      <td>참치캔</td>\n",
       "      <td>달걀, 라면</td>\n",
       "      <td>2</td>\n",
       "      <td>1</td>\n",
       "      <td>2.5</td>\n",
       "    </tr>\n",
       "    <tr>\n",
       "      <th>1</th>\n",
       "      <td>참치캔</td>\n",
       "      <td>달걀</td>\n",
       "      <td>2</td>\n",
       "      <td>1</td>\n",
       "      <td>2.0</td>\n",
       "    </tr>\n",
       "    <tr>\n",
       "      <th>2</th>\n",
       "      <td>라면, 참치캔</td>\n",
       "      <td>달걀</td>\n",
       "      <td>2</td>\n",
       "      <td>1</td>\n",
       "      <td>2.0</td>\n",
       "    </tr>\n",
       "  </tbody>\n",
       "</table>\n",
       "</div>"
      ],
      "text/plain": [
       "       조건절     결과절  지지도  신뢰도  향상도\n",
       "0      참치캔  달걀, 라면    2    1  2.5\n",
       "1      참치캔      달걀    2    1  2.0\n",
       "2  라면, 참치캔      달걀    2    1  2.0"
      ]
     },
     "execution_count": 51,
     "metadata": {},
     "output_type": "execute_result"
    }
   ],
   "source": [
    "pd.DataFrame(data = [\n",
    "                    [\"참치캔\", \"달걀, 라면\", 2, 1, 2.5],\n",
    "                    [\"참치캔\", \"달걀\", 2, 1, 2],\n",
    "                    [\"라면, 참치캔\", \"달걀\", 2, 1, 2]\n",
    "                    ],\n",
    "             columns = [\"조건절\", \"결과절\", \"지지도\", \"신뢰도\", \"향상도\"])"
   ]
  },
  {
   "cell_type": "code",
   "execution_count": null,
   "metadata": {},
   "outputs": [],
   "source": [
    "문서요약에도 적용 가능. 한문장을 트랜잭션 데이터로 상정, 문장내 출현한 단어를 아이템으로 놓고 같은 방식 적용\n",
    "여기서의 유의미한 규칙은 co-occurence 정보를 함축했을 것\n",
    "ex) 조건절 : (발, 없는, 말이) -> 결과절 (간다)"
   ]
  },
  {
   "cell_type": "code",
   "execution_count": null,
   "metadata": {},
   "outputs": [],
   "source": []
  },
  {
   "cell_type": "code",
   "execution_count": null,
   "metadata": {},
   "outputs": [],
   "source": []
  },
  {
   "cell_type": "code",
   "execution_count": null,
   "metadata": {},
   "outputs": [],
   "source": []
  },
  {
   "cell_type": "code",
   "execution_count": null,
   "metadata": {},
   "outputs": [],
   "source": []
  },
  {
   "cell_type": "code",
   "execution_count": null,
   "metadata": {},
   "outputs": [],
   "source": []
  }
 ],
 "metadata": {
  "kernelspec": {
   "display_name": "Python 3",
   "language": "python",
   "name": "python3"
  },
  "language_info": {
   "codemirror_mode": {
    "name": "ipython",
    "version": 3
   },
   "file_extension": ".py",
   "mimetype": "text/x-python",
   "name": "python",
   "nbconvert_exporter": "python",
   "pygments_lexer": "ipython3",
   "version": "3.7.6"
  },
  "toc": {
   "base_numbering": 1,
   "nav_menu": {},
   "number_sections": true,
   "sideBar": true,
   "skip_h1_title": false,
   "title_cell": "Table of Contents",
   "title_sidebar": "Contents",
   "toc_cell": false,
   "toc_position": {},
   "toc_section_display": true,
   "toc_window_display": false
  },
  "varInspector": {
   "cols": {
    "lenName": 16,
    "lenType": 16,
    "lenVar": 40
   },
   "kernels_config": {
    "python": {
     "delete_cmd_postfix": "",
     "delete_cmd_prefix": "del ",
     "library": "var_list.py",
     "varRefreshCmd": "print(var_dic_list())"
    },
    "r": {
     "delete_cmd_postfix": ") ",
     "delete_cmd_prefix": "rm(",
     "library": "var_list.r",
     "varRefreshCmd": "cat(var_dic_list()) "
    }
   },
   "types_to_exclude": [
    "module",
    "function",
    "builtin_function_or_method",
    "instance",
    "_Feature"
   ],
   "window_display": false
  }
 },
 "nbformat": 4,
 "nbformat_minor": 4
}
