{
 "cells": [
  {
   "cell_type": "code",
   "execution_count": null,
   "metadata": {},
   "outputs": [],
   "source": [
    "collaboration filtering에 deep learning을 결합한 방식인데 크게 성공한 방식은 없는걸로.."
   ]
  },
  {
   "cell_type": "code",
   "execution_count": null,
   "metadata": {},
   "outputs": [],
   "source": [
    "추천의 방법론..\n",
    "1 추천해야할 대상들의 정보로만 추천 리스트를만든다..\n",
    "2 user profile과 contextual parameters(상황 변수..?)와 추천 대상의 정보로 리스트를 만든다\n",
    "3 2에 community data를 포함해서 추천 리스트를 만든다..\n",
    "    (나이, 성별, 직업 등등 몇몇 사람들의 공통적 특성을 반영한다고 생각하면 될듯)\n",
    "4 2에 product features를 포함해서 추천리스트를 만든다\n",
    "5 4에 knowledge model을 포함해서 만든다. 나의 needs에 뭐가 적합한지 추천받는다.\n",
    "6 3에 product feature, knowledge model을 포함한다.(사실상 종합선물 세트)"
   ]
  },
  {
   "cell_type": "code",
   "execution_count": null,
   "metadata": {},
   "outputs": [],
   "source": [
    "볼츠만 머신(RBM)을 이용한 collaborative filtering"
   ]
  },
  {
   "cell_type": "code",
   "execution_count": null,
   "metadata": {},
   "outputs": [],
   "source": [
    "1. 각 unit은 active / not active 둘 중 하나의 state를 갖는다\n",
    "2. unit으로의 input은 weight와 연관\n",
    "3. transfer function Sigma는 input들의 weighted sum을 계산한다. 이 weighted sum = score\n",
    "4. score는 activation function으로 가는데.. 이 activation function은 unit이 active할 확률을 계산한다.\n",
    "5. 학습과정을 쉽게하기위해 몇몇 제한이 있음.\n",
    " - only one layer of hidden units\n",
    " - no connections between hidden units\n",
    " - hidden units are independent given visible states"
   ]
  },
  {
   "cell_type": "code",
   "execution_count": null,
   "metadata": {},
   "outputs": [],
   "source": [
    "each visible unit = item\n",
    "number of hidden units = parameter\n",
    "학습 phase(for each user)\n",
    " - If user rated item, v is activated\n",
    " - activation states of v = input of h (activation 상태가 hidden layer의 input)\n",
    " - based on activation, h is computed\n",
    " - activation state of h becomes input to v\n",
    " - activation state of v is recalculated\n",
    " - difference between current and past activation state for v used to update weights w and threshold\n",
    "input으로 v가 입력되고.. 계산된 h가 다시 v의 input이 되어 activation state를 재계산.\n",
    "최초 v와 재계산된 v의 차이가 weight와 threshold를 update하는데 이용된다.\n",
    "\n",
    "prediction phase\n",
    " - for the items of the user the v are activated\n",
    " - based on this state of the h is computed\n",
    " - activation of h is used as input to recompute the state of v\n",
    " - activation probabilities are used to recommend items\n",
    "v의 activation state에 따라 h가 계산되고..\n",
    "이 계산된 h는 다시 v를 재계산하는데 사용..\n",
    "v가 activate될 확률에 따라 item을 추천해준다."
   ]
  },
  {
   "cell_type": "code",
   "execution_count": null,
   "metadata": {},
   "outputs": [],
   "source": [
    "RBM이란 무엇인가.. Restricted Boltzmann machine\n",
    "visible layer와 hidden layer로 구성..\n",
    "같은 layer 내 노드끼리의 연결은 없으며 layer와 layer 사이의 연결만 존재한다.(restricted가 붙은 이유..)\n",
    "RBM도 back propagation 처럼 input에 weight곱하고 activation function을 이용하여 hidden layer의 weight를 구함.\n",
    "확률적으로 sampling해서..\n",
    "activation function의 결과값이 출력값이 아닌 노드의 값을 결정하기 위한 확률값..\n",
    "p(V = 1 | h) = sigma(sum w * h)"
   ]
  },
  {
   "cell_type": "code",
   "execution_count": null,
   "metadata": {},
   "outputs": [],
   "source": [
    "미지의 패턴이 너무 많아서 신경망에 확률 개념을 도입함.."
   ]
  },
  {
   "cell_type": "code",
   "execution_count": null,
   "metadata": {},
   "outputs": [],
   "source": [
    "에너지라는 개념ㅇ ㅣ있음..\n",
    "에너지는 마이너스부호를 갖고 가중치가 0보다 큰 수.\n",
    "입력과 출력이 양의 상관관계에 있을수록 에너지가 작아진다..\n",
    "입력이 -1일때 hidden layer의 결과가 -1이면 에너지가 최소.."
   ]
  },
  {
   "cell_type": "code",
   "execution_count": null,
   "metadata": {},
   "outputs": [],
   "source": []
  },
  {
   "cell_type": "code",
   "execution_count": null,
   "metadata": {},
   "outputs": [],
   "source": []
  },
  {
   "cell_type": "code",
   "execution_count": null,
   "metadata": {},
   "outputs": [],
   "source": []
  },
  {
   "cell_type": "code",
   "execution_count": null,
   "metadata": {},
   "outputs": [],
   "source": []
  }
 ],
 "metadata": {
  "kernelspec": {
   "display_name": "Python 3",
   "language": "python",
   "name": "python3"
  },
  "language_info": {
   "codemirror_mode": {
    "name": "ipython",
    "version": 3
   },
   "file_extension": ".py",
   "mimetype": "text/x-python",
   "name": "python",
   "nbconvert_exporter": "python",
   "pygments_lexer": "ipython3",
   "version": "3.7.6"
  },
  "toc": {
   "base_numbering": 1,
   "nav_menu": {},
   "number_sections": true,
   "sideBar": true,
   "skip_h1_title": false,
   "title_cell": "Table of Contents",
   "title_sidebar": "Contents",
   "toc_cell": false,
   "toc_position": {},
   "toc_section_display": true,
   "toc_window_display": false
  },
  "varInspector": {
   "cols": {
    "lenName": 16,
    "lenType": 16,
    "lenVar": 40
   },
   "kernels_config": {
    "python": {
     "delete_cmd_postfix": "",
     "delete_cmd_prefix": "del ",
     "library": "var_list.py",
     "varRefreshCmd": "print(var_dic_list())"
    },
    "r": {
     "delete_cmd_postfix": ") ",
     "delete_cmd_prefix": "rm(",
     "library": "var_list.r",
     "varRefreshCmd": "cat(var_dic_list()) "
    }
   },
   "types_to_exclude": [
    "module",
    "function",
    "builtin_function_or_method",
    "instance",
    "_Feature"
   ],
   "window_display": false
  }
 },
 "nbformat": 4,
 "nbformat_minor": 4
}
