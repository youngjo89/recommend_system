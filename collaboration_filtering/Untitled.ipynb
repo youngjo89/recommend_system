{
 "cells": [
  {
   "cell_type": "code",
   "execution_count": 4,
   "metadata": {
    "ExecuteTime": {
     "end_time": "2020-07-17T02:02:54.933950Z",
     "start_time": "2020-07-17T02:02:54.929960Z"
    }
   },
   "outputs": [],
   "source": [
    "import pandas as pd\n",
    "import numpy as np\n",
    "\n",
    "from sklearn.metrics.pairwise import cosine_similarity"
   ]
  },
  {
   "cell_type": "code",
   "execution_count": null,
   "metadata": {},
   "outputs": [],
   "source": [
    "https://scvgoe.github.io/"
   ]
  },
  {
   "cell_type": "code",
   "execution_count": null,
   "metadata": {},
   "outputs": [],
   "source": [
    "많은 유저들로부터 모은 취향정보를 바탕으로 예측하는 기술\n",
    "한 이슈에 대해 A와 B가 같은 의견을 가지면 다른 이슈에 대해서도 비슷한 의견을 보일것이다"
   ]
  },
  {
   "cell_type": "code",
   "execution_count": null,
   "metadata": {},
   "outputs": [],
   "source": [
    "다양한 협업 필터링이 존재.. 그중 memory-based"
   ]
  },
  {
   "cell_type": "code",
   "execution_count": null,
   "metadata": {},
   "outputs": [],
   "source": [
    "유사도를 기반으로 동작\n",
    "사용자-사용자 : user-based\n",
    "아이템-아이템 : item-based"
   ]
  },
  {
   "cell_type": "code",
   "execution_count": 21,
   "metadata": {
    "ExecuteTime": {
     "end_time": "2020-07-17T02:06:41.933150Z",
     "start_time": "2020-07-17T02:06:41.921161Z"
    }
   },
   "outputs": [
    {
     "data": {
      "text/html": [
       "<div>\n",
       "<style scoped>\n",
       "    .dataframe tbody tr th:only-of-type {\n",
       "        vertical-align: middle;\n",
       "    }\n",
       "\n",
       "    .dataframe tbody tr th {\n",
       "        vertical-align: top;\n",
       "    }\n",
       "\n",
       "    .dataframe thead th {\n",
       "        text-align: right;\n",
       "    }\n",
       "</style>\n",
       "<table border=\"1\" class=\"dataframe\">\n",
       "  <thead>\n",
       "    <tr style=\"text-align: right;\">\n",
       "      <th></th>\n",
       "      <th>공조</th>\n",
       "      <th>더킹</th>\n",
       "      <th>라라랜드</th>\n",
       "      <th>컨택트</th>\n",
       "      <th>너의이름은</th>\n",
       "    </tr>\n",
       "  </thead>\n",
       "  <tbody>\n",
       "    <tr>\n",
       "      <th>재석</th>\n",
       "      <td>5.0</td>\n",
       "      <td>4.0</td>\n",
       "      <td>4.0</td>\n",
       "      <td>3.0</td>\n",
       "      <td>NaN</td>\n",
       "    </tr>\n",
       "    <tr>\n",
       "      <th>명수</th>\n",
       "      <td>1.0</td>\n",
       "      <td>0.0</td>\n",
       "      <td>1.0</td>\n",
       "      <td>NaN</td>\n",
       "      <td>4.0</td>\n",
       "    </tr>\n",
       "    <tr>\n",
       "      <th>하하</th>\n",
       "      <td>4.0</td>\n",
       "      <td>4.0</td>\n",
       "      <td>NaN</td>\n",
       "      <td>5.0</td>\n",
       "      <td>3.0</td>\n",
       "    </tr>\n",
       "    <tr>\n",
       "      <th>준하</th>\n",
       "      <td>NaN</td>\n",
       "      <td>2.0</td>\n",
       "      <td>1.0</td>\n",
       "      <td>4.0</td>\n",
       "      <td>3.0</td>\n",
       "    </tr>\n",
       "    <tr>\n",
       "      <th>세형</th>\n",
       "      <td>4.0</td>\n",
       "      <td>NaN</td>\n",
       "      <td>4.0</td>\n",
       "      <td>4.0</td>\n",
       "      <td>2.0</td>\n",
       "    </tr>\n",
       "    <tr>\n",
       "      <th>광희</th>\n",
       "      <td>4.0</td>\n",
       "      <td>2.0</td>\n",
       "      <td>3.0</td>\n",
       "      <td>NaN</td>\n",
       "      <td>1.0</td>\n",
       "    </tr>\n",
       "  </tbody>\n",
       "</table>\n",
       "</div>"
      ],
      "text/plain": [
       "     공조   더킹  라라랜드  컨택트  너의이름은\n",
       "재석  5.0  4.0   4.0  3.0    NaN\n",
       "명수  1.0  0.0   1.0  NaN    4.0\n",
       "하하  4.0  4.0   NaN  5.0    3.0\n",
       "준하  NaN  2.0   1.0  4.0    3.0\n",
       "세형  4.0  NaN   4.0  4.0    2.0\n",
       "광희  4.0  2.0   3.0  NaN    1.0"
      ]
     },
     "execution_count": 21,
     "metadata": {},
     "output_type": "execute_result"
    }
   ],
   "source": [
    "df = pd.DataFrame(data = [[5, 4, 4, 3, np.NaN],\n",
    "                          [1, 0, 1, np.NaN, 4],\n",
    "                          [4, 4, np.NaN, 5, 3],\n",
    "                          [np.NaN, 2, 1, 4, 3],\n",
    "                          [4, np.NaN, 4, 4, 2],\n",
    "                          [4, 2, 3, np.NaN, 1]],\n",
    "                  index = [\"재석\", \"명수\", \"하하\", \"준하\", \"세형\", \"광희\"],\n",
    "                  columns = [\"공조\", \"더킹\", \"라라랜드\", \"컨택트\", \"너의이름은\"])\n",
    "\n",
    "df"
   ]
  },
  {
   "cell_type": "code",
   "execution_count": null,
   "metadata": {},
   "outputs": [],
   "source": [
    "각 영화를 0~5점으로 평가, nan은 평가를 하지 않은 항목"
   ]
  },
  {
   "cell_type": "code",
   "execution_count": null,
   "metadata": {},
   "outputs": [],
   "source": [
    "user-based\n",
    "dataframe의 row 하나를 벡터 하나로 생각할 수 있다.\n",
    "-> row들끼리 비교하여 유사도를 구할 수 있다.\n",
    "코사인 유사도, 피어슨 유사도를 보통 사용함.\n",
    "공통적으로 평가한 항목들만 이용함.\n",
    "ex) 재석, 명수 비교한다하면 -> 공조, 더킹, 라라랜드 3개를 이용해서 유사도 계산"
   ]
  },
  {
   "cell_type": "code",
   "execution_count": null,
   "metadata": {},
   "outputs": [],
   "source": [
    "코사인 유사도를 이용하여 명수와 준하의 유사도를 구한다.\n",
    "scikit learn에 cosine_similarity가 이미 구현되어있다."
   ]
  },
  {
   "cell_type": "code",
   "execution_count": 22,
   "metadata": {
    "ExecuteTime": {
     "end_time": "2020-07-17T02:06:43.695048Z",
     "start_time": "2020-07-17T02:06:43.690033Z"
    }
   },
   "outputs": [],
   "source": [
    "A = np.array(df.loc[\"명수\", df.loc[\"명수\"].notnull() & df.loc[\"준하\"].notnull()]).reshape(1, -1)\n",
    "B = np.array(df.loc[\"준하\", df.loc[\"명수\"].notnull() & df.loc[\"준하\"].notnull()]).reshape(1, -1)"
   ]
  },
  {
   "cell_type": "code",
   "execution_count": 23,
   "metadata": {
    "ExecuteTime": {
     "end_time": "2020-07-17T02:06:44.239637Z",
     "start_time": "2020-07-17T02:06:44.234673Z"
    }
   },
   "outputs": [
    {
     "data": {
      "text/plain": [
       "array([[0.84266484]])"
      ]
     },
     "execution_count": 23,
     "metadata": {},
     "output_type": "execute_result"
    }
   ],
   "source": [
    "cosine_similarity(A, B)"
   ]
  },
  {
   "cell_type": "code",
   "execution_count": null,
   "metadata": {},
   "outputs": [],
   "source": [
    "이런식으로 모든 사용자에 대한 유사도를 구할 수 있고. 세형의 더킹에 대한 평점을 예측한다고 할때\n",
    "1. 비슷한 몇명의 점수를 이용하여 예측\n",
    "2. 전체 대상으로 유사도 기반의 weighted sum으로 구한다."
   ]
  },
  {
   "cell_type": "code",
   "execution_count": null,
   "metadata": {},
   "outputs": [],
   "source": [
    "item-based\n",
    "아이템 간의 유사도를 계산.."
   ]
  },
  {
   "cell_type": "code",
   "execution_count": 25,
   "metadata": {
    "ExecuteTime": {
     "end_time": "2020-07-17T02:17:38.451448Z",
     "start_time": "2020-07-17T02:17:38.442492Z"
    }
   },
   "outputs": [
    {
     "data": {
      "text/html": [
       "<div>\n",
       "<style scoped>\n",
       "    .dataframe tbody tr th:only-of-type {\n",
       "        vertical-align: middle;\n",
       "    }\n",
       "\n",
       "    .dataframe tbody tr th {\n",
       "        vertical-align: top;\n",
       "    }\n",
       "\n",
       "    .dataframe thead th {\n",
       "        text-align: right;\n",
       "    }\n",
       "</style>\n",
       "<table border=\"1\" class=\"dataframe\">\n",
       "  <thead>\n",
       "    <tr style=\"text-align: right;\">\n",
       "      <th></th>\n",
       "      <th>재석</th>\n",
       "      <th>명수</th>\n",
       "      <th>하하</th>\n",
       "      <th>준하</th>\n",
       "      <th>세형</th>\n",
       "      <th>광희</th>\n",
       "    </tr>\n",
       "  </thead>\n",
       "  <tbody>\n",
       "    <tr>\n",
       "      <th>공조</th>\n",
       "      <td>5.0</td>\n",
       "      <td>1.0</td>\n",
       "      <td>4.0</td>\n",
       "      <td>NaN</td>\n",
       "      <td>4.0</td>\n",
       "      <td>4.0</td>\n",
       "    </tr>\n",
       "    <tr>\n",
       "      <th>더킹</th>\n",
       "      <td>4.0</td>\n",
       "      <td>0.0</td>\n",
       "      <td>4.0</td>\n",
       "      <td>2.0</td>\n",
       "      <td>NaN</td>\n",
       "      <td>2.0</td>\n",
       "    </tr>\n",
       "    <tr>\n",
       "      <th>라라랜드</th>\n",
       "      <td>4.0</td>\n",
       "      <td>1.0</td>\n",
       "      <td>NaN</td>\n",
       "      <td>1.0</td>\n",
       "      <td>4.0</td>\n",
       "      <td>3.0</td>\n",
       "    </tr>\n",
       "    <tr>\n",
       "      <th>컨택트</th>\n",
       "      <td>3.0</td>\n",
       "      <td>NaN</td>\n",
       "      <td>5.0</td>\n",
       "      <td>4.0</td>\n",
       "      <td>4.0</td>\n",
       "      <td>NaN</td>\n",
       "    </tr>\n",
       "    <tr>\n",
       "      <th>너의이름은</th>\n",
       "      <td>NaN</td>\n",
       "      <td>4.0</td>\n",
       "      <td>3.0</td>\n",
       "      <td>3.0</td>\n",
       "      <td>2.0</td>\n",
       "      <td>1.0</td>\n",
       "    </tr>\n",
       "  </tbody>\n",
       "</table>\n",
       "</div>"
      ],
      "text/plain": [
       "        재석   명수   하하   준하   세형   광희\n",
       "공조     5.0  1.0  4.0  NaN  4.0  4.0\n",
       "더킹     4.0  0.0  4.0  2.0  NaN  2.0\n",
       "라라랜드   4.0  1.0  NaN  1.0  4.0  3.0\n",
       "컨택트    3.0  NaN  5.0  4.0  4.0  NaN\n",
       "너의이름은  NaN  4.0  3.0  3.0  2.0  1.0"
      ]
     },
     "execution_count": 25,
     "metadata": {},
     "output_type": "execute_result"
    }
   ],
   "source": [
    "df_new = df.T\n",
    "df_new"
   ]
  },
  {
   "cell_type": "code",
   "execution_count": null,
   "metadata": {},
   "outputs": [],
   "source": [
    "공조와 라라랜드의 유사도를 구한다."
   ]
  },
  {
   "cell_type": "code",
   "execution_count": 27,
   "metadata": {
    "ExecuteTime": {
     "end_time": "2020-07-17T02:18:35.338739Z",
     "start_time": "2020-07-17T02:18:35.332755Z"
    }
   },
   "outputs": [],
   "source": [
    "A_new = np.array(df_new.loc[\"공조\", df_new.loc[\"공조\"].notnull() & df_new.loc[\"라라랜드\"].notnull()]).reshape(1, -1)\n",
    "B_new = np.array(df_new.loc[\"라라랜드\", df_new.loc[\"공조\"].notnull() & df_new.loc[\"라라랜드\"].notnull()]).reshape(1, -1)"
   ]
  },
  {
   "cell_type": "code",
   "execution_count": 28,
   "metadata": {
    "ExecuteTime": {
     "end_time": "2020-07-17T02:18:42.327565Z",
     "start_time": "2020-07-17T02:18:42.322556Z"
    }
   },
   "outputs": [
    {
     "data": {
      "text/plain": [
       "array([[0.9927901]])"
      ]
     },
     "execution_count": 28,
     "metadata": {},
     "output_type": "execute_result"
    }
   ],
   "source": [
    "cosine_similarity(A_new, B_new)"
   ]
  },
  {
   "cell_type": "code",
   "execution_count": null,
   "metadata": {},
   "outputs": [],
   "source": [
    "공조와 라라랜드는 매우 유사도가 높다 -> 공조를 좋아하는 사람은 라라랜드를 좋아할 확률이 높다 or 그반대"
   ]
  },
  {
   "cell_type": "code",
   "execution_count": null,
   "metadata": {},
   "outputs": [],
   "source": [
    "cosine similarity의 단점.\n",
    "두 벡터가 (5, 5, 5, 5, 5), (1, 1, 1, 1, 1)이라면..평가성향은 매우 반대이지만 유사도는 높게나옴.\n",
    "개인의 평가성향을 반영하기 힘듬\n",
    "데이터 수가 적으면 제대로 된 평가를 할 수 없다."
   ]
  },
  {
   "cell_type": "code",
   "execution_count": null,
   "metadata": {},
   "outputs": [],
   "source": [
    "위 단점을 보완하기 위해 나온 것이 피어슨 유사도. 코사인 유사도에서 사용자의 평균 평가값을 빼준다."
   ]
  },
  {
   "cell_type": "code",
   "execution_count": null,
   "metadata": {},
   "outputs": [],
   "source": [
    "아마존, 넷플릭스 등 대부분 아이템 기반을 활용.\n",
    "유저가 아이템을 평가하는 순간 다른 아이템을 추천 해야함 -> 유저의 평가 순간마다 유사도가 업데이트되야함\n",
    "-> 아이템 기반에서는 미리 아이템간의 유사도를 계산해놓고 활용할 수 있음.\n",
    "유저수보다 아이템수가 일반적으로 적음"
   ]
  },
  {
   "cell_type": "code",
   "execution_count": null,
   "metadata": {},
   "outputs": [],
   "source": []
  },
  {
   "cell_type": "code",
   "execution_count": null,
   "metadata": {},
   "outputs": [],
   "source": []
  }
 ],
 "metadata": {
  "kernelspec": {
   "display_name": "Python 3",
   "language": "python",
   "name": "python3"
  },
  "language_info": {
   "codemirror_mode": {
    "name": "ipython",
    "version": 3
   },
   "file_extension": ".py",
   "mimetype": "text/x-python",
   "name": "python",
   "nbconvert_exporter": "python",
   "pygments_lexer": "ipython3",
   "version": "3.7.6"
  },
  "toc": {
   "base_numbering": 1,
   "nav_menu": {},
   "number_sections": true,
   "sideBar": true,
   "skip_h1_title": false,
   "title_cell": "Table of Contents",
   "title_sidebar": "Contents",
   "toc_cell": false,
   "toc_position": {},
   "toc_section_display": true,
   "toc_window_display": false
  },
  "varInspector": {
   "cols": {
    "lenName": 16,
    "lenType": 16,
    "lenVar": 40
   },
   "kernels_config": {
    "python": {
     "delete_cmd_postfix": "",
     "delete_cmd_prefix": "del ",
     "library": "var_list.py",
     "varRefreshCmd": "print(var_dic_list())"
    },
    "r": {
     "delete_cmd_postfix": ") ",
     "delete_cmd_prefix": "rm(",
     "library": "var_list.r",
     "varRefreshCmd": "cat(var_dic_list()) "
    }
   },
   "types_to_exclude": [
    "module",
    "function",
    "builtin_function_or_method",
    "instance",
    "_Feature"
   ],
   "window_display": false
  }
 },
 "nbformat": 4,
 "nbformat_minor": 4
}
